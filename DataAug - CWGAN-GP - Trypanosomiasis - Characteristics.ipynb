{
 "cells": [
  {
   "cell_type": "markdown",
   "id": "f7008d99",
   "metadata": {},
   "source": [
    "# Data Augmentation - Conditional Wasserstein GANs - GP\n",
    "\n",
    "### Dataset: Trypanosomiasis Dataset\n",
    "\n",
    "This notebook presents first a statistical analyiss of the Trypanosomiasis Dataset and then the CWGAN-GP model to generate treated Intensity Data from this dataset.\n",
    "\n",
    "Notebook Organization:\n",
    "- Read and data pre-treatment of the dataset\n",
    "- Initial analysis of the full Trypanosomiasis dataset (univariate analysis, unsupervised and supervised multivariate analysis)\n",
    "- Setup the CWGAN-GP model and train the model with Trypanosomiasis intensity data\n",
    "- Generate artificial samples in an artificial dataset and compare them to the experimental data\n",
    "\n",
    "#### Due to stochasticity, re-running the notebook will get slightly different results. Thus, figures in the paper can be slightly different."
   ]
  },
  {
   "cell_type": "markdown",
   "id": "0d7a5f0a",
   "metadata": {},
   "source": [
    "#### Needed Imports"
   ]
  },
  {
   "cell_type": "code",
   "execution_count": null,
   "id": "cabb4fad",
   "metadata": {},
   "outputs": [],
   "source": [
    "import json\n",
    "from time import perf_counter\n",
    "\n",
    "import numpy as np\n",
    "import pandas as pd\n",
    "\n",
    "import scipy.spatial.distance as dist\n",
    "import scipy.cluster.hierarchy as hier\n",
    "import scipy.stats as stats\n",
    "import scipy.spatial\n",
    "\n",
    "import matplotlib.pyplot as plt\n",
    "import matplotlib as mpl\n",
    "import matplotlib.patches as mpatches\n",
    "import matplotlib.colors\n",
    "from matplotlib import ticker\n",
    "\n",
    "import seaborn as sns\n",
    "from collections import namedtuple, Counter\n",
    "\n",
    "from tqdm import tqdm\n",
    "from IPython import display as ipythondisplay\n",
    "\n",
    "import sklearn.ensemble as skensemble\n",
    "from sklearn.manifold import TSNE\n",
    "from sklearn.decomposition import PCA\n",
    "from sklearn.cross_decomposition import PLSRegression\n",
    "import sklearn.cluster as skclust\n",
    "from sklearn.model_selection import train_test_split, cross_val_score, StratifiedKFold, cross_validate, GridSearchCV\n",
    "from sklearn.metrics import (cohen_kappa_score, mean_squared_error, r2_score,\n",
    "                            adjusted_rand_score, roc_auc_score, roc_curve, auc, f1_score, silhouette_score)\n",
    "\n",
    "import tensorflow as tf\n",
    "from keras import backend\n",
    "\n",
    "import pickle\n",
    "\n",
    "# Metabolinks package\n",
    "import metabolinks as mtl\n",
    "import metabolinks.transformations as transf\n",
    "\n",
    "# Python files in the repository\n",
    "import multianalysis as ma\n",
    "from elips import plot_confidence_ellipse\n",
    "import gan_evaluation_metrics as gem\n",
    "import linear_augmentation_functions as laf"
   ]
  },
  {
   "cell_type": "code",
   "execution_count": null,
   "id": "5868147b",
   "metadata": {},
   "outputs": [],
   "source": [
    "# Import needed functions from GAN_functions\n",
    "from GAN_functions import gradient_penalty_cwgan\n",
    "from GAN_functions import critic_loss_wgan\n",
    "from GAN_functions import generator_loss_wgan"
   ]
  },
  {
   "cell_type": "markdown",
   "id": "cc86f4c8",
   "metadata": {},
   "source": [
    "### Description of Trypanosomiasis dataset\n",
    "\n",
    "Trypanosomiasis Dataset - 60 cerebrospinal fluid human samples belonging to 3 different classes (20 samples per class) of HILIC-Orbitrap metabolomics data. The 3 classes correspond to 20 control samples (healthy) and then 20 samples of both stage 1 and stage 2 of Human African Trypanosomiasis disease.\n",
    "\n",
    "Data acquired by Vincent et al. (2016) available at the MetaboLights repository:\n",
    "\n",
    "- Vincent, I. M. et al. Metabolomics Identifies Multiple Candidate Biomarkers to Diagnose and Stage Human African Trypanosomiasis. PLoS Negl. Trop. Dis. 10, e0005140 (2016). https://doi.org/10.1371/journal.pntd.0005140\n",
    "- https://www.ebi.ac.uk/metabolights/MTBLS413/descriptors - MetaboLights Repository\n",
    "\n",
    "Data obtained from MetaboLights ID MTBLS413.\n",
    "\n",
    "**Peak Alignment** and **Peak Filtering** were performed using mzMatch and IDEOM according to the authors indication. The cerebrospinal fluid (CSF) .tsv files were obtained from the repository in both positive and negative ionization modes (already filtered data). These files were joined together eliminating all repeating compounds except the 'repeating unknown' compounds. \n",
    "\n",
    "`TD` was the name given to this dataset generated retaining only features that occur (globally) at least twice in all 60 samples of the dataset."
   ]
  },
  {
   "cell_type": "markdown",
   "id": "a1ad162b",
   "metadata": {},
   "source": [
    "### Reading File and Data Analysis"
   ]
  },
  {
   "cell_type": "code",
   "execution_count": null,
   "id": "7d7e907f",
   "metadata": {},
   "outputs": [],
   "source": [
    "# Reading files already with non-repeating compounds\n",
    "base_file = pd.read_excel('modes_together_norepeats.xlsx')\n",
    "base_file = base_file.set_index('Unnamed: 0')\n",
    "base_file"
   ]
  },
  {
   "cell_type": "code",
   "execution_count": null,
   "id": "56d55111",
   "metadata": {},
   "outputs": [],
   "source": [
    "# Read a file with the peaks that are repeated still there to add the 'repeating unknowns' to the previous dataset\n",
    "base_file2 = pd.read_excel('tryp_modes_together.xlsx')\n",
    "base_file2 = base_file2.set_index('database_identifier')\n",
    "base_file2 = base_file2.replace({np.nan:0})\n",
    "df2 = pd.DataFrame(index=base_file2.index, columns=base_file2.columns[1:])\n",
    "for i in range(1, len(base_file2.columns)):\n",
    "    df2[base_file2.columns[i]] = base_file2.iloc[:,i] - base_file2.iloc[:,0]\n",
    "    for j in range(len(df2.index)):\n",
    "        if df2.iloc[j,i-1]<0:\n",
    "            df2.iloc[j,i-1] = 0.0"
   ]
  },
  {
   "cell_type": "code",
   "execution_count": null,
   "id": "e7cab063",
   "metadata": {},
   "outputs": [],
   "source": [
    "# Build the final DataFrame by concating the needed parts of the two Dataframes\n",
    "df = pd.concat((base_file.iloc[1:], df2.iloc[-3:])).T\n",
    "# Extract target list from the first DataFrame as well\n",
    "target = list(base_file.iloc[0].values)"
   ]
  },
  {
   "cell_type": "markdown",
   "id": "f57a8afc",
   "metadata": {},
   "source": [
    "Characteristics of the dataset"
   ]
  },
  {
   "cell_type": "code",
   "execution_count": null,
   "id": "838ba7a3",
   "metadata": {},
   "outputs": [],
   "source": [
    "data_characteristics = gem.characterize_data(df, target=target)\n",
    "data_characteristics"
   ]
  },
  {
   "cell_type": "markdown",
   "id": "6de2efdf",
   "metadata": {},
   "source": [
    "### Data Pre-Treatments"
   ]
  },
  {
   "cell_type": "code",
   "execution_count": null,
   "id": "f44ebc29",
   "metadata": {},
   "outputs": [],
   "source": [
    "# Represents Binary Simplification pre-treatment\n",
    "def df_to_bool(df):\n",
    "    \"Transforms data into 'binary' matrices.\"\n",
    "    return df.mask(df.notnull(), 1).mask(df.isnull(), 0)\n",
    "\n",
    "# Performs pre-treatment combinations\n",
    "def compute_transf(df, norm_ref=None, lamb=None):\n",
    "    \"Computes combinations of pre-treatments and BinSim and returns after treatment datasets in a dict.\"\n",
    "    \n",
    "    data = df.copy()\n",
    "    \n",
    "    # Imputation of Missing Values\n",
    "    imputed = transf.fillna_frac_min_feature(data.T, fraction=0.2).T\n",
    "\n",
    "    # Normalization\n",
    "    if norm_ref is not None:\n",
    "        # Normalization by a reference feature\n",
    "        norm = transf.normalize_ref_feature(imputed, norm_ref, remove=True)\n",
    "    else:\n",
    "        # Normalization by the total sum of intensities\n",
    "        norm = transf.normalize_sum(imputed)\n",
    "        # Normalization by PQN\n",
    "        #norm = transf.normalize_PQN(imputed, ref_sample='mean')\n",
    "    \n",
    "    # Pareto Scaling and Generalized Logarithmic Transformation\n",
    "    P = transf.pareto_scale(imputed)\n",
    "    NP = transf.pareto_scale(norm)\n",
    "    NGP = transf.pareto_scale(transf.glog(norm, lamb=lamb))\n",
    "    GP = transf.pareto_scale(transf.glog(imputed, lamb=lamb))\n",
    "    \n",
    "    # Store results\n",
    "    dataset = {}\n",
    "    dataset['data'] = df\n",
    "\n",
    "    dataset['BinSim'] = df_to_bool(data)\n",
    "    dataset['Ionly'] = imputed\n",
    "    dataset['P'] = P\n",
    "    dataset['NP'] = NP\n",
    "    dataset['GP'] = GP\n",
    "    dataset['NGP'] = NGP\n",
    "    \n",
    "    return dataset"
   ]
  },
  {
   "cell_type": "code",
   "execution_count": null,
   "id": "8cc8ffa6",
   "metadata": {},
   "outputs": [],
   "source": [
    "# Performing the data pre-treatments\n",
    "df = df.replace({0:np.nan})\n",
    "tryp_df = compute_transf(df, norm_ref=None, lamb=None)"
   ]
  },
  {
   "cell_type": "code",
   "execution_count": null,
   "id": "b5d77d54",
   "metadata": {},
   "outputs": [],
   "source": [
    "gem.characterize_binary_data(tryp_df['BinSim'], target=target)"
   ]
  },
  {
   "cell_type": "code",
   "execution_count": null,
   "id": "c9b96480",
   "metadata": {},
   "outputs": [],
   "source": [
    "# See the differences in intensities between samples to see if normalization is required\n",
    "f, ax = plt.subplots(1,1, figsize=(16,6))\n",
    "\n",
    "plt.bar(df.index, df.sum(axis=1))\n",
    "plt.ylabel('Sum of Intensities', fontsize=15)\n",
    "plt.xlabel('Samples', fontsize=15)\n",
    "plt.show()"
   ]
  },
  {
   "cell_type": "markdown",
   "id": "257a95a9",
   "metadata": {},
   "source": [
    "#### Colors for plots to ensure consistency"
   ]
  },
  {
   "cell_type": "code",
   "execution_count": null,
   "id": "de5a9526",
   "metadata": {},
   "outputs": [],
   "source": [
    "colours = sns.color_palette('Set1', 3)\n",
    "\n",
    "ordered_labels = ['control', 'stage1', 'stage2']\n",
    "\n",
    "label_colors = {lbl: c for lbl, c in zip(ordered_labels, colours)}\n",
    "sample_colors = [label_colors[lbl] for lbl in target]\n",
    "\n",
    "sns.palplot(label_colors.values())\n",
    "new_ticks = plt.xticks(range(len(ordered_labels)), ordered_labels)"
   ]
  },
  {
   "cell_type": "markdown",
   "id": "6d2e8af1",
   "metadata": {},
   "source": [
    "### Calculating Silhouette Coefficient\n",
    "\n",
    "The Silhouette coefficient was calculated (with scikit learn's `silhouette score`) using the class labels as the clusters in order to give a measure of how overlapped the biological classes are between the different datasets.\n",
    "\n",
    "The coefficient was calculated using all features of the dataset after pre-treatment and using the PCA Scores of the 2 first Principal Components."
   ]
  },
  {
   "cell_type": "code",
   "execution_count": null,
   "id": "254b3b62",
   "metadata": {},
   "outputs": [],
   "source": [
    "# Silhoutte Coefficient based on all the features of the dataset after pre-treatment\n",
    "print('Calculation based on all the features of the dataset after pre-treatment')\n",
    "print('Silhouette Coefficient:', silhouette_score(tryp_df['NGP'], target))"
   ]
  },
  {
   "cell_type": "code",
   "execution_count": null,
   "id": "e2b2e0ad",
   "metadata": {},
   "outputs": [],
   "source": [
    "# Silhoutte Coefficient based on the PCA Scores of the samples on the 2 first Principal Components\n",
    "principaldf, var = ma.compute_df_with_PCs(tryp_df['NGP'], n_components=2, whiten=True,\n",
    "                                          labels=target, return_var_ratios=True)\n",
    "s_score = silhouette_score(principaldf.iloc[:,:2], target)\n",
    "print('Calculation based on the PCA Scores of the samples on the 2 first Principal Components')\n",
    "print('Silhouette Coefficient:', s_score)"
   ]
  },
  {
   "cell_type": "markdown",
   "id": "5f5e05bc",
   "metadata": {},
   "source": [
    "## Unsupervised Analysis"
   ]
  },
  {
   "cell_type": "markdown",
   "id": "d65f5350",
   "metadata": {},
   "source": [
    "#### PCA Projection"
   ]
  },
  {
   "cell_type": "code",
   "execution_count": null,
   "id": "d67384d7",
   "metadata": {},
   "outputs": [],
   "source": [
    "# Functions to plot PCA\n",
    "def plot_PCA(principaldf, label_colors, components=(1,2), title=\"PCA\", ax=None):\n",
    "    \"Plot the projection of samples in the 2 main components of a PCA model.\"\n",
    "    \n",
    "    if ax is None:\n",
    "        ax = plt.gca()\n",
    "    \n",
    "    loc_c1, loc_c2 = [c - 1 for c in components]\n",
    "    col_c1_name, col_c2_name = principaldf.columns[[loc_c1, loc_c2]]\n",
    "    \n",
    "    #ax.axis('equal')\n",
    "    ax.set_xlabel(f'{col_c1_name}')\n",
    "    ax.set_ylabel(f'{col_c2_name}')\n",
    "\n",
    "    unique_labels = principaldf['Label'].unique()\n",
    "\n",
    "    for lbl in unique_labels:\n",
    "        subset = principaldf[principaldf['Label']==lbl]\n",
    "        ax.scatter(subset[col_c1_name],\n",
    "                   subset[col_c2_name],\n",
    "                   s=50, color=label_colors[lbl], label=lbl)\n",
    "\n",
    "    #ax.legend(framealpha=1)\n",
    "    ax.set_title(title, fontsize=15)\n",
    "\n",
    "def plot_ellipses_PCA(principaldf, label_colors, components=(1,2),ax=None, q=None, nstd=2):\n",
    "    \"Plot confidence ellipses of a class' samples based on their projection in the 2 main components of a PCA model.\"\n",
    "    \n",
    "    if ax is None:\n",
    "        ax = plt.gca()\n",
    "    \n",
    "    loc_c1, loc_c2 = [c - 1 for c in components]\n",
    "    points = principaldf.iloc[:, [loc_c1, loc_c2]]\n",
    "    \n",
    "    #ax.axis('equal')\n",
    "\n",
    "    unique_labels = principaldf['Label'].unique()\n",
    "\n",
    "    for lbl in unique_labels:\n",
    "        subset_points = points[principaldf['Label']==lbl]\n",
    "        plot_confidence_ellipse(subset_points, q, nstd, ax=ax, ec=label_colors[lbl], fc='none')\n"
   ]
  },
  {
   "cell_type": "code",
   "execution_count": null,
   "id": "57f3943f",
   "metadata": {},
   "outputs": [],
   "source": [
    "f, ax = plt.subplots(1, 1, figsize=(8,8))\n",
    "\n",
    "# Perform PCA after autoscaling of the original data\n",
    "tf_df = transf.FeatureScaler(method='standard')\n",
    "df = tf_df.fit_transform(tryp_df['Ionly'])\n",
    "\n",
    "principaldf, var = ma.compute_df_with_PCs(df, n_components=2, whiten=True, labels=target, return_var_ratios=True)\n",
    "\n",
    "# Plot PCA\n",
    "ax.axis('equal')\n",
    "lcolors = label_colors\n",
    "\n",
    "gem.plot_PCA(principaldf, lcolors, components=(1,2), title='', ax=ax)\n",
    "plot_ellipses_PCA(principaldf, lcolors, components=(1,2),ax=ax, q=0.95)\n",
    "\n",
    "ax.set_xlabel(f'PC 1 ({var[0] * 100:.1f} %)')\n",
    "ax.set_ylabel(f'PC 2 ({var[1] * 100:.1f} %)')\n",
    "\n",
    "plt.legend()\n",
    "plt.show()"
   ]
  },
  {
   "cell_type": "markdown",
   "id": "9defd88d",
   "metadata": {},
   "source": [
    "#### Hierarchical Clustering Analysis (HCA)"
   ]
  },
  {
   "cell_type": "code",
   "execution_count": null,
   "id": "4b962aa0",
   "metadata": {},
   "outputs": [],
   "source": [
    "def perform_HCA(df, metric='euclidean', method='average'):\n",
    "    \"Performs Hierarchical Clustering Analysis of a data set with chosen linkage method and distance metric.\"\n",
    "    \n",
    "    distances = dist.pdist(df, metric=metric)\n",
    "    \n",
    "    # method is one of\n",
    "    # ward, average, centroid, single, complete, weighted, median\n",
    "    Z = hier.linkage(distances, method=method)\n",
    "\n",
    "    # Cophenetic Correlation Coefficient\n",
    "    # (see how the clustering - from hier.linkage - preserves the original distances)\n",
    "    coph = hier.cophenet(Z, distances)\n",
    "    # Baker's gamma\n",
    "    mr = ma.mergerank(Z)\n",
    "    bg = mr[mr!=0]\n",
    "\n",
    "    return {'Z': Z, 'distances': distances, 'coph': coph, 'merge_rank': mr, \"Baker's Gamma\": bg}"
   ]
  },
  {
   "cell_type": "code",
   "execution_count": null,
   "id": "c00106eb",
   "metadata": {},
   "outputs": [],
   "source": [
    "HCA_all = {}\n",
    "for treat in 'P', 'NP', 'GP', 'NGP', 'BinSim':\n",
    "    print(f'Performing HCA with treatment {treat}', end=' ...')\n",
    "    metric = 'jaccard' if treat == 'BinSim' else 'euclidean'\n",
    "    HCA_all[treat] = perform_HCA(tryp_df[treat], metric=metric, method='ward')\n",
    "    print('done!')"
   ]
  },
  {
   "cell_type": "code",
   "execution_count": null,
   "id": "1eeb1d2b",
   "metadata": {},
   "outputs": [],
   "source": [
    "with sns.axes_style(\"white\"):\n",
    "    f, axs = plt.subplots(1, 4, figsize=(14, 8), constrained_layout=True)\n",
    "    \n",
    "    for treatment, ax in zip(('P', 'NP', 'GP', 'NGP'), axs.ravel()):\n",
    "        gem.plot_dendogram(HCA_all[treatment]['Z'], \n",
    "                       target, ax=ax,\n",
    "                       label_colors=label_colors,\n",
    "                       title=treatment, color_threshold=0)\n",
    "\n",
    "    st = f.suptitle(f\"1/5 Min Imputation\", fontsize=16)\n",
    "    plt.show()"
   ]
  },
  {
   "cell_type": "code",
   "execution_count": null,
   "id": "b63db81e",
   "metadata": {},
   "outputs": [],
   "source": [
    "with sns.axes_style(\"white\"):\n",
    "    f, axs = plt.subplots(1, 1, figsize=(4, 8), constrained_layout=True)\n",
    "    \n",
    "    treatment = 'BinSim'\n",
    "    ax = axs\n",
    "    gem.plot_dendogram(HCA_all[treatment]['Z'], \n",
    "                   target, ax=ax,\n",
    "                   label_colors=label_colors,\n",
    "                   title=treatment, color_threshold=0)\n",
    "\n",
    "    plt.show()"
   ]
  },
  {
   "cell_type": "code",
   "execution_count": null,
   "id": "585aae24",
   "metadata": {},
   "outputs": [],
   "source": [
    "def compute_clustering_metrics(res_dict, labels):\n",
    "    \"\"\"Fill dict with clustering performance metrics.\"\"\"\n",
    "    \n",
    "    discrim = ma.dist_discrim(res_dict['Z'], labels, # all samples have the same order\n",
    "                              method = 'average')\n",
    "    res_dict['Average discrim dist'] = discrim[0]\n",
    "    correct = np.array(list(discrim[1].values()))\n",
    "    \n",
    "    classes = pd.unique(labels)\n",
    "    res_dict['% correct clustering'] = (100/len(classes)) * len(correct[correct>0])\n",
    "\n",
    "    # Correct First Cluster Percentage\n",
    "    res_dict['% correct 1st clustering'] = 100 * ma.correct_1stcluster_fraction(res_dict['Z'],labels)"
   ]
  },
  {
   "cell_type": "code",
   "execution_count": null,
   "id": "cce1f91c",
   "metadata": {},
   "outputs": [],
   "source": [
    "for name, res_dict in HCA_all.items():\n",
    "    compute_clustering_metrics(res_dict, target)\n",
    "\n",
    "# Build table - summary of results\n",
    "clust_performance = {}\n",
    "\n",
    "for metric in ('Average discrim dist', '% correct clustering', '% correct 1st clustering'):\n",
    "    clust_performance[metric] = {d: HCA_all[d][metric] for d in HCA_all}\n",
    "clust_performance = pd.DataFrame(clust_performance, index=HCA_all)\n",
    "clust_performance"
   ]
  },
  {
   "cell_type": "markdown",
   "id": "12577109",
   "metadata": {},
   "source": [
    "#### K-Means Clustering"
   ]
  },
  {
   "cell_type": "code",
   "execution_count": null,
   "id": "37b7c04a",
   "metadata": {},
   "outputs": [],
   "source": [
    "def perform_KMeans(dataset, treatment, iter_num=150, best_fraction=0.1):\n",
    "    \"Perform K-means Clustering Analysis and calculate discrimination evaluation metrics.\"\n",
    "    \n",
    "    sample_labels = target\n",
    "    n_classes = len(pd.unique(sample_labels))\n",
    "    \n",
    "    df = dataset[treatment]\n",
    "    \n",
    "    discrim = ma.Kmeans_discrim(df, sample_labels,\n",
    "                                method='average', \n",
    "                                iter_num=iter_num,\n",
    "                                best_fraction=best_fraction)\n",
    "\n",
    "    \n",
    "    # Lists for the results of the best k-means clustering\n",
    "    average = []\n",
    "    correct = []\n",
    "    rand = []\n",
    "    \n",
    "    for j in discrim:\n",
    "        global_disc_dist, disc_dists, rand_index, SSE = discrim[j]\n",
    "        \n",
    "        # Average of discrimination distances\n",
    "        average.append(global_disc_dist) \n",
    "        \n",
    "        # Correct Clustering Percentages\n",
    "        all_correct = np.array(list(disc_dists.values()))\n",
    "        correct.append(len(all_correct[all_correct>0]))\n",
    "        \n",
    "        # Adjusted Rand Index\n",
    "        rand.append(rand_index) \n",
    "    \n",
    "    return{'dataset': dataset,\n",
    "           'treatment': treatment,\n",
    "           'Discrimination Distance': np.median(average),\n",
    "           '% correct clusters':np.median(correct)*100/n_classes,\n",
    "           'Rand Index': np.median(rand)}"
   ]
  },
  {
   "cell_type": "code",
   "execution_count": null,
   "id": "eff702d0",
   "metadata": {},
   "outputs": [],
   "source": [
    "iter_num=15\n",
    "\n",
    "KMeans_all = []\n",
    "\n",
    "for treatment in ('P', 'NP', 'GP', 'NGP', 'BinSim'):\n",
    "    print(f'performing KMeans with treatment {treatment}' , end=' ...')\n",
    "    KMeans_all.append(perform_KMeans(tryp_df, treatment, iter_num=iter_num))\n",
    "    print('done!')        "
   ]
  },
  {
   "cell_type": "code",
   "execution_count": null,
   "id": "13525a48",
   "metadata": {},
   "outputs": [],
   "source": [
    "KMeans_all = pd.DataFrame(KMeans_all).iloc[:,1:]\n",
    "KMeans_all"
   ]
  },
  {
   "cell_type": "markdown",
   "id": "954c7e06",
   "metadata": {},
   "source": [
    "### Supervised Analysis\n",
    "\n",
    "#### Random Forest (RF)\n",
    "\n",
    "Optimization of the number of trees."
   ]
  },
  {
   "cell_type": "code",
   "execution_count": null,
   "id": "1f3c7f16",
   "metadata": {},
   "outputs": [],
   "source": [
    "GENERATE = True\n",
    "np.random.seed(5)\n",
    "if GENERATE:\n",
    "\n",
    "    # Vector with values for the parameter n_estimators\n",
    "    # Models will be built from 10 to 200 trees in 5 tree intervals\n",
    "    top_tree_in_grid=200\n",
    "    values = {'n_estimators': range(10,top_tree_in_grid,5)}\n",
    "    \n",
    "    rf = skensemble.RandomForestClassifier(n_estimators=200)\n",
    "    clf = GridSearchCV(rf, values, cv=5)\n",
    "\n",
    "    # For each dataset,building the Random Forest models with the different number of trees\n",
    "    # and storing the predictive accuracy\n",
    "    RF_optim = {}\n",
    "    for treatment in ('P', 'NP', 'GP', 'NGP', 'BinSim'):\n",
    "        print('Fitting to pre-treatment', treatment, '...', end=' ')\n",
    "        rfname = treatment\n",
    "        RF_optim[rfname] = {'treatment':treatment}\n",
    "        clf.fit(tryp_df[treatment], target)\n",
    "\n",
    "        RF_optim[rfname]['scores'] = list(clf.cv_results_['mean_test_score'])\n",
    "        RF_optim[rfname]['n_trees'] = list(clf.cv_results_['param_n_estimators'])\n",
    "\n",
    "        print('Done!')"
   ]
  },
  {
   "cell_type": "code",
   "execution_count": null,
   "id": "eea9c242",
   "metadata": {},
   "outputs": [],
   "source": [
    "# Plotting the results and adjusting parameters of the plot\n",
    "def plot_RF_otimization_ntrees(RF_optim, ax=None, ylabel='', title='', ylim=(30,101)):\n",
    "    p7 = sns.color_palette('tab20', 9)\n",
    "    to_plot = [optim for key, optim in RF_optim.items()]\n",
    "    treatments = ('P', 'NP', 'GP', 'NGP', 'BinSim')\n",
    "    if ax is None:\n",
    "        ax = plt.gca()\n",
    "    for treatment, color in zip(treatments, p7):\n",
    "        for optim in to_plot:\n",
    "            if optim['treatment'] == treatment:\n",
    "                break\n",
    "        ax.plot(optim['n_trees'], [s*100 for s in optim['scores']], label=treatment, color=color)\n",
    "    ax.set(ylabel=ylabel, xlabel='Number of Trees', ylim=ylim, title=title)\n",
    "    ax.legend()\n",
    "\n",
    "with sns.axes_style(\"whitegrid\"):\n",
    "    with sns.plotting_context(\"notebook\", font_scale=1.2):\n",
    "        f, ax = plt.subplots(1, 1, figsize=(6,6), constrained_layout=True)\n",
    "        \n",
    "        plot_RF_otimization_ntrees(RF_optim, ax=ax,\n",
    "                                   ylabel='Random Forest CV Mean Accuracy (%)',\n",
    "                                   title='')\n",
    "\n",
    "        f.suptitle('Optimization of the number of trees')\n",
    "\n",
    "        plt.show()"
   ]
  },
  {
   "cell_type": "markdown",
   "id": "c4fc8fb0",
   "metadata": {},
   "source": [
    "Fitting the model"
   ]
  },
  {
   "cell_type": "code",
   "execution_count": null,
   "id": "f75bcfa2",
   "metadata": {},
   "outputs": [],
   "source": [
    "iter_num=20\n",
    "\n",
    "RF_all = {}\n",
    "\n",
    "# Application of the Random Forests for each differently-treated dataset\n",
    "for treatment in ('P', 'NP', 'GP', 'NGP', 'BinSim'):\n",
    "    print(f'Fitting random forest with treatment {treatment}', end=' ...')\n",
    "    rfname = treatment\n",
    "    RF_all[rfname] = {'treatment':treatment}\n",
    "    n_fold = 5\n",
    "\n",
    "    fit = ma.RF_model_CV(tryp_df[treatment], target, iter_num=iter_num, n_fold=n_fold, n_trees=100)\n",
    "    RF_all[rfname].update(fit)\n",
    "\n",
    "    print(f'done')    "
   ]
  },
  {
   "cell_type": "code",
   "execution_count": null,
   "id": "68ef0551",
   "metadata": {},
   "outputs": [],
   "source": [
    "# Accuracy across the iterations\n",
    "accuracies = pd.DataFrame({name: RF_all[name]['accuracy'] for name in RF_all})\n",
    "\n",
    "accuracy_stats = pd.DataFrame({'Average accuracy': accuracies.mean(axis=0),\n",
    "                               'STD': accuracies.std(axis=0)})\n",
    "accuracy_stats = accuracy_stats.assign(treatment=[RF_all[name]['treatment'] for name in RF_all])\n",
    "accuracy_stats"
   ]
  },
  {
   "cell_type": "markdown",
   "id": "3b2dc9e8",
   "metadata": {},
   "source": [
    "#### PLS-DA\n",
    "\n",
    "Optimize number of components"
   ]
  },
  {
   "cell_type": "code",
   "execution_count": null,
   "id": "7c80882b",
   "metadata": {},
   "outputs": [],
   "source": [
    "%%capture --no-stdout\n",
    "# above is to supress PLS warnings\n",
    "np.random.seed(5)\n",
    "max_comp=20\n",
    "\n",
    "# Store Results\n",
    "PLS_optim = {}\n",
    "\n",
    "for treatment in ('P', 'NP', 'GP', 'NGP', 'BinSim'):\n",
    "    print(f'Fitting PLS-DA model with treatment {treatment}', end=' ...')\n",
    "    plsdaname = treatment\n",
    "    PLS_optim[plsdaname] = {'treatment':treatment}\n",
    "    n_fold = 5\n",
    "    optim = ma.optim_PLSDA_n_components(tryp_df[treatment], target,\n",
    "                                        max_comp=max_comp, n_fold=n_fold).CVscores\n",
    "    PLS_optim[plsdaname]['CV_scores'] = optim\n",
    "    print(f'done')"
   ]
  },
  {
   "cell_type": "code",
   "execution_count": null,
   "id": "29eb1d8d",
   "metadata": {},
   "outputs": [],
   "source": [
    "PLS_optim['NGP']['CV_scores']"
   ]
  },
  {
   "cell_type": "code",
   "execution_count": null,
   "id": "9a912afe",
   "metadata": {},
   "outputs": [],
   "source": [
    "# Plotting the results and adjusting plot parameters\n",
    "with sns.axes_style(\"whitegrid\"):\n",
    "    with sns.plotting_context(\"notebook\", font_scale=1.2):\n",
    "        f, ax = plt.subplots(1, 1, figsize = (8,8))\n",
    "        for name, data in PLS_optim.items():\n",
    "\n",
    "            # Negative Grapevine Dataset\n",
    "            ax.plot(range(1, len(data['CV_scores']) + 1), data['CV_scores'],\n",
    "                     label=data['treatment'])\n",
    "            ax.set(xlabel='Number of Components',\n",
    "                    ylabel='PLS Score (1 - PRESS/SS)',\n",
    "                    title='Negative Mode Grapevine Dataset')\n",
    "            ax.legend()\n",
    "            ax.set_ylim([0, 1])\n",
    "\n",
    "        plt.tight_layout()\n",
    "        plt.show()"
   ]
  },
  {
   "cell_type": "markdown",
   "id": "04fcb696",
   "metadata": {},
   "source": [
    "Fit the model"
   ]
  },
  {
   "cell_type": "code",
   "execution_count": null,
   "id": "5c0220b6",
   "metadata": {},
   "outputs": [],
   "source": [
    "%%capture --no-stdout\n",
    "\n",
    "PLSDA_all = {}\n",
    "\n",
    "# NOTE: for debugging\n",
    "iter_num=20\n",
    "\n",
    "for treatment in ('P', 'NP', 'GP', 'NGP', 'BinSim'):\n",
    "    print(f'Fitting a PLS-DA model with treatment {treatment}', end=' ...')\n",
    "    plsdaname = treatment\n",
    "    PLSDA_all[plsdaname] = {'treatment':treatment}\n",
    "    n_comp = 6\n",
    "    n_fold = 5\n",
    "    fit = ma.PLSDA_model_CV(tryp_df[treatment], target,\n",
    "                            n_comp=n_comp, n_fold=n_fold,\n",
    "                            iter_num=iter_num,\n",
    "                            feat_type='VIP')\n",
    "    PLSDA_all[plsdaname].update(fit)\n",
    "    print(f'done')     "
   ]
  },
  {
   "cell_type": "code",
   "execution_count": null,
   "id": "833e8d71",
   "metadata": {},
   "outputs": [],
   "source": [
    "# Accuracy across the iterations\n",
    "accuracies = pd.DataFrame({name: PLSDA_all[name]['accuracy'] for name in PLSDA_all})\n",
    "\n",
    "accuracy_stats = pd.DataFrame({'Average accuracy': accuracies.mean(axis=0),\n",
    "                               'STD': accuracies.std(axis=0)})\n",
    "accuracy_stats = accuracy_stats.assign(treatment=[PLSDA_all[name]['treatment'] for name in PLSDA_all])\n",
    "accuracy_stats"
   ]
  },
  {
   "cell_type": "markdown",
   "id": "ab73b9f5",
   "metadata": {},
   "source": [
    "#### Univariate Analysis"
   ]
  },
  {
   "cell_type": "code",
   "execution_count": null,
   "id": "fb1c306c",
   "metadata": {},
   "outputs": [],
   "source": [
    "# Giving a different feature names to the 'unknown features'\n",
    "tryp_df['data'].columns = list(tryp_df['data'].columns[:-3]) + ['unknown1'] + ['unknown2'] + ['unknown3']\n",
    "tryp_df['BinSim'].columns = list(tryp_df['BinSim'].columns[:-3]) + ['unknown1'] + ['unknown2'] + ['unknown3']\n",
    "tryp_df['Ionly'].columns = list(tryp_df['Ionly'].columns[:-3]) + ['unknown1'] + ['unknown2'] + ['unknown3']\n",
    "tryp_df['GP'].columns = list(tryp_df['GP'].columns[:-3]) + ['unknown1'] + ['unknown2'] + ['unknown3']\n",
    "tryp_df['NGP'].columns = list(tryp_df['NGP'].columns[:-3]) + ['unknown1'] + ['unknown2'] + ['unknown3']"
   ]
  },
  {
   "cell_type": "code",
   "execution_count": null,
   "id": "0154feff",
   "metadata": {},
   "outputs": [],
   "source": [
    "import itertools\n",
    "\n",
    "alpha = 0.005\n",
    "abs_log2FC_threshold = 1\n",
    "\n",
    "univariate_results = {}\n",
    "\n",
    "for a,b in itertools.combinations(pd.unique(target),2):\n",
    "    print(a,b)\n",
    "    selection = [i in [a, b] for i in target]\n",
    "    target_temp = list(np.array(target)[selection])\n",
    "    \n",
    "    df_temp = tryp_df['data'].loc[selection, :].copy()\n",
    "    df_temp = transf.keep_atleast(df_temp, minimum=2)\n",
    "    df_I = transf.fillna_frac_min_feature(df_temp.T, fraction=0.2).T\n",
    "    df_N = transf.normalize_sum(df_I)\n",
    "    df_GP = transf.pareto_scale(transf.glog(df_N, lamb=None))\n",
    "    \n",
    "    uni_results = ma.compute_FC_pvalues_2groups(\n",
    "                              normalized=df_N, # Used for Fold-Change Computation\n",
    "                              processed=df_GP, # Used for p-value computation\n",
    "                              labels=target_temp, # Labels of the samples\n",
    "                              equal_var=True, # Consider variance between groups as equal\n",
    "                              useMW=False) # Use Mann-Whitney Test if True or standard T-test if False\n",
    "    \n",
    "    filt_uni_results = uni_results[uni_results['FDR adjusted p-value'] < alpha].copy()\n",
    "    # Calculate absolute Log2 Fold-Change\n",
    "    filt_uni_results['abs_log2FC'] = abs(filt_uni_results['log2FC'])\n",
    "    # Select\n",
    "    filt_uni_results = filt_uni_results[filt_uni_results['abs_log2FC'] > abs_log2FC_threshold]\n",
    "    filt_uni_results = filt_uni_results.drop(columns='abs_log2FC')\n",
    "    univariate_results[(a,b)] = filt_uni_results"
   ]
  },
  {
   "cell_type": "code",
   "execution_count": null,
   "id": "5a491918",
   "metadata": {},
   "outputs": [],
   "source": [
    "idxs = []\n",
    "for i in univariate_results:\n",
    "    idxs.extend(list(univariate_results[i].index))"
   ]
  },
  {
   "cell_type": "code",
   "execution_count": null,
   "id": "bbd7cfb6",
   "metadata": {},
   "outputs": [],
   "source": [
    "uni_df = tryp_df['data'][pd.unique(idxs)]"
   ]
  },
  {
   "cell_type": "code",
   "execution_count": null,
   "id": "0ad4e0f5",
   "metadata": {},
   "outputs": [],
   "source": [
    "uni_df.shape"
   ]
  },
  {
   "cell_type": "markdown",
   "id": "6a8584e1",
   "metadata": {},
   "source": [
    "# Data Augmentation\n",
    "\n",
    "The Data pretreatment chosen for data augmentation given the prior statistical analysis was NGP (normalization by total sum of intensities, generalized logarithmic transformation followed by Pareto Scaling) after 1/5th minimum imputation."
   ]
  },
  {
   "cell_type": "markdown",
   "id": "5588a8ce",
   "metadata": {},
   "source": [
    "1) Linear Augmentation of Data"
   ]
  },
  {
   "cell_type": "code",
   "execution_count": null,
   "id": "81e89d17",
   "metadata": {},
   "outputs": [],
   "source": [
    "start = perf_counter()\n",
    "data, lbls = laf.artificial_dataset_generator(tryp_df['Ionly'], labels=target,\n",
    "                                        max_new_samples_per_label=512, binary=False, rnd=list(np.linspace(0.1,0.9,9)), \n",
    "                                        binary_rnd_state=None, rnd_state=None)\n",
    "end = perf_counter()\n",
    "print(f'Simple augmentation of data done! took {(end - start):.3f} s')\n",
    "\n",
    "# Pretreatment of Linearly generated data\n",
    "data_GP = transf.pareto_scale(transf.glog(transf.normalize_sum(data), lamb=None))\n",
    "data_GP"
   ]
  },
  {
   "cell_type": "markdown",
   "id": "8d50f520",
   "metadata": {},
   "source": [
    "#### Inputs for GAN model"
   ]
  },
  {
   "cell_type": "code",
   "execution_count": null,
   "id": "e4dfa176",
   "metadata": {},
   "outputs": [],
   "source": [
    "hist = np.histogram(tryp_df['NGP'].values.flatten(), bins=100)\n",
    "input_realdata_dist = stats.rv_histogram(hist)"
   ]
  },
  {
   "cell_type": "code",
   "execution_count": null,
   "id": "185275e4",
   "metadata": {},
   "outputs": [],
   "source": [
    "# Colors to use in plots\n",
    "colours2 = sns.color_palette('tab20', 6)[:6]\n",
    "\n",
    "ordered_labels_test = ('control','control - GAN','stage1','stage1 - GAN','stage2','stage2 - GAN')\n",
    "label_colors_test = {lbl: c for lbl, c in zip(ordered_labels_test, colours2)}\n",
    "\n",
    "sns.palplot(label_colors_test.values())\n",
    "new_ticks_test = plt.xticks(range(len(ordered_labels_test)), ordered_labels_test)"
   ]
  },
  {
   "cell_type": "markdown",
   "id": "0520e74a",
   "metadata": {},
   "source": [
    "### Conditional Wasserstein GAN - GP model\n",
    "\n",
    "This model construction was made by joining WGAN-GP models with Conditional GAN models. WGAN-GP models were originally made according to / originally based in https://keras.io/examples/generative/wgan_gp/#wasserstein-gan-wgan-with-gradient-penalty-gp and Conditional GAN models - https://machinelearningmastery.com/how-to-develop-a-conditional-generative-adversarial-network-from-scratch/ (generator and discriminator model) and https://keras.io/examples/generative/conditional_gan/ without using OOP (loss functions and training/training steps)."
   ]
  },
  {
   "cell_type": "code",
   "execution_count": null,
   "id": "43aa5021",
   "metadata": {},
   "outputs": [],
   "source": [
    "def generator_model(len_input, len_output, n_hidden_nodes, n_labels):\n",
    "    \"Make the generator model of CWGAN-GP.\"\n",
    "\n",
    "    data_input = tf.keras.Input(shape=(len_input,), name='data') # Take intensity input\n",
    "    label_input = tf.keras.Input(shape=(n_labels,), name='label') # Take Label Input\n",
    "\n",
    "    # Treat label input to concatenate to intensity data after\n",
    "    label_m = tf.keras.layers.Embedding(n_labels, 30, input_length=1)(label_input)\n",
    "    label_m = tf.keras.layers.Dense(256, activation='linear', use_bias=True)(label_m)\n",
    "    #label_m = tf.keras.layers.Reshape((len_input,1,))(label_m)\n",
    "    label_m2 = tf.keras.layers.Reshape((256*n_labels,))(label_m)\n",
    "\n",
    "    joined_data = tf.keras.layers.Concatenate()([data_input, label_m2]) # Concatenate intensity and label data\n",
    "    # Hidden Dense Layer and Normalization\n",
    "    joined_data = tf.keras.layers.Dense(n_hidden_nodes, activation=tf.nn.leaky_relu, use_bias=True)(joined_data)\n",
    "    joined_data = tf.keras.layers.Dense(256, activation=tf.nn.leaky_relu, use_bias=True)(joined_data)\n",
    "    joined_data = tf.keras.layers.BatchNormalization()(joined_data)\n",
    "\n",
    "    # Output - number of features of sample to make\n",
    "    output = tf.keras.layers.Dense(len_output, activation='linear', use_bias=True)(joined_data)\n",
    "    \n",
    "    generator = tf.keras.Model(inputs=[data_input, label_input], outputs=output)\n",
    "    \n",
    "    return generator\n",
    "\n",
    "def critic_model(len_input, n_hidden_nodes, n_labels):\n",
    "    \"Make the critic model of CWGAN-GP.\"\n",
    "    \n",
    "    label_input = tf.keras.Input(shape=(n_labels,)) # Take intensity input\n",
    "    data_input = tf.keras.Input(shape=(len_input,)) # Take Label Input\n",
    "    #data_input = tf.keras.layers.Reshape((len_input,1,))(data_input)\n",
    "\n",
    "    # Treat label input to concatenate to intensity data after\n",
    "    label_m = tf.keras.layers.Embedding(n_labels, 30, input_length=1)(label_input)\n",
    "    label_m = tf.keras.layers.Dense(256, activation='linear', use_bias=True)(label_m)\n",
    "    #label_m = tf.keras.layers.Reshape((len_input,1,))(label_m)\n",
    "    label_m = tf.keras.layers.Reshape((256*n_labels,))(label_m)\n",
    "\n",
    "    joined_data = tf.keras.layers.Concatenate()([data_input, label_m]) # Concatenate intensity and label data\n",
    "    # Hidden Dense Layer (Normalization worsened results here)\n",
    "    joined_data = tf.keras.layers.Dense(n_hidden_nodes, activation=tf.nn.leaky_relu, use_bias=True)(joined_data)\n",
    "    joined_data = tf.keras.layers.Dense(128, activation=tf.nn.leaky_relu, use_bias=True)(joined_data)\n",
    "    joined_data = tf.keras.layers.Dense(256, activation=tf.nn.leaky_relu, use_bias=True)(joined_data)\n",
    "    #joined_data = tf.keras.layers.BatchNormalization()(joined_data)\n",
    "\n",
    "    # Output Layer - 1 node for critic decision\n",
    "    output = tf.keras.layers.Dense(1, activation='linear', use_bias=True)(joined_data)\n",
    "    \n",
    "    critic = tf.keras.Model(inputs=[data_input, label_input], outputs=output)\n",
    "\n",
    "    return critic"
   ]
  },
  {
   "cell_type": "code",
   "execution_count": null,
   "id": "e0f1c898",
   "metadata": {},
   "outputs": [],
   "source": [
    "def generate_predictions(model, num_examples_to_generate, len_input, input_dist, uni_lbls):\n",
    "    \"Generate sample predictions based on a Generator model.\"\n",
    "    # `training` is set to False.\n",
    "    test_input =  tf.constant(input_dist.rvs(size=len_input*num_examples_to_generate), shape=[\n",
    "        num_examples_to_generate,len_input])\n",
    "    if len(uni_lbls) < 3:\n",
    "        test_labels = tf.constant([1.0]*(num_examples_to_generate//2) + [0.0]*(num_examples_to_generate//2), \n",
    "                                  shape=(num_examples_to_generate,1))\n",
    "    else:\n",
    "        test_labels = []\n",
    "        for i in range(len(uni_lbls)):\n",
    "            test_labels.extend([i]*(num_examples_to_generate//len(uni_lbls)))\n",
    "        test_labels = np.array(pd.get_dummies(test_labels))\n",
    "\n",
    "    predictions = model([test_input, test_labels], training=False)\n",
    "    return predictions"
   ]
  },
  {
   "cell_type": "code",
   "execution_count": null,
   "id": "9f2e47a5",
   "metadata": {},
   "outputs": [],
   "source": [
    "def training_montage(train_data_o, train_lbls, test_data, test_lbls,\n",
    "                     epochs, generator, critic, generator_optimizer, critic_optimizer, input_dist,\n",
    "                    batch_size, grad_pen_weight=10, k_cov_den=50, k_crossLID=15, random_seed=145,\n",
    "                    n_generated_samples=96):\n",
    "    \"\"\"Train a generator and critic of CWGAN-GP.\n",
    "    \n",
    "       Receives training data and respective class labels (train_data_o and train_lbls) and trains a generator and a critic\n",
    "        model (generator, critic) over a number of epochs (epochs) with a set batch size (batch_size) with the respective \n",
    "        optimizers and learning rate (generator_optimizer, critic_optimizer). Gradient Penalty is calculated with \n",
    "        grad_pen_weight as the weight of the penalty.\n",
    "       The functions returns at time intervals three graphs to evaluate the progression of the models (Loss plots,\n",
    "        coverage, density, crossLID and correct first cluster plots and PCA plot with generated and test data). To this\n",
    "        end, samples need to be generated requiring the distribution to sample the initial input values from (input_dist),\n",
    "        and test data and respective labels has to be given (test_data and test_lbls). Finally the number of neighbors to\n",
    "        consider for coverage/density and crossLID calculation is also needed (k_cov_den, k_crossLID).\n",
    "    \n",
    "       train_data_o: Pandas DataFrame with training data;\n",
    "       train_lbls: List with training data class labels;\n",
    "       test_data: Pandas DataFrame with test data to evaluate the model;\n",
    "       test_lbls: List with test data class labels to evaluate the model;\n",
    "       epochs: Int value with the number of epochs to train the model;\n",
    "       generator: tensorflow keras.engine.functional.Functional model for the generator;\n",
    "       critic: tensorflow keras.engine.functional.Functional model for the critic;\n",
    "       generator_optimizer: tensorflow keras optimizer (with learning rate) for generator;\n",
    "       critic_optimizer: tensorflow keras optimizer (with learning rate) for critic;\n",
    "       input_dist: scipy.stats._continuous_distns.rv_histogram object - distribution to sample input values for generator;\n",
    "       batch_size: int value with size of batch for model training;\n",
    "       grad_pen_weight: int value (default 10) for penalty weight in gradient penalty calculation;\n",
    "       k_cov_den: int value (default 50) for number of neighbors to consider for coverage and density calculation in\n",
    "        generated samples evaluation;\n",
    "       k_crossLID: int value (default 15) for number of neighbors to consider for crossLID calculation in generated samples\n",
    "        evaluation.\n",
    "       random_seed: int value (default 145) for numpy random seeding when randomly organizing samples in the data that\n",
    "        will be split into batches.\n",
    "       n_generated_samples: int value (default 96) for number of samples generated to test the model during training.\n",
    "    \"\"\"\n",
    "    \n",
    "    # Obtaining the train data, randomize its order and divide it be twice the standard deviation of its values\n",
    "    all_data = train_data_o.iloc[\n",
    "        np.random.RandomState(seed=random_seed).permutation(len(train_data_o))]/(2*train_data_o.values.std())\n",
    "    \n",
    "    # Same treatment for the test data\n",
    "    test_data = (test_data/(2*test_data.values.std())).values\n",
    "    training_data = all_data\n",
    "    train_data = all_data.values\n",
    "    \n",
    "    # Change class labels to numerical values while following the randomized ordered of samples\n",
    "    if len(set(train_lbls)) < 3: # 1 and 0 for when there are only two classes\n",
    "        train_labels = pd.get_dummies(\n",
    "            np.array(train_lbls)[np.random.RandomState(seed=random_seed).permutation(len(train_data))]).values[:,0]\n",
    "        test_labels = pd.get_dummies(np.array(test_lbls)).values[:,0]\n",
    "    else: # One hot encoding for when there are more than two classes\n",
    "        train_labels = pd.get_dummies(\n",
    "            np.array(train_lbls)[np.random.RandomState(seed=random_seed).permutation(len(train_data))]).values\n",
    "        test_labels = pd.get_dummies(np.array(test_lbls)).values\n",
    "    # Save the order of the labels\n",
    "    ordered_labels = pd.get_dummies(\n",
    "            np.array(train_lbls)[np.random.RandomState(seed=random_seed).permutation(len(train_data_o))]).columns\n",
    "\n",
    "    batch_divisions = int(batch_size / len(set(train_lbls))) # See how many samples of each class will be in each batch\n",
    "    n_steps = epochs * int(training_data.shape[0] / batch_size) # Number of steps: nº of batches per epoch * nº of epochs\n",
    "    n_critic = 5\n",
    "    \n",
    "    # Set up the evaluating images printed during training and the intervals they will be updated\n",
    "    f, (axl, axc, axr) = plt.subplots(1, 3, figsize = (16,5))\n",
    "    update1 = n_steps//200\n",
    "    update2 = n_steps//20\n",
    "\n",
    "    if hasattr(tqdm, '_instances'):\n",
    "        tqdm._instances.clear() # clear if it exists\n",
    "\n",
    "    i=0\n",
    "\n",
    "    for step in tqdm(range(n_steps)):\n",
    "        \n",
    "        # Critic Training\n",
    "        crit_loss_temp = []\n",
    "        \n",
    "        # Select real samples for this batch on training and order samples to put samples of the same class together\n",
    "        real_samp = train_data[i*batch_size:(i+1)*batch_size]\n",
    "        real_lbls = train_labels[i*batch_size:(i+1)*batch_size]\n",
    "\n",
    "        real_samples = np.empty(real_samp.shape)\n",
    "        real_labels = np.empty(real_lbls.shape)\n",
    "        a = 0\n",
    "        if len(set(train_lbls)) < 3:\n",
    "            for l,s in sorted(zip(real_lbls, real_samp), key=lambda pair: pair[0], reverse=True):\n",
    "                real_samples[a] = s\n",
    "                real_labels[a] = l\n",
    "                a = a+1\n",
    "        else:\n",
    "            for l,s in sorted(zip(real_lbls, real_samp), key=lambda pair: np.argmax(pair[0]), reverse=False):\n",
    "                #print(l, np.argmax(l))\n",
    "                real_samples[a] = s\n",
    "                real_labels[a] = l\n",
    "                a = a+1\n",
    "\n",
    "        for _ in range(n_critic): # For each step, train critic n_critic times\n",
    "            \n",
    "            # Generate input for generator\n",
    "            artificial_samples = tf.constant(input_dist.rvs(size=all_data.shape[1]*batch_size), shape=[\n",
    "                batch_size,all_data.shape[1]])\n",
    "            artificial_labels = real_labels.copy()\n",
    "\n",
    "            # Generate artificial samples from the latent vector\n",
    "            artificial_samples = generator([artificial_samples, artificial_labels], training=True)\n",
    "            \n",
    "            with tf.GradientTape() as crit_tape: # See the gradient for the critic\n",
    "\n",
    "                # Get the logits for the generated samples\n",
    "                X_artificial = critic([artificial_samples, artificial_labels], training=True)\n",
    "                # Get the logits for the real samples\n",
    "                X_true = critic([real_samples, real_labels], training=True)\n",
    "\n",
    "                # Calculate the critic loss using the generated and real sample results\n",
    "                c_cost = critic_loss_wgan(X_true, X_artificial)\n",
    "\n",
    "                # Calculate the gradient penalty\n",
    "                grad_pen = gradient_penalty_cwgan(batch_size, real_samples, artificial_samples,\n",
    "                                                  real_labels, artificial_labels, critic)\n",
    "                # Add the gradient penalty to the original discriminator loss\n",
    "                crit_loss = c_cost + grad_pen * grad_pen_weight\n",
    "                #print(crit_loss)\n",
    "                #crit_loss = c_cost\n",
    "                \n",
    "            crit_loss_temp.append(crit_loss)\n",
    "\n",
    "            # Calculate and apply the gradients obtained from the loss on the trainable variables\n",
    "            gradients_of_critic = crit_tape.gradient(crit_loss, critic.trainable_variables)\n",
    "            critic_optimizer.apply_gradients(zip(gradients_of_critic, critic.trainable_variables))\n",
    "\n",
    "        i = i + 1\n",
    "        if (step+1) % (n_steps//epochs) == 0:\n",
    "            i=0\n",
    "\n",
    "        crit_loss_all.append(np.mean(crit_loss_temp))\n",
    "        \n",
    "        # Generator Training\n",
    "        # Generate inputs for generator, values and labels\n",
    "        artificial_samples = tf.constant(input_dist.rvs(size=all_data.shape[1]*batch_size), shape=[\n",
    "                batch_size,all_data.shape[1]])\n",
    "        \n",
    "        if len(set(train_lbls)) < 3:\n",
    "            artificial_labels = tf.constant([1.0]*(batch_size//2) + [0.0]*(batch_size//2), shape=(batch_size,1))\n",
    "        else:\n",
    "            artificial_labels = np.array(pd.get_dummies([i for i in range(len(set(train_lbls)))]*batch_divisions))\n",
    "    \n",
    "        with tf.GradientTape() as gen_tape: # See the gradient for the generator\n",
    "            # Generate artificial samples\n",
    "            artificial_samples = generator([artificial_samples, artificial_labels], training=True)\n",
    "            \n",
    "            # Get the critic results for generated samples\n",
    "            X_artificial = critic([artificial_samples, artificial_labels], training=True)\n",
    "            # Calculate the generator loss\n",
    "            gen_loss = generator_loss_wgan(X_artificial)\n",
    "\n",
    "        # Calculate and apply the gradients obtained from the loss on the trainable variables\n",
    "        gradients_of_generator = gen_tape.gradient(gen_loss, generator.trainable_variables)\n",
    "        #print(gradients_of_generator)\n",
    "        generator_optimizer.apply_gradients(zip(gradients_of_generator, generator.trainable_variables))\n",
    "        gen_loss_all.append(gen_loss)\n",
    "\n",
    "        # Update the progress bar and evaluation graphs every update1 steps for loss plots and update2 for the others.\n",
    "        if (step + 1) % update1 == 0:\n",
    "            \n",
    "            # Update the evaluating figures at the set intervals\n",
    "            axl.clear() # Always clear the corresponding ax before redrawing it\n",
    "            \n",
    "            # Loss Plot\n",
    "            axl.plot(gen_loss_all, color = 'blue', label='Generator Loss')\n",
    "            axl.plot(crit_loss_all,color = 'red', label='Critic Loss')\n",
    "            axl.set_xlabel('Number of Steps')\n",
    "            axl.set_ylabel('Loss')\n",
    "            axl.legend()\n",
    "            \n",
    "            ipythondisplay.clear_output(wait=True)\n",
    "            ipythondisplay.display(plt.gcf())\n",
    "\n",
    "        if (step + 1) % update2 == 0:\n",
    "\n",
    "            saved_predictions.append(generate_predictions(generator, n_generated_samples, all_data.shape[1], \n",
    "                                                          input_realdata_dist, ordered_labels))\n",
    "            # See density and coverage and crossLID (divided by 25 to be in the same order as the rest)\n",
    "            # of latest predictions\n",
    "            den, cov = gem.evaluation_coverage_density(test_data, saved_predictions[-1], k= k_cov_den, metric='euclidean')\n",
    "            clid = gem.cross_LID_estimator_byMLE(test_data, saved_predictions[-1], k=k_crossLID, metric='euclidean')/25\n",
    "            density.append(den)\n",
    "            coverage.append(cov)\n",
    "            crossLID.append(clid)\n",
    "\n",
    "            # PCA of the latest predictions and training data\n",
    "            # Divide by twice the standard deviation to be the same as the generated data\n",
    "            dfs_temp = pd.concat((train_data_o/(2*train_data_o.values.std()),pd.DataFrame(\n",
    "                saved_predictions[-1].numpy(), columns=train_data_o.columns))) \n",
    "            temp_lbls = train_lbls.copy()\n",
    "            for l in ordered_labels:\n",
    "                temp_lbls.extend([l+' - GAN']*(n_generated_samples//len(ordered_labels)))\n",
    "            principaldf = gem.pca_sample_projection(dfs_temp, temp_lbls, pca, whiten=True, \n",
    "                                                samp_number=len(train_data_o.index))\n",
    "            lcolors = label_colors_test\n",
    "\n",
    "            # Hierarchical clustering of the latest predictions and testing data, \n",
    "            # saving the correct 1st cluster fraction results\n",
    "            dfs_temp = np.concatenate((test_data, saved_predictions[-1].numpy()))\n",
    "            temp_lbls = ['real']*len(test_data) + ['gen']*len(saved_predictions[-1])\n",
    "            hca_results = gem.perform_HCA(dfs_temp, temp_lbls, metric='euclidean', method='ward')\n",
    "            corr1stcluster.append(hca_results['correct 1st clustering'])\n",
    "\n",
    "            # Plots\n",
    "            axc.clear()\n",
    "            axc.plot(range(update2, step+2, update2), coverage, label='coverage')\n",
    "            axc.plot(range(update2, step+2, update2), density, label='density')\n",
    "            axc.plot(range(update2, step+2, update2), crossLID, color='red', label='crossLID')\n",
    "            axc.plot(range(update2, step+2, update2), corr1stcluster, color='purple', label='corr_cluster')\n",
    "            axc.legend()\n",
    "\n",
    "            axr.clear()\n",
    "            gem.plot_PCA(principaldf, lcolors, components=(1,2), title='', ax=axr)\n",
    "            axr.legend(loc='upper right', ncol=1, framealpha=1)\n",
    "\n",
    "            ipythondisplay.clear_output(wait=True)\n",
    "            ipythondisplay.display(plt.gcf())"
   ]
  },
  {
   "cell_type": "markdown",
   "id": "59bae48a",
   "metadata": {},
   "source": [
    "### Training the GAN"
   ]
  },
  {
   "cell_type": "code",
   "execution_count": null,
   "id": "b63549ab",
   "metadata": {
    "scrolled": false
   },
   "outputs": [],
   "source": [
    "GENERATE=True\n",
    "\n",
    "epochs = 600\n",
    "batch_size = 48\n",
    "k_cov_den = 20\n",
    "k_crossLID = 15\n",
    "random_seed = 145\n",
    "n_generated_samples = 32*len(pd.unique(lbls))\n",
    "\n",
    "if GENERATE:\n",
    "    \n",
    "    # Store results\n",
    "    gen_loss_all = []\n",
    "    crit_loss_all = []\n",
    "    saved_predictions = []\n",
    "    coverage = []\n",
    "    density = []\n",
    "    crossLID = []\n",
    "    corr1stcluster = []\n",
    "\n",
    "    df = tryp_df['GP']\n",
    "    pca = PCA(n_components=2, svd_solver='full', whiten=True)\n",
    "    pc_coords = pca.fit_transform(df)\n",
    "    \n",
    "    generator_optimizer = tf.keras.optimizers.RMSprop(5e-4)\n",
    "    critic_optimizer = tf.keras.optimizers.RMSprop(5e-4)\n",
    "\n",
    "    generator = generator_model(data_GP.shape[1], data_GP.shape[1], 128, 3)\n",
    "    critic = critic_model(data_GP.shape[1], 512, 3)\n",
    "\n",
    "    training_montage(data_GP, lbls, tryp_df['NGP'], target, epochs, generator, critic, \n",
    "                     generator_optimizer, critic_optimizer, input_realdata_dist, batch_size=batch_size,\n",
    "                     grad_pen_weight=10, k_cov_den=k_cov_den,k_crossLID=k_crossLID,\n",
    "                     random_seed=random_seed, n_generated_samples=n_generated_samples)\n",
    "\n",
    "    results={'gen_loss': gen_loss_all, 'crit_loss': crit_loss_all,'saved_pred': saved_predictions,\n",
    "             'coverage': coverage, 'density': density, 'crossLID': crossLID, 'corr1st_cluster': corr1stcluster}\n"
   ]
  },
  {
   "cell_type": "code",
   "execution_count": null,
   "id": "fb7bd457",
   "metadata": {},
   "outputs": [],
   "source": [
    "# Save the models and results\n",
    "if GENERATE:\n",
    "    # Store data (serialize)\n",
    "    with open('gan_models/TDint_results.pickle', 'wb') as handle:\n",
    "        pickle.dump(results, handle)\n",
    "\n",
    "    # Save the generator and critic models' weights.\n",
    "    generator.save_weights('gan_models/TDint_gen')\n",
    "    critic.save_weights('gan_models/TDint_crit')\n",
    "    \n",
    "# Read back the models\n",
    "if not GENERATE:\n",
    "    # Setting the model up\n",
    "    generator_optimizer = tf.keras.optimizers.RMSprop(1e-4)\n",
    "    critic_optimizer = tf.keras.optimizers.RMSprop(1e-4)\n",
    "\n",
    "    generator = generator_model(data_GP.shape[1], data_GP.shape[1], 128, 3)\n",
    "    critic = critic_model(data_GP.shape[1], 512, 3)\n",
    "\n",
    "    # Load Previously saved models\n",
    "    generator.load_weights('./gan_models/TDint_gen')\n",
    "    critic.load_weights('./gan_models/TDint_crit')\n",
    "\n",
    "    with open('gan_models/TDint_results.pickle', 'rb') as handle:\n",
    "        results = pickle.load(handle)\n",
    "        \n",
    "    gen_loss_all, crit_loss_all, saved_predictions = results['gen_loss'], results['crit_loss'], results['saved_pred']\n",
    "    coverage, density, crossLID = results['coverage'], results['density'], results['crossLID']\n",
    "    corr1stcluster = results['corr1st_cluster']"
   ]
  },
  {
   "cell_type": "markdown",
   "id": "a2017d17",
   "metadata": {},
   "source": [
    "#### Generate examples from our new code\n",
    "\n",
    "\n",
    "- Generate examples in bulk - predictions (GAN data)\n",
    "- Select only the 5 most correlated generated samples with each of the original samples - corr_preds (CorrGAN Data)\n",
    "\n",
    "#### CorrGAN"
   ]
  },
  {
   "cell_type": "code",
   "execution_count": null,
   "id": "d7997428",
   "metadata": {},
   "outputs": [],
   "source": [
    "num_examples_to_generate = 1980\n",
    "# Get distribution of intensity values of the dataset\n",
    "hist = np.histogram(tryp_df['NGP'].values.flatten(), bins=100)\n",
    "input_realdata_dist = stats.rv_histogram(hist)\n",
    "\n",
    "test_input = tf.constant(input_realdata_dist.rvs(size=len(tryp_df['NGP'].columns)*num_examples_to_generate), \n",
    "                         shape=[num_examples_to_generate,len(tryp_df['NGP'].columns)])\n",
    "test_labels = tf.constant(np.array(pd.get_dummies([i for i in range(len(ordered_labels))]*(\n",
    "    num_examples_to_generate//len(ordered_labels)))))\n",
    "\n",
    "predictions = generator([test_input, test_labels], training=False)\n",
    "predictions = pd.DataFrame(predictions.numpy(), columns=tryp_df['NGP'].columns) * 2 * data_GP.values.std()"
   ]
  },
  {
   "cell_type": "markdown",
   "id": "a21a2a76",
   "metadata": {},
   "source": [
    "See correlation between samples and choose the 5 most correlated generated samples for each of the original samples."
   ]
  },
  {
   "cell_type": "code",
   "execution_count": null,
   "id": "e7e2afe1",
   "metadata": {},
   "outputs": [],
   "source": [
    "df = tryp_df['NGP']\n",
    "# Calculate all correlations between all samples of real and artificial data and store them in a dataframe\n",
    "correlations = pd.DataFrame(index=predictions.index, columns=df.index).astype('float')\n",
    "\n",
    "for i in df.index:\n",
    "    for j in predictions.index:\n",
    "        correlations.loc[j,i] = stats.pearsonr(df.loc[i],\n",
    "                                               predictions.loc[j])[0]"
   ]
  },
  {
   "cell_type": "code",
   "execution_count": null,
   "id": "6ba54234",
   "metadata": {},
   "outputs": [],
   "source": [
    "# Indices to keep in the correlated GAN data\n",
    "idx_to_keep = []\n",
    "for i in correlations:\n",
    "    idx_to_keep.extend(correlations[i].sort_values(ascending=False).index[:5])\n",
    "    \n",
    "print('Nº of total idx :', len(idx_to_keep))\n",
    "print('Nº of unique idx:', len(set(idx_to_keep)))"
   ]
  },
  {
   "cell_type": "code",
   "execution_count": null,
   "id": "827dd8a6",
   "metadata": {},
   "outputs": [],
   "source": [
    "# Make the correlation GAN dataframe and corresponding label targets\n",
    "corr_preds = predictions.loc[list(set(idx_to_keep))]\n",
    "corr_lbls  = list(np.array(\n",
    "    [i for i in ordered_labels]*(num_examples_to_generate//len(ordered_labels)))[list(set(idx_to_keep))])"
   ]
  },
  {
   "cell_type": "markdown",
   "id": "f79a92bd",
   "metadata": {},
   "source": [
    "#### GAN Data"
   ]
  },
  {
   "cell_type": "code",
   "execution_count": null,
   "id": "7ddf25ca",
   "metadata": {},
   "outputs": [],
   "source": [
    "ordered_labels = pd.get_dummies(\n",
    "            np.array(target)[np.random.RandomState(seed=random_seed).permutation(len(target))]).columns\n",
    "\n",
    "ordered_labels"
   ]
  },
  {
   "cell_type": "code",
   "execution_count": null,
   "id": "e7cd9a16",
   "metadata": {},
   "outputs": [],
   "source": [
    "# Redo prediction with a smaller number of samples this time\n",
    "num_examples_to_generate = 1056\n",
    "hist = np.histogram(tryp_df['NGP'].values.flatten(), bins=100)\n",
    "input_realdata_dist = stats.rv_histogram(hist)\n",
    "\n",
    "test_input = tf.constant(input_realdata_dist.rvs(size=len(tryp_df['NGP'].columns)*num_examples_to_generate), \n",
    "                         shape=[num_examples_to_generate,len(tryp_df['NGP'].columns)])\n",
    "test_labels = tf.constant(np.array(pd.get_dummies([i for i in range(len(ordered_labels))]*(\n",
    "    num_examples_to_generate//len(ordered_labels)))))\n",
    "\n",
    "\n",
    "predictions = generator([test_input, test_labels], training=False)\n",
    "predictions = pd.DataFrame(predictions.numpy(), columns=data_GP.columns) * 2 * data_GP.values.std()"
   ]
  },
  {
   "cell_type": "markdown",
   "id": "062bb394",
   "metadata": {},
   "source": [
    "Transforming the 96 generated samples for 20 different time points during GAN training (stored in results) into DataFrames."
   ]
  },
  {
   "cell_type": "code",
   "execution_count": null,
   "id": "b0dbc5dd",
   "metadata": {},
   "outputs": [],
   "source": [
    "saved_predictions = []\n",
    "# Transform predictions into Pandas DataFrames\n",
    "for i in range(len(results['saved_pred'])):\n",
    "    saved_predictions.append(pd.DataFrame(results['saved_pred'][i].numpy(), \n",
    "                                          columns=data_GP.columns)* 2 * data_GP.values.std())  "
   ]
  },
  {
   "cell_type": "markdown",
   "id": "bae20351",
   "metadata": {},
   "source": [
    "### Loss Plot and PCAs and tSNEs representation on the evolution of generated samples with epochs\n",
    "\n",
    "Measures of progression of the model in time."
   ]
  },
  {
   "cell_type": "code",
   "execution_count": null,
   "id": "784dcf6a",
   "metadata": {
    "scrolled": false
   },
   "outputs": [],
   "source": [
    "with sns.axes_style(\"whitegrid\"):\n",
    "    with sns.plotting_context(\"notebook\", font_scale=1.2):\n",
    "        steps_per_epoch = int(data_GP.shape[0] / batch_size)\n",
    "        f, ax = plt.subplots(1, 1, figsize=(4,4))\n",
    "        ax.plot(range(1,len(results['gen_loss'])+1), results['gen_loss'], label='Generator Loss')\n",
    "        ax.plot(range(1,len(results['crit_loss'])+1), results['crit_loss'], label='Critic Loss')\n",
    "        ax.set_xticks(range(0, (epochs+1)*steps_per_epoch, 200*steps_per_epoch))\n",
    "        ax.set_xticklabels(range(0, (epochs+1), 200))\n",
    "\n",
    "        ax.legend()\n",
    "        ax.set_xlim([0*steps_per_epoch,(epochs)*steps_per_epoch])\n",
    "        ax.set_xlabel('Nº of Epochs', fontsize=15)\n",
    "        ax.set_ylabel('Loss', fontsize=15)\n",
    "        ax.set_title('Loss Plot', fontsize=15)\n",
    "        plt.tight_layout()\n",
    "        f.savefig('images/TDint_LossPlot.png' , dpi=400)"
   ]
  },
  {
   "cell_type": "markdown",
   "id": "9b56558c",
   "metadata": {},
   "source": [
    "**PCA and tSNE of GAN generated data and the linearly generated data**\n",
    "\n",
    "Progression with number of epochs."
   ]
  },
  {
   "cell_type": "code",
   "execution_count": null,
   "id": "ad197523",
   "metadata": {
    "scrolled": false
   },
   "outputs": [],
   "source": [
    "with sns.axes_style(\"whitegrid\"):\n",
    "    with sns.plotting_context(\"notebook\", font_scale=1):\n",
    "        f, axs = plt.subplots(2,5, figsize=(16,8), constrained_layout=True)\n",
    "        \n",
    "        for i, ax in zip(range(0, len(saved_predictions),2), axs.ravel()):\n",
    "            dfs_temp = pd.concat((data_GP, saved_predictions[i]))\n",
    "            temp_lbls = lbls.copy()\n",
    "            for i in ordered_labels:\n",
    "                temp_lbls.extend([i + ' - GAN']*(n_generated_samples//len(ordered_labels)))\n",
    "            \n",
    "            principaldf = ma.compute_df_with_PCs(dfs_temp, n_components=2, whiten=True, labels=temp_lbls,\n",
    "                                                 return_var_ratios=False)\n",
    "\n",
    "            lcolors = label_colors_test\n",
    "            \n",
    "            gem.plot_PCA(principaldf, lcolors, components=(1,2), title='', ax=ax)\n",
    "            #gem.plot_ellipses_PCA(principaldf, lcolors, components=(1,2),ax=ax, q=0.95)\n",
    "            ax.legend(loc='upper right', ncol=1, framealpha=1)\n",
    "        "
   ]
  },
  {
   "cell_type": "code",
   "execution_count": null,
   "id": "da95c982",
   "metadata": {},
   "outputs": [],
   "source": [
    "with sns.axes_style(\"whitegrid\"):\n",
    "    with sns.plotting_context(\"notebook\", font_scale=1):\n",
    "        f, axs = plt.subplots(2,5, figsize=(16,8), constrained_layout=True)\n",
    "        \n",
    "        for i, ax in zip(range(0, len(saved_predictions), 2), axs.ravel()):\n",
    "            \n",
    "            dfs_temp = pd.concat((data_GP,saved_predictions[i]))\n",
    "            temp_lbls = lbls.copy()\n",
    "            for i in ordered_labels:\n",
    "                temp_lbls.extend([i + ' - GAN']*(n_generated_samples//len(ordered_labels)))\n",
    "            \n",
    "            X = dfs_temp.copy()\n",
    "            X_embedded = TSNE(n_components=2, perplexity=30, learning_rate='auto',\n",
    "                              init='random', verbose=0).fit_transform(X)\n",
    "\n",
    "            df = X_embedded\n",
    "            labels = temp_lbls\n",
    "            lcolors = label_colors_test\n",
    "            \n",
    "            gem.plot_tSNE(df, labels, lcolors, components=(1,2), title='', ax=ax)\n",
    "            gem.plot_ellipses_tSNE(df, labels, lcolors, components=(1,2),ax=ax, q=0.95)\n",
    "            ax.legend(loc='upper right', ncol=1, framealpha=1)"
   ]
  },
  {
   "cell_type": "markdown",
   "id": "0a3e1843",
   "metadata": {},
   "source": [
    "#### PCA of GAN generated data and experimental (real) data"
   ]
  },
  {
   "cell_type": "code",
   "execution_count": null,
   "id": "c29db1fe",
   "metadata": {},
   "outputs": [],
   "source": [
    "with sns.axes_style(\"whitegrid\"):\n",
    "    with sns.plotting_context(\"notebook\", font_scale=1):\n",
    "        f, ax = plt.subplots(1,1, figsize=(6,4), constrained_layout=True)\n",
    "\n",
    "        p = saved_predictions[-1].copy()\n",
    "        p.columns = tryp_df['NGP'].columns\n",
    "        dfs_temp = pd.concat((tryp_df['NGP'], p))\n",
    "        temp_lbls = target.copy()\n",
    "        for i in ordered_labels:\n",
    "                temp_lbls.extend([i + ' - GAN']*(len(saved_predictions[-1])//len(ordered_labels)))\n",
    "\n",
    "        principaldf = ma.compute_df_with_PCs(dfs_temp, n_components=2, whiten=True, labels=temp_lbls,\n",
    "                                                 return_var_ratios=False)\n",
    "\n",
    "        lcolors = label_colors_test\n",
    "\n",
    "        gem.plot_PCA(principaldf, lcolors, components=(1,2), title='', ax=ax)\n",
    "        gem.plot_ellipses_PCA(principaldf, lcolors, components=(1,2),ax=ax, q=0.95)\n",
    "        ax.set_ylabel('PC 2', fontsize=15)\n",
    "        ax.set_xlabel('PC 1', fontsize=15)\n",
    "        ax.legend(loc='upper left', bbox_to_anchor=(1, 1), fontsize=14)\n",
    "        f.savefig('images/TDint_PCAPlot.png' , dpi=300)"
   ]
  },
  {
   "cell_type": "markdown",
   "id": "4d712d78",
   "metadata": {},
   "source": [
    "### Comparing GAN Generated Data Characteristics with experimental data"
   ]
  },
  {
   "cell_type": "code",
   "execution_count": null,
   "id": "bb0d3b69",
   "metadata": {},
   "outputs": [],
   "source": [
    "names = ['Experimental data', 'GAN data', 'CorrGAN data']\n",
    "data_repo = [tryp_df['NGP'], predictions, corr_preds]\n",
    "tgs = [target,\n",
    "       [i for i in ordered_labels]*(num_examples_to_generate//len(ordered_labels)), corr_lbls]\n",
    "data_characteristics = [gem.characterize_data(ds, name, tg) for ds,name,tg in zip(data_repo, names, tgs)]\n",
    "data_characteristics = pd.DataFrame(data_characteristics).set_index('Dataset')\n",
    "data_characteristics"
   ]
  },
  {
   "cell_type": "code",
   "execution_count": null,
   "id": "ce854b9c",
   "metadata": {},
   "outputs": [],
   "source": [
    "f, (axl, axr) = plt.subplots(1,2, figsize=(8,4))\n",
    "\n",
    "names = ['Experimental', 'GAN', 'CorrGAN']\n",
    "axl.boxplot([ds.values.flatten() for ds in data_repo])\n",
    "axl.set_ylabel('Distribution of scaled intensities', fontsize=15)\n",
    "axl.set_xticklabels(names, fontsize=12)\n",
    "#axl.set_yticks([-2, 0, 2, 4])\n",
    "\n",
    "axr.boxplot([ds.sum(axis=1) for ds in data_repo])\n",
    "axr.set_ylabel('Distribution of feature sum of intensities', fontsize=12)\n",
    "axr.set_xticklabels(names, fontsize=12)\n",
    "\n",
    "plt.tight_layout()\n",
    "plt.show()\n",
    "f.savefig('images/TDint_characteristics.png' , dpi=400)"
   ]
  },
  {
   "cell_type": "markdown",
   "id": "4aa85d70",
   "metadata": {},
   "source": [
    "### Hierarchical Clustering "
   ]
  },
  {
   "cell_type": "markdown",
   "id": "eb596301",
   "metadata": {},
   "source": [
    "Hierarchical clustering of 96 GAN samples and experimental data. "
   ]
  },
  {
   "cell_type": "code",
   "execution_count": null,
   "id": "3d9b83f9",
   "metadata": {},
   "outputs": [],
   "source": [
    "# Hierarchical clustering of the latest predictions and experimental data\n",
    "dfs_temp = np.concatenate((tryp_df['GP'].values, saved_predictions[-1].values))\n",
    "test_labels = target.copy()\n",
    "temp_lbls = list(test_labels)\n",
    "for i in ordered_labels:\n",
    "    temp_lbls.extend([i + ' - GAN']*(n_generated_samples//len(ordered_labels)))\n",
    "\n",
    "hca_results = gem.perform_HCA(dfs_temp, temp_lbls, metric='euclidean', method='ward')"
   ]
  },
  {
   "cell_type": "code",
   "execution_count": null,
   "id": "83b53f9b",
   "metadata": {},
   "outputs": [],
   "source": [
    "f, ax = plt.subplots(figsize=(3, 10))\n",
    "gem.plot_dendogram(hca_results['Z'],\n",
    "               temp_lbls, ax=ax,\n",
    "               label_colors=label_colors_test, title='',\n",
    "               color_threshold=0)\n",
    "ax.set_yticklabels([])\n",
    "ax.set_xticks([])\n",
    "plt.show()\n",
    "f.savefig('images/TDint_HCAPlot.png' , dpi=400)"
   ]
  },
  {
   "cell_type": "markdown",
   "id": "8dfba05e",
   "metadata": {},
   "source": [
    "### Coverage and Density"
   ]
  },
  {
   "cell_type": "code",
   "execution_count": null,
   "id": "7e87742e",
   "metadata": {},
   "outputs": [],
   "source": [
    "training_set = data_GP\n",
    "dt = tryp_df['NGP']\n",
    "\n",
    "density_list, coverage_list = gem.evaluation_coverage_density_all_k_at_once(training_set, predictions, metric='Euclidean')\n",
    "\n",
    "density_list_test, coverage_list_test = gem.evaluation_coverage_density_all_k_at_once(training_set, dt, \n",
    "                                                                                      metric='Euclidean')\n",
    "\n",
    "density_list_real, coverage_list_real = gem.evaluation_coverage_density_all_k_at_once(dt, predictions,\n",
    "                                                                                      metric='Euclidean')\n",
    "\n",
    "density_list_corr, coverage_list_corr = gem.evaluation_coverage_density_all_k_at_once(training_set, corr_preds,\n",
    "                                                                                      metric='Euclidean')\n",
    "\n",
    "density_list_linaug_real, coverage_list_linaug_real = gem.evaluation_coverage_density_all_k_at_once(dt, training_set,\n",
    "                                                                                      metric='Euclidean')"
   ]
  },
  {
   "cell_type": "code",
   "execution_count": null,
   "id": "a7155737",
   "metadata": {},
   "outputs": [],
   "source": [
    "with sns.axes_style(\"whitegrid\"):\n",
    "    with sns.plotting_context(\"notebook\", font_scale=1.2):\n",
    "        f, (axl, axr) = plt.subplots(1, 2, figsize = (8,4))#, sharey='row')#, sharex='col')\n",
    "        \n",
    "        axl.plot(range(1,len(training_set)), density_list, label='Density', color='blue')\n",
    "        axl.plot(range(1,len(training_set)), coverage_list, label='Coverage', color='red')\n",
    "        axl.set_title('GAN - Interpolated Data', fontsize=15)\n",
    "        axl.set_ylabel('Density / Coverage', fontsize=15)\n",
    "        axl.set_ylim([0,5])\n",
    "        axl.set_xlabel('Nº of Nearest Neighbors', fontsize=15)\n",
    "\n",
    "        axr.plot(range(1,len(dt)), density_list_real, label='Density', color='blue')\n",
    "        axr.plot(range(1,len(dt)), coverage_list_real, label='Coverage', color='red')\n",
    "        axr.set_title('GAN - Experimental Data', fontsize=15)\n",
    "        axr.set_ylim([0,5])\n",
    "        \n",
    "        axr.legend()\n",
    "        axl.legend()\n",
    "        axr.set_xlabel('Nº of Nearest Neighbors', fontsize=15)\n",
    "        #plt.suptitle('Density and Coverage', fontsize=18)\n",
    "\n",
    "    plt.tight_layout()\n",
    "    f.savefig('images/TDint_DenCovPlot.png' , dpi=400)"
   ]
  },
  {
   "cell_type": "markdown",
   "id": "1c83753f",
   "metadata": {},
   "source": [
    "### Histograms\n",
    " \n",
    "Histograms of Values of normal Experimental (Real), Linearly Interpolated and GAN Generated Data."
   ]
  },
  {
   "cell_type": "code",
   "execution_count": null,
   "id": "714d1d64",
   "metadata": {},
   "outputs": [],
   "source": [
    "# Predictions\n",
    "last_preds = predictions"
   ]
  },
  {
   "cell_type": "code",
   "execution_count": null,
   "id": "6cbac5d5",
   "metadata": {},
   "outputs": [],
   "source": [
    "with sns.axes_style(\"whitegrid\"):\n",
    "    with sns.plotting_context(\"notebook\", font_scale=1.2):\n",
    "        f, ax = plt.subplots(1, 1, figsize = (5,4))#, sharey='row')#, sharex='col')\n",
    "        X = np.arange(-8, 8.01, 0.05)\n",
    "        hist = np.histogram(dt.values.flatten(), bins=50)\n",
    "        hist_dist = stats.rv_histogram(hist)\n",
    "        ax.plot(X, hist_dist.pdf(X), color='blue', label='Experimental')\n",
    "        \n",
    "        hist = np.histogram(data_GP.values.flatten(), bins=50)\n",
    "        hist_dist = stats.rv_histogram(hist)\n",
    "        ax.plot(X, hist_dist.pdf(X), color='orange', label='Interpolated')\n",
    "        ax.set_ylabel('PDF', fontsize=15)\n",
    "        \n",
    "        hist = np.histogram(last_preds.values.flatten(), bins=50)\n",
    "        hist_dist = stats.rv_histogram(hist)\n",
    "        ax.plot(X, hist_dist.pdf(X), color='red', label='GAN')\n",
    "        \n",
    "        hist = np.histogram(corr_preds.values.flatten(), bins=50)\n",
    "        hist_dist = stats.rv_histogram(hist)\n",
    "        ax.plot(X, hist_dist.pdf(X), color='green', label='CorrGAN')\n",
    "        \n",
    "        ax.set_ylabel('PDF', fontsize=15)\n",
    "        ax.set_xlabel('Scaled Intensities', fontsize=15)\n",
    "        #ax.set_xticks([-8, -4, 0, 4, 8])\n",
    "        ax.set_ylim([0,0.7])\n",
    "\n",
    "        ax.legend(loc='upper left', bbox_to_anchor=(1, 1), fontsize=12, handlelength=1)\n",
    "        ax.set_title('Intensities Distribution', fontsize=18)\n",
    "        plt.tight_layout()\n",
    "        f.savefig('images/TDint_IntPlot.png', dpi=400)"
   ]
  },
  {
   "cell_type": "markdown",
   "id": "0a43a03f",
   "metadata": {},
   "source": [
    "### Correlations between samples of Real Data, Linearly Interpolated and GAN Generated Data"
   ]
  },
  {
   "cell_type": "code",
   "execution_count": null,
   "id": "644aaa14",
   "metadata": {},
   "outputs": [],
   "source": [
    "correlation_real_real = np.corrcoef(dt)\n",
    "print('Correlation Experimental-Experimental calculation ended.')\n",
    "\n",
    "correlation_lin_lin = np.corrcoef(data_GP)\n",
    "print('Correlation Interpolated-Interpolated calculation ended.')\n",
    "\n",
    "correlation_gan_gan = np.corrcoef(last_preds)\n",
    "print('Correlation GAN-GAN calculation ended.')\n",
    "\n",
    "correlation_corr_corr = np.corrcoef(corr_preds)\n",
    "print('Correlation corrGAN-corrGAN calculation ended.')"
   ]
  },
  {
   "cell_type": "code",
   "execution_count": null,
   "id": "4d69cf7e",
   "metadata": {},
   "outputs": [],
   "source": [
    "with sns.axes_style(\"whitegrid\"):\n",
    "    with sns.plotting_context(\"notebook\", font_scale=1.2):\n",
    "        f, ax = plt.subplots(1, 1, figsize = (5,4))#, sharey='row')#, sharex='col')\n",
    "        X = np.arange(-1, 1.01, 0.05)\n",
    "        hist = np.histogram(correlation_real_real.flatten(), bins=50)\n",
    "        hist_dist = stats.rv_histogram(hist)\n",
    "        ax.plot(X, hist_dist.pdf(X), color='blue', label='Experimental')\n",
    "        ax.set_ylabel('PDF', fontsize=15)\n",
    "        \n",
    "        hist = np.histogram(correlation_lin_lin.flatten(), bins=50)\n",
    "        hist_dist = stats.rv_histogram(hist)\n",
    "        ax.plot(X, hist_dist.pdf(X), color='orange', label='Interpolated')\n",
    "        \n",
    "        hist = np.histogram(correlation_gan_gan.flatten(), bins=50)\n",
    "        hist_dist = stats.rv_histogram(hist)\n",
    "        ax.plot(X, hist_dist.pdf(X), color='red', label='GAN')\n",
    "        \n",
    "        hist = np.histogram(correlation_corr_corr.flatten(), bins=50)\n",
    "        hist_dist = stats.rv_histogram(hist)\n",
    "        ax.plot(X, hist_dist.pdf(X), color='green', label='CorrGAN')\n",
    "        \n",
    "        ax.legend(loc='upper left', bbox_to_anchor=(1, 1), fontsize=12, handlelength=0.9, handletextpad=0.5)\n",
    "        ax.set_title('Sample Correlations', fontsize=18)\n",
    "        ax.set_xlabel('Correlation', fontsize=15)\n",
    "        ax.set_ylim([0,2.5])\n",
    "\n",
    "    #f.text(0.5, 0.05, 'Correlation', ha='center', va='top', fontsize=15)\n",
    "    plt.tight_layout()\n",
    "    f.savefig('images/TDint_SampCorrPlot.png', dpi=400)"
   ]
  },
  {
   "cell_type": "markdown",
   "id": "7873a4d5",
   "metadata": {},
   "source": [
    "### Correlations between features of Experimental (Real), Linearly Interpolated and GAN Generated Samples"
   ]
  },
  {
   "cell_type": "code",
   "execution_count": null,
   "id": "000682b0",
   "metadata": {},
   "outputs": [],
   "source": [
    "correlation_real_real = np.corrcoef(dt.T)\n",
    "print('Correlation Experimental-Experimental calculation ended.')\n",
    "\n",
    "correlation_gen_gen = np.corrcoef(data_GP.T)\n",
    "print('Correlation Generated-Generated calculation ended.')\n",
    "\n",
    "correlation_gan_gan = np.corrcoef(last_preds.T)\n",
    "print('Correlation GAN-GAN calculation ended.')\n",
    "\n",
    "correlation_corr_corr = np.corrcoef(corr_preds.T)\n",
    "print('Correlation CorrGAN-CorrGAN calculation ended.')"
   ]
  },
  {
   "cell_type": "code",
   "execution_count": null,
   "id": "c8e2c53d",
   "metadata": {},
   "outputs": [],
   "source": [
    "with sns.axes_style(\"whitegrid\"):\n",
    "    with sns.plotting_context(\"notebook\", font_scale=1.2):\n",
    "        f, ax = plt.subplots(1, 1, figsize = (5,4))#, sharey='row')#, sharex='col')\n",
    "        X = np.arange(-1, 1.01, 0.05)\n",
    "        hist = np.histogram(correlation_real_real.flatten()[~np.isnan(correlation_real_real.flatten())],\n",
    "                            bins=50)\n",
    "        hist_dist = stats.rv_histogram(hist)\n",
    "        ax.plot(X, hist_dist.pdf(X), color='blue', label='Experimental')\n",
    "        ax.set_ylabel('PDF', fontsize=15)\n",
    "        \n",
    "        hist = np.histogram(correlation_gen_gen.flatten()[~np.isnan(correlation_gen_gen.flatten())], bins=50)\n",
    "        hist_dist = stats.rv_histogram(hist)\n",
    "        ax.plot(X, hist_dist.pdf(X), color='orange', label='Interpolated')\n",
    "        \n",
    "        hist = np.histogram(correlation_gan_gan.flatten()[~np.isnan(correlation_gan_gan.flatten())], bins=50)\n",
    "        hist_dist = stats.rv_histogram(hist)\n",
    "        ax.plot(X, hist_dist.pdf(X), color='red', label='GAN')\n",
    "        \n",
    "        hist = np.histogram(correlation_corr_corr.flatten()[~np.isnan(correlation_corr_corr.flatten())],\n",
    "                            bins=50)\n",
    "        hist_dist = stats.rv_histogram(hist)\n",
    "        ax.plot(X, hist_dist.pdf(X), color='green', label='CorrGAN')\n",
    "        \n",
    "        \n",
    "        ax.legend(fontsize=11, loc='upper left', bbox_to_anchor=(1,1), handlelength=0.9, handletextpad=0.5)\n",
    "        ax.set_title('Feature Correlations', fontsize=18)\n",
    "        ax.set_xlabel('Correlation', fontsize=15)\n",
    "        ax.set_ylim([0,2])\n",
    "\n",
    "    #f.text(0.5, 0.05, 'Correlation', ha='center', va='top', fontsize=15)\n",
    "    plt.tight_layout()\n",
    "    f.savefig('images/TDint_FeatCorrPlot.png', dpi=400)"
   ]
  },
  {
   "cell_type": "markdown",
   "id": "8bd94e09",
   "metadata": {},
   "source": [
    "### Sample Correlation Matrix\n",
    "\n",
    "Between samples of the experimental (real) data and a set of generated GAN samples."
   ]
  },
  {
   "cell_type": "code",
   "execution_count": null,
   "id": "ad2b141b",
   "metadata": {},
   "outputs": [],
   "source": [
    "# Experimental (Real) Data, organize it to have first all samples of a class, then another and then the last\n",
    "df = tryp_df['NGP'].copy()\n",
    "\n",
    "samp = df.index\n",
    "tg = target.copy()\n",
    "new_order = [x for _, x in sorted(zip(tg, samp))]\n",
    "new_tg = [x for x, _ in sorted(zip(tg, samp))]\n",
    "\n",
    "df = df.loc[new_order]\n",
    "#df"
   ]
  },
  {
   "cell_type": "code",
   "execution_count": null,
   "id": "a2f02a56",
   "metadata": {},
   "outputs": [],
   "source": [
    "# Calculate all correlations between all samples of experimental (real) and generated data and store them in a dataframe\n",
    "correlations = pd.DataFrame(index=last_preds.index, columns=df.index).astype('float')\n",
    "\n",
    "for i in df.index:\n",
    "    for j in last_preds.index:\n",
    "        correlations.loc[j,i] = stats.pearsonr(df.loc[i],\n",
    "                                               last_preds.loc[j])[0]\n",
    "\n",
    "correlations.columns = new_tg\n",
    "correlations.index = [i + ' - GAN' for i in ordered_labels]*(num_examples_to_generate//len(ordered_labels))"
   ]
  },
  {
   "cell_type": "code",
   "execution_count": null,
   "id": "31c02973",
   "metadata": {},
   "outputs": [],
   "source": [
    "# Draw the clustermap\n",
    "co = sns.diverging_palette(160, 310, s=90, as_cmap=True, l=40)\n",
    "row_cols = [label_colors_test[lbl] for lbl in new_tg]\n",
    "row_cols2 = [label_colors_test[lbl] for lbl in correlations.index]\n",
    "g = sns.clustermap(correlations, col_colors=row_cols, cmap=co, row_colors= row_cols2, vmin=-1, vmax=1, method='ward',\n",
    "                  cbar_pos = (-0.13, 0.1, 0.05, 0.5))\n",
    "g.fig.set_size_inches((6,9))\n",
    "# some tweaks\n",
    "patches = []\n",
    "for lbl in ordered_labels_test:\n",
    "    patches.append(mpatches.Patch(color=label_colors_test[lbl], label=lbl))\n",
    "leg = plt.legend(handles=patches, loc=3, bbox_to_anchor=(-0.55, 1.35, 0.5, 1),\n",
    "                     frameon=False, fontsize=14) \n",
    "g.ax_heatmap.set_ylabel('GAN Data', fontsize=20)\n",
    "g.ax_heatmap.set_xlabel('Experimental Data', fontsize=20)\n",
    "g.ax_heatmap.tick_params(axis='both', which='both', bottom=False, top=False, labelbottom=False, right=False,\n",
    "                         labelright=False)\n",
    "\n",
    "# Manually specify colorbar labelling after it's been generated\n",
    "colorbar = g.ax_heatmap.collections[0].colorbar\n",
    "colorbar.ax.tick_params(labelsize=13) \n",
    "plt.text(1, 1.10, 'Correlations', fontsize=14, horizontalalignment='center')\n",
    "plt.show()\n",
    "g.savefig('images/TDint_Clustermap.png', dpi=400)"
   ]
  },
  {
   "cell_type": "code",
   "execution_count": null,
   "id": "54886c4e",
   "metadata": {},
   "outputs": [],
   "source": [
    "a = scipy.spatial.distance_matrix(last_preds, df)\n",
    "sample_distances = pd.DataFrame(a, index=last_preds.index, columns=df.index).astype('float')\n",
    "sample_distances.index = [i + ' - GAN' for i in ordered_labels]*(num_examples_to_generate//len(ordered_labels))"
   ]
  },
  {
   "cell_type": "code",
   "execution_count": null,
   "id": "de351af2",
   "metadata": {},
   "outputs": [],
   "source": [
    "sample_distances.max()"
   ]
  },
  {
   "cell_type": "code",
   "execution_count": null,
   "id": "908c8669",
   "metadata": {
    "scrolled": false
   },
   "outputs": [],
   "source": [
    "# Draw the clustermap\n",
    "\n",
    "row_cols = [label_colors_test[lbl] for lbl in new_tg]\n",
    "row_cols2 = [label_colors_test[lbl] for lbl in sample_distances.index]\n",
    "co = sns.diverging_palette(160, 310, s=90, as_cmap=True, l=40)\n",
    "g = sns.clustermap(sample_distances, col_colors=row_cols, cmap=co, row_colors= row_cols2,\n",
    "                   #norm=matplotlib.colors.LogNorm(vmin=5, vmax=50),\n",
    "                   vmin=0, vmax=50,\n",
    "                   method='ward',\n",
    "                  cbar_pos = (-0.13, 0.2, 0.05, 0.5))\n",
    "g.fig.set_size_inches((6,9))\n",
    "# some tweaks\n",
    "patches = []\n",
    "for lbl in ordered_labels_test:\n",
    "    patches.append(mpatches.Patch(color=label_colors_test[lbl], label=lbl))\n",
    "leg = plt.legend(handles=patches, loc=3, bbox_to_anchor=(-0.55, 1.15, 0.5, 1),\n",
    "                     frameon=False, fontsize=14) \n",
    "g.ax_heatmap.set_ylabel('GAN Data', fontsize=20)\n",
    "g.ax_heatmap.set_xlabel('Experimental Data', fontsize=20)\n",
    "g.ax_heatmap.tick_params(axis='both', which='both', bottom=False, top=False, labelbottom=False, right=False,\n",
    "                         labelright=False)\n",
    "\n",
    "# Manually specify colorbar labelling after it's been generated\n",
    "colorbar = g.ax_heatmap.collections[0].colorbar\n",
    "colorbar.ax.tick_params(labelsize=13) \n",
    "plt.text(1, 55.10, 'Distances', fontsize=14, horizontalalignment='center')\n",
    "plt.show()"
   ]
  },
  {
   "cell_type": "code",
   "execution_count": null,
   "id": "21c3491a",
   "metadata": {},
   "outputs": [],
   "source": [
    "# Experimental (Real) Data, organize it to have first all samples of a class, then another and then the last\n",
    "df = tryp_df['GP'].copy()\n",
    "\n",
    "samp = df.index\n",
    "tg = target.copy()\n",
    "new_order = [x for _, x in sorted(zip(tg, samp))]\n",
    "new_tg = [x for x, _ in sorted(zip(tg, samp))]\n",
    "\n",
    "df = df.loc[new_order]\n",
    "#df\n",
    "a = scipy.spatial.distance_matrix(df, df)\n",
    "sample_distances = pd.DataFrame(a, index=df.index, columns=df.index).astype('float')"
   ]
  },
  {
   "cell_type": "code",
   "execution_count": null,
   "id": "c651d67d",
   "metadata": {},
   "outputs": [],
   "source": [
    "sample_distances"
   ]
  },
  {
   "cell_type": "code",
   "execution_count": null,
   "id": "206f7b61",
   "metadata": {
    "scrolled": false
   },
   "outputs": [],
   "source": [
    "# Draw the clustermap\n",
    "\n",
    "row_cols = [label_colors_test[lbl] for lbl in new_tg]\n",
    "row_cols2 = [label_colors_test[lbl] for lbl in new_tg]\n",
    "g = sns.clustermap(sample_distances, col_colors=row_cols, cmap='bwr', row_colors= row_cols2,\n",
    "                   #norm=matplotlib.colors.LogNorm(vmin=40, vmax=175),\n",
    "                   vmin=0, vmax=50,\n",
    "                   method='ward',\n",
    "                  cbar_pos = (-0.13, 0.2, 0.05, 0.5))\n",
    "g.fig.set_size_inches((6,9))\n",
    "# some tweaks\n",
    "patches = []\n",
    "for lbl in ordered_labels_test:\n",
    "    patches.append(mpatches.Patch(color=label_colors_test[lbl], label=lbl))\n",
    "leg = plt.legend(handles=patches, loc=3, bbox_to_anchor=(-0.55, 1.15, 0.5, 1),\n",
    "                     frameon=False, fontsize=14) \n",
    "g.ax_heatmap.set_ylabel('GAN Data', fontsize=20)\n",
    "g.ax_heatmap.set_xlabel('Experimental Data', fontsize=20)\n",
    "g.ax_heatmap.tick_params(axis='both', which='both', bottom=False, top=False, labelbottom=False, right=False,\n",
    "                         labelright=False)\n",
    "\n",
    "# Manually specify colorbar labelling after it's been generated\n",
    "colorbar = g.ax_heatmap.collections[0].colorbar\n",
    "colorbar.ax.tick_params(labelsize=13) \n",
    "plt.text(1, 55.10, 'Distances', fontsize=14, horizontalalignment='center')\n",
    "plt.show()"
   ]
  },
  {
   "cell_type": "code",
   "execution_count": null,
   "id": "e0806a6e",
   "metadata": {},
   "outputs": [],
   "source": []
  },
  {
   "cell_type": "code",
   "execution_count": null,
   "id": "a9a8855e",
   "metadata": {},
   "outputs": [],
   "source": []
  }
 ],
 "metadata": {
  "kernelspec": {
   "display_name": "Python 3 (ipykernel)",
   "language": "python",
   "name": "python3"
  },
  "language_info": {
   "codemirror_mode": {
    "name": "ipython",
    "version": 3
   },
   "file_extension": ".py",
   "mimetype": "text/x-python",
   "name": "python",
   "nbconvert_exporter": "python",
   "pygments_lexer": "ipython3",
   "version": "3.9.12"
  }
 },
 "nbformat": 4,
 "nbformat_minor": 5
}
