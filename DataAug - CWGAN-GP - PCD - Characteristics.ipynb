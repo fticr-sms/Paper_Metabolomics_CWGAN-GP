{
 "cells": [
  {
   "cell_type": "markdown",
   "id": "4b606c8c",
   "metadata": {},
   "source": [
    "# Data Augmentation - Conditional Wasserstein GANs - GP\n",
    "\n",
    "### Dataset: Prostate Cancer Dataset\n",
    "\n",
    "This notebook presents the CWGAN-GP model to generate treated Intensity Data from the experimental prostate cancer dataset.\n",
    "\n",
    "Notebook Organization:\n",
    "- Read the dataset\n",
    "- Treatment, Univariate Analysis and PLS-DA of the dataset\n",
    "- Setup the CWGAN-GP model and train the model with intensity data\n",
    "- Generate artificial samples in an artificial dataset and compare them to the experimental data\n",
    "\n",
    "#### Due to stochasticity, re-running the notebook will get slightly different results. Thus, figures in the paper can be slightly different."
   ]
  },
  {
   "cell_type": "markdown",
   "id": "6db562b1",
   "metadata": {},
   "source": [
    "#### Needed Imports"
   ]
  },
  {
   "cell_type": "code",
   "execution_count": null,
   "id": "c30b0029",
   "metadata": {},
   "outputs": [],
   "source": [
    "import json\n",
    "from time import perf_counter\n",
    "\n",
    "import numpy as np\n",
    "import pandas as pd\n",
    "\n",
    "import scipy.spatial.distance as dist\n",
    "import scipy.cluster.hierarchy as hier\n",
    "import scipy.stats as stats\n",
    "import scipy.spatial\n",
    "\n",
    "import matplotlib.pyplot as plt\n",
    "import matplotlib as mpl\n",
    "import matplotlib.patches as mpatches\n",
    "import matplotlib.colors\n",
    "from matplotlib import ticker\n",
    "\n",
    "import seaborn as sns\n",
    "from collections import namedtuple, Counter\n",
    "\n",
    "from tqdm import tqdm\n",
    "from IPython import display as ipythondisplay\n",
    "\n",
    "from sklearn.manifold import TSNE\n",
    "from sklearn.decomposition import PCA\n",
    "from sklearn.metrics import silhouette_score\n",
    "\n",
    "import tensorflow as tf\n",
    "from keras import backend\n",
    "\n",
    "import pickle\n",
    "\n",
    "# Metabolinks package\n",
    "import metabolinks as mtl\n",
    "import metabolinks.transformations as transf\n",
    "\n",
    "# Python files in the repository\n",
    "import multianalysis as ma\n",
    "from elips import plot_confidence_ellipse\n",
    "import gan_evaluation_metrics as gem\n",
    "import linear_augmentation_functions as laf\n",
    "\n",
    "%matplotlib inline"
   ]
  },
  {
   "cell_type": "code",
   "execution_count": null,
   "id": "e913f3ab",
   "metadata": {},
   "outputs": [],
   "source": [
    "# Import needed functions from GAN_functions\n",
    "from GAN_functions import gradient_penalty_cwgan\n",
    "from GAN_functions import critic_loss_wgan\n",
    "from GAN_functions import generator_loss_wgan"
   ]
  },
  {
   "cell_type": "markdown",
   "id": "b70ad6b0",
   "metadata": {},
   "source": [
    "# Prostate Cancer dataset\n",
    "\n",
    "249 samples obtained from 80 subjects belonging to 2 different classes of HILIC-MS data obtained in positive ionization mode. The Chromatography system was a Thermo Dionex Ultimate 3000 with the column being a Waters Xbridge BEH HILIC (75 x 2.1mm, 2.5um). Mass Spectrometry was performed in a Thermo Q Exactive HF hybrid Orbitrap operating in positive electrospray ionization mode. Further information in the data deposition site mentioned below.\n",
    "\n",
    "The 2 classes are:\n",
    "\n",
    "- 135 pre-operative blood (serum) samples from patients with **'No Recurrence'** of Prostate Cancer after Radical Prostatectomy\n",
    "- 114 pre-operative blood (serum) samples from patients with **'Recurrence'** of Prostate Cancer after Radical Prostatectomy\n",
    "\n",
    "Data acquired by:\n",
    "\n",
    "- Clendinen, C.S.; Gaul, D.A.; Monge, M.E.; Arnold, R.S.; Edison, A.S.; Petros, J.A.; Fernández, F.M. Preoperative Metabolic Signatures of Prostate Cancer Recurrence Following Radical  Prostatectomy. J. Proteome Res. 2019, 18, 1316–1327, doi:10.1021/acs.jproteome.8b00926.\n",
    "\n",
    "Data obtained from Metabolomics Workbench project ID PR000724, study ID: ST001082, Analysis ID: AN001766 (https://www.metabolomicsworkbench.org/data/DRCCMetadata.php?Mode=Study&DataMode=AllData&StudyID=ST001082&StudyType=MS&ResultType=5#DataTabs)\n",
    "\n",
    "Data was taken already aligned in a 2D numerical data matrix. It had 2 copies of each sample, where the 2nd copies were equal to the first ones multiplied by a constant. This constant was different for each sample. We removed the presence of the 2nd copies.\n",
    "\n",
    "Data matrices retained only features that occur (globally) at least twice in all samples of the dataset (filtering/alignment)."
   ]
  },
  {
   "cell_type": "markdown",
   "id": "cc86f4c8",
   "metadata": {},
   "source": [
    "### Reading File and Data Analysis"
   ]
  },
  {
   "cell_type": "code",
   "execution_count": null,
   "id": "9aab89a4",
   "metadata": {},
   "outputs": [],
   "source": [
    "# Reading the dataset, this dataset has two copies of the samples.The 2nd copy is equal to the 1st multiplied by a constant\n",
    "# unique to each sample.\n",
    "human_datamatrix_base = pd.read_excel('ST001082_AN001766_HD.xlsx')"
   ]
  },
  {
   "cell_type": "code",
   "execution_count": null,
   "id": "b7b73f2d",
   "metadata": {},
   "outputs": [],
   "source": [
    "human_datamatrix = human_datamatrix_base.iloc[:-1, :-4] # Just select the rows corresponding to the dataset\n",
    "mz_list = human_datamatrix_base.iloc[:-1, -4] # Select column with list of m/z values\n",
    "\n",
    "human_datamatrix = human_datamatrix.set_index(human_datamatrix.columns[0]) # Set index as the metabolites name\n",
    "human_datamatrix = human_datamatrix.replace({0:np.nan}) # Replacing 0 values as missing values\n",
    "\n",
    "human_datamatrix"
   ]
  },
  {
   "cell_type": "code",
   "execution_count": null,
   "id": "43a3e520",
   "metadata": {},
   "outputs": [],
   "source": [
    "# Select one of the two copies of samples in the dataset by removing the samples ending with '.1'\n",
    "human_datamatrix = human_datamatrix[[i for i in human_datamatrix.columns if not i.endswith('.1')]]\n",
    "\n",
    "human_datamatrix = human_datamatrix.T # Transpose the dataset"
   ]
  },
  {
   "cell_type": "code",
   "execution_count": null,
   "id": "a571e010",
   "metadata": {},
   "outputs": [],
   "source": [
    "# Current sample labels. Sample will consist of 'Sample Type:No Recurrence' and 'Sample Type:Recurrence'\n",
    "hd_labels = list(human_datamatrix['Factors'])\n",
    "set(hd_labels)"
   ]
  },
  {
   "cell_type": "code",
   "execution_count": null,
   "id": "7b6bda40",
   "metadata": {
    "scrolled": true
   },
   "outputs": [],
   "source": [
    "# How many 'No Recurrence' samples in the dataset\n",
    "hd_labels.count('Sample Type:No Recurrence')"
   ]
  },
  {
   "cell_type": "markdown",
   "id": "1babbb25",
   "metadata": {},
   "source": [
    "### Blank Treatment\n",
    "\n",
    "- If blank_treatment = True:\n",
    "\n",
    "An average of the blanks will be subtracted to the remaining dataset. Missing values in the blanks were replaced by 0 to calculate the average of the blanks. Negative values that arise in the dataset from subtracting the blanks will be coded as 0/missing values in the dataset.\n",
    "\n",
    "- If blank_treatment = False:\n",
    "\n",
    "Blank samples are removed and not accounted for. "
   ]
  },
  {
   "cell_type": "code",
   "execution_count": null,
   "id": "293f2252",
   "metadata": {},
   "outputs": [],
   "source": [
    "blank_treatment = True\n",
    "#blank_treatment = False"
   ]
  },
  {
   "cell_type": "code",
   "execution_count": null,
   "id": "2946fb88",
   "metadata": {},
   "outputs": [],
   "source": [
    "if blank_treatment:\n",
    "    blanks = human_datamatrix[human_datamatrix['Factors'] == 'Sample Type:Blank'].iloc[:,1:] # Select blank samples\n",
    "    blanks = blanks.replace({np.nan:0}) \n",
    "    blanks = blanks.astype(float) # Get blank samples with floats (needed since datamatrix has strings)\n",
    "    blanks_average = blanks.mean() # Average of the blanks\n",
    "    blanks_average"
   ]
  },
  {
   "cell_type": "code",
   "execution_count": null,
   "id": "58569e00",
   "metadata": {},
   "outputs": [],
   "source": [
    "# Selecting the samples belonging to either the 'No Recurrence' or 'Recurrence' \n",
    "selection = []\n",
    "for i in human_datamatrix.loc[:, 'Factors']:\n",
    "    if i in ['Sample Type:No Recurrence', 'Sample Type:Recurrence']:\n",
    "        selection.append(True)\n",
    "    else:\n",
    "        selection.append(False)"
   ]
  },
  {
   "cell_type": "code",
   "execution_count": null,
   "id": "bef0ae60",
   "metadata": {},
   "outputs": [],
   "source": [
    "human_datamatrix = human_datamatrix[selection]\n",
    "# Creating the list of 'targets' (labels of samples) of the dataset with the 'No Recurrence' and 'Recurrence' classes \n",
    "hd_labels = []\n",
    "for i in list(human_datamatrix.iloc[:,0]):\n",
    "    if i == 'Sample Type:No Recurrence':\n",
    "        hd_labels.append('No Recurrence')\n",
    "    else:\n",
    "        hd_labels.append('Recurrence')"
   ]
  },
  {
   "cell_type": "code",
   "execution_count": null,
   "id": "ae4d2c6c",
   "metadata": {},
   "outputs": [],
   "source": [
    "human_datamatrix = human_datamatrix.iloc[:,1:]\n",
    "human_datamatrix = human_datamatrix.astype(float) # Passing the values from strings to floats.\n",
    "human_datamatrix"
   ]
  },
  {
   "cell_type": "code",
   "execution_count": null,
   "id": "a9a65206",
   "metadata": {},
   "outputs": [],
   "source": [
    "# Subtract the average of the 5 blanks from the samples in the dataset\n",
    "if blank_treatment:\n",
    "    human_datamatrix = human_datamatrix.replace({np.nan:0}) - blanks_average\n",
    "    human_datamatrix[human_datamatrix<0] = 0\n",
    "    human_datamatrix = human_datamatrix.replace({0:np.nan})"
   ]
  },
  {
   "cell_type": "markdown",
   "id": "61528e66",
   "metadata": {},
   "source": [
    "'Neutralization' of the _m/z_ values by subtracting the mass of a proton to the _m/z_ peaks.\n",
    "\n",
    "4 peaks (2 pairs) with different retention time have the exact same _m/z_ values. These 2 pairs of peaks will be treated as only 2 different peaks (instead of four)."
   ]
  },
  {
   "cell_type": "code",
   "execution_count": null,
   "id": "49803a47",
   "metadata": {},
   "outputs": [],
   "source": [
    "# Atomic masses - https://ciaaw.org/atomic-masses.htm\n",
    "#Isotopic abundances-https://ciaaw.org/isotopic-abundances.htm/https://www.degruyter.com/view/journals/pac/88/3/article-p293.xml\n",
    "# Isotopic abundances from Pure Appl. Chem. 2016; 88(3): 293–306,\n",
    "# Isotopic compositions of the elements 2013 (IUPAC Technical Report), doi: 10.1515/pac-2015-0503\n",
    "\n",
    "chemdict = {'H':(1.0078250322, 0.999844),\n",
    "            'C':(12.000000000, 0.988922),\n",
    "            'N':(14.003074004, 0.996337),\n",
    "            'O':(15.994914619, 0.9976206),\n",
    "            'Na':(22.98976928, 1.0),\n",
    "            'P':(30.973761998, 1.0),\n",
    "            'S':(31.972071174, 0.9504074),\n",
    "            'Cl':(34.9688527, 0.757647),\n",
    "            'F':(18.998403163, 1.0),\n",
    "            'C13':(13.003354835, 0.011078) # Carbon 13 isotope\n",
    "           } \n",
    "\n",
    "# electron mass from NIST http://physics.nist.gov/cgi-bin/cuu/Value?meu|search_for=electron+mass\n",
    "electron_mass = 0.000548579909065"
   ]
  },
  {
   "cell_type": "code",
   "execution_count": null,
   "id": "be837647",
   "metadata": {},
   "outputs": [],
   "source": [
    "mz_list = mz_list[1:] - chemdict['H'][0] + electron_mass\n",
    "counts = human_datamatrix.count(axis=0)\n",
    "final_mz_list = list(mz_list[list(counts >= 2)])\n",
    "final_mz_list = set(final_mz_list)"
   ]
  },
  {
   "cell_type": "markdown",
   "id": "6de2efdf",
   "metadata": {},
   "source": [
    "### Data Pre-Treatments"
   ]
  },
  {
   "cell_type": "code",
   "execution_count": null,
   "id": "9b6c4d98",
   "metadata": {},
   "outputs": [],
   "source": [
    "human_datamatrix = transf.keep_atleast(human_datamatrix, minimum=2) # Keep features that appear in at least two samples"
   ]
  },
  {
   "cell_type": "code",
   "execution_count": null,
   "id": "4d0dd09c",
   "metadata": {},
   "outputs": [],
   "source": [
    "# For missing value imputation based on constants relative to the minimum of each feature instead of the full dataset\n",
    "def fillna_frac_feat_min(df, fraction=0.2):\n",
    "    \"\"\"Set NaN to a fraction of the minimum value in each column of the DataFrame.\"\"\"\n",
    "\n",
    "    minimum = df.min(axis=0) * fraction\n",
    "    return df.fillna(minimum)"
   ]
  },
  {
   "cell_type": "code",
   "execution_count": null,
   "id": "e28c8c42",
   "metadata": {},
   "outputs": [],
   "source": [
    "human_datamatrix_I = fillna_frac_feat_min(human_datamatrix.T, fraction=0.2).T\n",
    "human_datamatrix_N = transf.normalize_PQN(human_datamatrix_I, ref_sample='mean')\n",
    "human_datamatrix_treated = transf.pareto_scale(transf.glog(human_datamatrix_N, lamb=None))"
   ]
  },
  {
   "cell_type": "code",
   "execution_count": null,
   "id": "c0675b7b",
   "metadata": {},
   "outputs": [],
   "source": [
    "human_datamatrix_I"
   ]
  },
  {
   "cell_type": "markdown",
   "id": "6d2e8af1",
   "metadata": {},
   "source": [
    "### Calculating Silhouette Coefficient\n",
    "\n",
    "The Silhouette coefficient was calculated (with scikit learn's `silhouette score`) using the class labels as the clusters in order to give a measure of how overlapped the biological classes are between the different datasets.\n",
    "\n",
    "The coefficient was calculated using all features of the dataset after pre-treatment and using the PCA Scores of the 2 first Principal Components."
   ]
  },
  {
   "cell_type": "code",
   "execution_count": null,
   "id": "58e972f8",
   "metadata": {},
   "outputs": [],
   "source": [
    "# Silhoutte Coefficient based on all the features of the dataset after pre-treatment\n",
    "print('Calculation based on all the features of the dataset after pre-treatment')\n",
    "print('Silhouette Coefficient:', silhouette_score(human_datamatrix_treated, hd_labels))"
   ]
  },
  {
   "cell_type": "code",
   "execution_count": null,
   "id": "dc28f403",
   "metadata": {},
   "outputs": [],
   "source": [
    "# Silhoutte Coefficient based on the PCA Scores of the samples on the 2 first Principal Components\n",
    "principaldf, var = ma.compute_df_with_PCs(human_datamatrix_treated, n_components=2, whiten=True,\n",
    "                                          labels=hd_labels, return_var_ratios=True)\n",
    "s_score = silhouette_score(principaldf.iloc[:,:2], hd_labels)\n",
    "print('Calculation based on the PCA Scores of the samples on the 2 first Principal Components')\n",
    "print('Silhouette Coefficient:', s_score)"
   ]
  },
  {
   "cell_type": "markdown",
   "id": "52c8ab05",
   "metadata": {},
   "source": [
    "#### Linear Augmentation / Interpolation of the experimental data and corresponding sample labels/classes to use as training data for the GAN network.\n",
    "\n",
    "Used the data after missing value imputation and before other pre-treatments.\n",
    "\n",
    "Due to PCD size, this takes a long time (in a way, it would not be needed due to the high number of samples), but we do it for coherency with the remaining datasets.\n",
    "\n",
    "Pre-treatment on the linearly augmented data."
   ]
  },
  {
   "cell_type": "code",
   "execution_count": null,
   "id": "d35ab5db",
   "metadata": {},
   "outputs": [],
   "source": [
    "# Takes a long time the first time to make this (large example dataset), after this make GENERATE_LIN = False\n",
    "GENERATE_LIN = True\n",
    "if GENERATE_LIN:\n",
    "    start = perf_counter()\n",
    "    data, lbls = laf.artificial_dataset_generator(human_datamatrix_I, labels=hd_labels,\n",
    "                                            max_new_samples_per_label=512, binary=False, rnd=0.5, \n",
    "                                            binary_rnd_state=None, rnd_state=None)\n",
    "    end = perf_counter()\n",
    "    print(f'Simple augmentation of data done! took {(end - start):.3f} s')\n",
    "    \n",
    "    # Then pre-treatment of the newly generated data\n",
    "    data_N = transf.normalize_PQN(data, ref_sample='mean')\n",
    "    data_treated = transf.pareto_scale(transf.glog(data_N, lamb=None))"
   ]
  },
  {
   "cell_type": "code",
   "execution_count": null,
   "id": "03229cb7",
   "metadata": {},
   "outputs": [],
   "source": [
    "# Store the generated data as to not need to make them again\n",
    "if GENERATE_LIN:\n",
    "    # Store Linear Augmented Data\n",
    "    data_treated.to_csv('store_data/PCD_generated_data_NGP.csv')\n",
    "\n",
    "    # Store labels/classes corresponding to each generated sample\n",
    "    with open('store_data/PCD_data_NGP_lbls.txt', 'w') as a:\n",
    "        for item in lbls:\n",
    "            a.write(\"{}\\n\".format(item))\n",
    "\n",
    "# Read back the generated GAN data\n",
    "if not GENERATE_LIN:\n",
    "    data_treated = pd.read_csv('store_data/PCD_generated_data_NGP.csv')\n",
    "    data_treated = data_treated.set_index(data_treated.columns[0])\n",
    "    data_treated\n",
    "\n",
    "    with open('store_data/PCD_data_NGP_lbls.txt') as a:\n",
    "        lbls = a.read().split('\\n')[:-1]"
   ]
  },
  {
   "cell_type": "markdown",
   "id": "43233e04",
   "metadata": {},
   "source": [
    "#### Univariate Analysis"
   ]
  },
  {
   "cell_type": "code",
   "execution_count": null,
   "id": "2f78e08f",
   "metadata": {},
   "outputs": [],
   "source": [
    "uni_results = ma.compute_FC_pvalues_2groups(human_datamatrix_N, human_datamatrix_treated,\n",
    "                               labels=hd_labels,\n",
    "                               equal_var=True,\n",
    "                               alpha=0.05, useMW=False)\n",
    "uni_results"
   ]
  },
  {
   "cell_type": "code",
   "execution_count": null,
   "id": "ea4869db",
   "metadata": {},
   "outputs": [],
   "source": [
    "pvalue = 0.01\n",
    "log2FC = 1\n",
    "\n",
    "b = uni_results[uni_results['FDR adjusted p-value'] < pvalue]\n",
    "uni_results_filt = b[abs(b['log2FC']) > log2FC]\n",
    "uni_results_filt"
   ]
  },
  {
   "cell_type": "markdown",
   "id": "68684835",
   "metadata": {},
   "source": [
    "#### PLS-DA model"
   ]
  },
  {
   "cell_type": "code",
   "execution_count": null,
   "id": "95b88efb",
   "metadata": {},
   "outputs": [],
   "source": [
    "%%capture --no-stdout\n",
    "# above is to supress PLS warnings\n",
    "\n",
    "max_comp=20\n",
    "\n",
    "# Store Results\n",
    "PLS_optim = {}\n",
    "\n",
    "# Build and extract metrics from models build with different number of components by using the optim_PLS function.\n",
    "treatment = 'NGP'\n",
    "print(f'Fitting PLS-DA model with treatment {treatment}', end=' ...')\n",
    "plsdaname = treatment\n",
    "PLS_optim[plsdaname] = {'treatment':treatment}\n",
    "n_fold = 5\n",
    "optim = ma.optim_PLSDA_n_components(human_datamatrix_treated, hd_labels,\n",
    "                                    max_comp=max_comp, n_fold=n_fold).CVscores\n",
    "PLS_optim[plsdaname]['CV_scores'] = optim\n",
    "print(f'done')"
   ]
  },
  {
   "cell_type": "code",
   "execution_count": null,
   "id": "b56fa0b8",
   "metadata": {},
   "outputs": [],
   "source": [
    "PLS_optim[plsdaname]['CV_scores']"
   ]
  },
  {
   "cell_type": "markdown",
   "id": "8d50f520",
   "metadata": {},
   "source": [
    "### Inputs for GAN model"
   ]
  },
  {
   "cell_type": "code",
   "execution_count": null,
   "id": "e4dfa176",
   "metadata": {},
   "outputs": [],
   "source": [
    "# Get distribution of intensity values of the dataset\n",
    "hist = np.histogram(human_datamatrix_treated.values.flatten(), bins=100)\n",
    "input_realdata_dist = stats.rv_histogram(hist)"
   ]
  },
  {
   "cell_type": "markdown",
   "id": "770c784c",
   "metadata": {},
   "source": [
    "Set up colours for each of the classes. Generated samples will have the corresponding label with '- GAN' after."
   ]
  },
  {
   "cell_type": "code",
   "execution_count": null,
   "id": "404593ca",
   "metadata": {},
   "outputs": [],
   "source": [
    "colours2 = sns.color_palette('tab20', 4)[:5]\n",
    "\n",
    "ordered_labels_test = ('Recurrence','Recurrence - GAN','No Recurrence','No Recurrence - GAN')\n",
    "label_colors_test = {lbl: c for lbl, c in zip(ordered_labels_test, colours2)}\n",
    "ordered_labels = ['Recurrence', 'No Recurrence']\n",
    "\n",
    "sns.palplot(label_colors_test.values())\n",
    "new_ticks_test = plt.xticks(range(len(ordered_labels_test)), ordered_labels_test)"
   ]
  },
  {
   "cell_type": "markdown",
   "id": "0520e74a",
   "metadata": {},
   "source": [
    "## Conditional Wasserstein GAN - GP model\n",
    "\n",
    "This model construction was made by joining WGAN-GP models with Conditional GAN models. WGAN-GP models were originally made according to / originally based in https://keras.io/examples/generative/wgan_gp/#wasserstein-gan-wgan-with-gradient-penalty-gp and Conditional GAN models - https://machinelearningmastery.com/how-to-develop-a-conditional-generative-adversarial-network-from-scratch/ (generator and discriminator model) and https://keras.io/examples/generative/conditional_gan/ without using OOP (loss functions and training/training steps)."
   ]
  },
  {
   "cell_type": "code",
   "execution_count": null,
   "id": "43aa5021",
   "metadata": {},
   "outputs": [],
   "source": [
    "def generator_model(len_input, len_output, n_hidden_nodes, n_labels): \n",
    "    \"Make the generator model of CWGAN-GP.\"\n",
    "\n",
    "    data_input = tf.keras.Input(shape=(len_input,), name='data') # Take intensity input\n",
    "    label_input = tf.keras.Input(shape=(1,), name='label') # Take Label Input\n",
    "    \n",
    "    # Treat label input to concatenate to intensity data after\n",
    "    label_m = tf.keras.layers.Embedding(n_labels, 30, input_length=1)(label_input)\n",
    "    label_m = tf.keras.layers.Dense(256, activation='linear', use_bias=True)(label_m)\n",
    "    #label_m = tf.keras.layers.Reshape((len_input,1,))(label_m)\n",
    "    label_m2 = tf.keras.layers.Reshape((256,))(label_m)\n",
    "\n",
    "    joined_data = tf.keras.layers.Concatenate()([data_input, label_m2]) # Concatenate intensity and label data\n",
    "    # Hidden Dense Layer and Normalization\n",
    "    joined_data = tf.keras.layers.Dense(n_hidden_nodes, activation=tf.nn.leaky_relu, use_bias=True)(joined_data)\n",
    "    joined_data = tf.keras.layers.Dense(256, activation=tf.nn.leaky_relu, use_bias=True)(joined_data)\n",
    "    joined_data = tf.keras.layers.BatchNormalization()(joined_data)\n",
    "    \n",
    "    # Output - number of features of sample to make\n",
    "    output = tf.keras.layers.Dense(len_output, activation='linear', use_bias=True)(joined_data)\n",
    "    \n",
    "    generator = tf.keras.Model(inputs=[data_input, label_input], outputs=output)\n",
    "    \n",
    "    return generator\n",
    "\n",
    "\n",
    "def critic_model(len_input, n_hidden_nodes, n_labels):\n",
    "    \"Make the critic model of CWGAN-GP.\"\n",
    "    \n",
    "    label_input = tf.keras.Input(shape=(1,)) # Take intensity input\n",
    "    data_input = tf.keras.Input(shape=(len_input,)) # Take Label Input\n",
    "\n",
    "    # Treat label input to concatenate to intensity data after\n",
    "    label_m = tf.keras.layers.Embedding(n_labels, 30, input_length=1)(label_input)\n",
    "    label_m = tf.keras.layers.Dense(256, activation='linear', use_bias=True)(label_m)\n",
    "    #label_m = tf.keras.layers.Reshape((len_input,1,))(label_m)\n",
    "    label_m = tf.keras.layers.Reshape((256,))(label_m)\n",
    "\n",
    "    joined_data = tf.keras.layers.Concatenate()([data_input, label_m]) # Concatenate intensity and label data\n",
    "    # Hidden Dense Layer (Normalization worsened results here)\n",
    "    joined_data = tf.keras.layers.Dense(n_hidden_nodes, activation=tf.nn.leaky_relu, use_bias=True)(joined_data)\n",
    "    joined_data = tf.keras.layers.Dense(128, activation=tf.nn.leaky_relu, use_bias=True)(joined_data)\n",
    "    joined_data = tf.keras.layers.Dense(256, activation=tf.nn.leaky_relu, use_bias=True)(joined_data)\n",
    "    #joined_data = tf.keras.layers.BatchNormalization()(joined_data)\n",
    "\n",
    "    # Output Layer - 1 node for critic decision\n",
    "    output = tf.keras.layers.Dense(1, activation='linear', use_bias=True)(joined_data)\n",
    "    \n",
    "    critic = tf.keras.Model(inputs=[data_input, label_input], outputs=output)\n",
    "\n",
    "    return critic"
   ]
  },
  {
   "cell_type": "code",
   "execution_count": null,
   "id": "e0f1c898",
   "metadata": {},
   "outputs": [],
   "source": [
    "def generate_predictions(model, num_examples_to_generate, len_input, input_dist, uni_lbls):\n",
    "    \"Generate sample predictions based on a Generator model.\"\n",
    "    \n",
    "    test_input =  tf.constant(input_dist.rvs(size=len_input*num_examples_to_generate), shape=[\n",
    "        num_examples_to_generate,len_input]) \n",
    "    \n",
    "    if len(uni_lbls) < 3:\n",
    "        test_labels = tf.constant([1.0]*(num_examples_to_generate//2) + [0.0]*(num_examples_to_generate//2), \n",
    "                                  shape=(num_examples_to_generate,1))\n",
    "    else:\n",
    "        test_labels = []\n",
    "        for i in range(len(uni_lbls)):\n",
    "            test_labels.extend([i]*(num_examples_to_generate//len(uni_lbls)))\n",
    "        test_labels = np.array(pd.get_dummies(test_labels))\n",
    "        #np.array(pd.get_dummies([i for i in range(len(uni_lbls))]*(num_examples_to_generate//len(uni_lbls))))\n",
    "    predictions = model([test_input, test_labels], training=False) # `training` is set to False.\n",
    "    return predictions"
   ]
  },
  {
   "cell_type": "code",
   "execution_count": null,
   "id": "28cceb45",
   "metadata": {},
   "outputs": [],
   "source": [
    "def training_montage(train_data_o, train_lbls, test_data, test_lbls,\n",
    "                     epochs, generator, critic, generator_optimizer, critic_optimizer, input_dist,\n",
    "                    batch_size, grad_pen_weight=10, k_cov_den=50, k_crossLID=15, random_seed=145,\n",
    "                    n_generated_samples=96):\n",
    "    \"\"\"Train a generator and critic of CWGAN-GP.\n",
    "    \n",
    "       Receives training data and respective class labels (train_data_o and train_lbls) and trains a generator and a critic\n",
    "        model (generator, critic) over a number of epochs (epochs) with a set batch size (batch_size) with the respective \n",
    "        optimizers and learning rate (generator_optimizer, critic_optimizer). Gradient Penalty is calculated with\n",
    "        grad_pen_weight as the weight of the penalty.\n",
    "       The functions returns at time intervals three graphs to evaluate the progression of the models (Loss plots,\n",
    "        coverage, density, crossLID and correct first cluster plots and PCA plot with generated and test data). To this\n",
    "        end, samples need to be generated requiring the distribution to sample the initial input values from (input_dist),\n",
    "        and test data and respective labels has to be given (test_data and test_lbls). Finally the number of neighbors to\n",
    "        consider for coverage/density and crossLID calculation is also needed (k_cov_den, k_crossLID).\n",
    "    \n",
    "       train_data_o: Pandas DataFrame with training data;\n",
    "       train_lbls: List with training data class labels;\n",
    "       test_data: Pandas DataFrame with test data to evaluate the model;\n",
    "       test_lbls: List with test data class labels to evaluate the model;\n",
    "       epochs: Int value with the number of epochs to train the model;\n",
    "       generator: tensorflow keras.engine.functional.Functional model for the generator;\n",
    "       critic: tensorflow keras.engine.functional.Functional model for the critic;\n",
    "       generator_optimizer: tensorflow keras optimizer (with learning rate) for generator;\n",
    "       critic_optimizer: tensorflow keras optimizer (with learning rate) for critic;\n",
    "       input_dist: scipy.stats._continuous_distns.rv_histogram object - distribution to sample input values for generator;\n",
    "       batch_size: int value with size of batch for model training;\n",
    "       grad_pen_weight: int value (default 10) for penalty weight in gradient penalty calculation;\n",
    "       k_cov_den: int value (default 50) for number of neighbors to consider for coverage and density calculation in\n",
    "       generated samples evaluation;\n",
    "       k_crossLID: int value (default 15) for number of neighbors to consider for crossLID calculation in generated samples\n",
    "        evaluation.\n",
    "       random_seed: int value (default 145) for numpy random seeding when randomly organizing samples in the data that\n",
    "        will be split into batches.\n",
    "       n_generated_samples: int value (default 96) for number of samples generated to test the model during training.\n",
    "    \"\"\"\n",
    "    \n",
    "    # Obtaining the train data, randomize its order and divide it be twice the standard deviation of its values\n",
    "    all_data = train_data_o.iloc[\n",
    "        np.random.RandomState(seed=random_seed).permutation(len(train_data_o))]/(2*train_data_o.values.std())\n",
    "    \n",
    "    # Same treatment for the test data\n",
    "    test_data = (test_data/(2*test_data.values.std())).values\n",
    "    training_data = all_data\n",
    "    train_data = all_data.values\n",
    "    \n",
    "    # Change class labels to numerical values while following the randomized ordered of samples\n",
    "    if len(set(train_lbls)) < 3: # 1 and 0 for when there are only two classes\n",
    "        train_labels = pd.get_dummies(\n",
    "            np.array(train_lbls)[np.random.RandomState(seed=random_seed).permutation(len(train_data))]).values[:,0]\n",
    "        test_labels = pd.get_dummies(np.array(test_lbls)).values[:,0]\n",
    "    else: # One hot encoding for when there are more than two classes\n",
    "        train_labels = pd.get_dummies(\n",
    "            np.array(train_lbls)[np.random.RandomState(seed=random_seed).permutation(len(train_data))]).values\n",
    "        test_labels = pd.get_dummies(np.array(test_lbls)).values\n",
    "    # Save the order of the labels\n",
    "    ordered_labels = pd.get_dummies(\n",
    "            np.array(train_lbls)[np.random.RandomState(seed=random_seed).permutation(len(train_data_o))]).columns\n",
    "\n",
    "    batch_divisions = int(batch_size / len(set(train_lbls))) # See how many samples of each class will be in each batch\n",
    "    n_steps = epochs * int(training_data.shape[0] / batch_size) # Number of steps: nº of batches per epoch * nº of epochs\n",
    "    n_critic = 5\n",
    "    \n",
    "    # Set up the evaluating images printed during training and the intervals they will be updated\n",
    "    f, (axl, axc, axr) = plt.subplots(1, 3, figsize = (16,5))\n",
    "    update1 = n_steps//200\n",
    "    update2 = n_steps//20\n",
    "\n",
    "    if hasattr(tqdm, '_instances'):\n",
    "        tqdm._instances.clear() # clear if it exists\n",
    "\n",
    "    i=0\n",
    "\n",
    "    for step in tqdm(range(n_steps)):\n",
    "        \n",
    "        # Critic Training\n",
    "        crit_loss_temp = []\n",
    "        \n",
    "        # Select real samples for this batch on training and order samples to put samples of the same class together\n",
    "        real_samp = train_data[i*batch_size:(i+1)*batch_size]\n",
    "        real_lbls = train_labels[i*batch_size:(i+1)*batch_size]\n",
    "\n",
    "        real_samples = np.empty(real_samp.shape)\n",
    "        real_labels = np.empty(real_lbls.shape)\n",
    "        a = 0\n",
    "        if len(set(train_lbls)) < 3:\n",
    "            for l,s in sorted(zip(real_lbls, real_samp), key=lambda pair: pair[0], reverse=True):\n",
    "                real_samples[a] = s\n",
    "                real_labels[a] = l\n",
    "                a = a+1\n",
    "        else:\n",
    "            for l,s in sorted(zip(real_lbls, real_samp), key=lambda pair: np.argmax(pair[0]), reverse=False):\n",
    "                #print(l, np.argmax(l))\n",
    "                real_samples[a] = s\n",
    "                real_labels[a] = l\n",
    "                a = a+1\n",
    "\n",
    "        for _ in range(n_critic): # For each step, train critic n_critic times\n",
    "            \n",
    "            # Generate input for generator\n",
    "            artificial_samples = tf.constant(input_dist.rvs(size=all_data.shape[1]*batch_size), shape=[\n",
    "                batch_size,all_data.shape[1]])\n",
    "            artificial_labels = real_labels.copy()\n",
    "\n",
    "            # Generate artificial samples from the latent vector\n",
    "            artificial_samples = generator([artificial_samples, artificial_labels], training=True)\n",
    "            \n",
    "            with tf.GradientTape() as crit_tape: # See the gradient for the critic\n",
    "\n",
    "                # Get the logits for the generated samples\n",
    "                X_artificial = critic([artificial_samples, artificial_labels], training=True)\n",
    "                # Get the logits for the real samples\n",
    "                X_true = critic([real_samples, real_labels], training=True)\n",
    "\n",
    "                # Calculate the critic loss using the generated and real sample results\n",
    "                c_cost = critic_loss_wgan(X_true, X_artificial)\n",
    "\n",
    "                # Calculate the gradient penalty\n",
    "                grad_pen = gradient_penalty_cwgan(batch_size, real_samples, artificial_samples,\n",
    "                                                  real_labels, artificial_labels, critic)\n",
    "                # Add the gradient penalty to the original discriminator loss\n",
    "                crit_loss = c_cost + grad_pen * grad_pen_weight\n",
    "                \n",
    "            crit_loss_temp.append(crit_loss)\n",
    "\n",
    "            # Calculate and apply the gradients obtained from the loss on the trainable variables\n",
    "            gradients_of_critic = crit_tape.gradient(crit_loss, critic.trainable_variables)\n",
    "            critic_optimizer.apply_gradients(zip(gradients_of_critic, critic.trainable_variables))\n",
    "\n",
    "        i = i + 1\n",
    "        if (step+1) % (n_steps//epochs) == 0:\n",
    "            i=0\n",
    "\n",
    "        crit_loss_all.append(np.mean(crit_loss_temp))\n",
    "        \n",
    "        # Generator Training\n",
    "        # Generate inputs for generator, values and labels\n",
    "        artificial_samples = tf.constant(input_dist.rvs(size=all_data.shape[1]*batch_size), shape=[\n",
    "                batch_size,all_data.shape[1]])\n",
    "        \n",
    "        if len(set(train_lbls)) < 3:\n",
    "            artificial_labels = tf.constant([1.0]*(batch_size//2) + [0.0]*(batch_size//2), shape=(batch_size,1))\n",
    "        else:\n",
    "            artificial_labels = np.array(pd.get_dummies([i for i in range(len(set(train_lbls)))]*batch_divisions))\n",
    "    \n",
    "        with tf.GradientTape() as gen_tape: # See the gradient for the generator\n",
    "            # Generate artificial samples\n",
    "            artificial_samples = generator([artificial_samples, artificial_labels], training=True)\n",
    "            \n",
    "            # Get the critic results for generated samples\n",
    "            X_artificial = critic([artificial_samples, artificial_labels], training=True)\n",
    "            # Calculate the generator loss\n",
    "            gen_loss = generator_loss_wgan(X_artificial)\n",
    "\n",
    "        # Calculate and apply the gradients obtained from the loss on the trainable variables\n",
    "        gradients_of_generator = gen_tape.gradient(gen_loss, generator.trainable_variables)\n",
    "        generator_optimizer.apply_gradients(zip(gradients_of_generator, generator.trainable_variables))\n",
    "        gen_loss_all.append(gen_loss)\n",
    "\n",
    "        # Update the progress bar and evaluation graphs every update1 steps for loss plots and update2 for the others.\n",
    "        if (step + 1) % update1 == 0:\n",
    "            \n",
    "            # Update the evaluating figures at the set intervals\n",
    "            axl.clear() # Always clear the corresponding ax before redrawing it\n",
    "            \n",
    "            # Loss Plot\n",
    "            axl.plot(gen_loss_all, color = 'blue', label='Generator Loss')\n",
    "            axl.plot(crit_loss_all,color = 'red', label='Critic Loss')\n",
    "            axl.set_xlabel('Number of Steps')\n",
    "            axl.set_ylabel('Loss')\n",
    "            axl.legend()\n",
    "            \n",
    "            ipythondisplay.clear_output(wait=True)\n",
    "            ipythondisplay.display(plt.gcf())\n",
    "\n",
    "        if (step + 1) % update2 == 0:\n",
    "\n",
    "            saved_predictions.append(generate_predictions(generator, n_generated_samples, all_data.shape[1], \n",
    "                                                          input_realdata_dist, ordered_labels))\n",
    "            # See density and coverage and crossLID (divided by 25 to be in the same order as the rest) \n",
    "            # of latest predictions\n",
    "            den, cov = gem.evaluation_coverage_density(test_data, saved_predictions[-1], k= k_cov_den, metric='euclidean')\n",
    "            clid = gem.cross_LID_estimator_byMLE(test_data, saved_predictions[-1], k=k_crossLID, metric='euclidean')/25\n",
    "            density.append(den)\n",
    "            coverage.append(cov)\n",
    "            crossLID.append(clid)\n",
    "\n",
    "            # PCA of the latest predictions and training data\n",
    "            # Divide by twice the standard deviation to be the same as the generated data\n",
    "            dfs_temp = pd.concat((train_data_o/(2*train_data_o.values.std()),pd.DataFrame(\n",
    "                saved_predictions[-1].numpy(), columns=train_data_o.columns))) \n",
    "            temp_lbls = train_lbls.copy()\n",
    "            for l in ordered_labels:\n",
    "                temp_lbls.extend([l+' - GAN']*(n_generated_samples//len(ordered_labels)))\n",
    "            principaldf = gem.pca_sample_projection(dfs_temp, temp_lbls, pca, whiten=True, \n",
    "                                                samp_number=len(train_data_o.index))\n",
    "            lcolors = label_colors_test\n",
    "\n",
    "            # Hierarchical clustering of the latest predictions and testing data, \n",
    "            # saving the correct 1st cluster fraction results\n",
    "            dfs_temp = np.concatenate((test_data, saved_predictions[-1].numpy()))\n",
    "            temp_lbls = ['real']*len(test_data) + ['gen']*len(saved_predictions[-1])\n",
    "            hca_results = gem.perform_HCA(dfs_temp, temp_lbls, metric='euclidean', method='ward')\n",
    "            corr1stcluster.append(hca_results['correct 1st clustering'])\n",
    "            \n",
    "            # Plots\n",
    "            axc.clear()\n",
    "            axc.plot(range(update2, step+2, update2), coverage, label='coverage')\n",
    "            axc.plot(range(update2, step+2, update2), density, label='density')\n",
    "            axc.plot(range(update2, step+2, update2), crossLID, color='red', label='crossLID/25')\n",
    "            axc.plot(range(update2, step+2, update2), corr1stcluster, color='purple', label='corr_cluster')\n",
    "            axc.legend()\n",
    "\n",
    "            axr.clear()\n",
    "            gem.plot_PCA(principaldf, lcolors, components=(1,2), title='', ax=axr)\n",
    "            axr.legend(loc='upper right', ncol=1, framealpha=1)\n",
    "            \n",
    "            ipythondisplay.clear_output(wait=True)\n",
    "            ipythondisplay.display(plt.gcf())"
   ]
  },
  {
   "cell_type": "markdown",
   "id": "59bae48a",
   "metadata": {},
   "source": [
    "### Training the GAN"
   ]
  },
  {
   "cell_type": "code",
   "execution_count": null,
   "id": "f8dc977f",
   "metadata": {},
   "outputs": [],
   "source": [
    "GENERATE=True\n",
    "\n",
    "epochs = 500\n",
    "batch_size = 32\n",
    "k_cov_den = 20\n",
    "k_crossLID = 15\n",
    "random_seed = 145\n",
    "n_generated_samples = 48*len(pd.unique(lbls))\n",
    "\n",
    "if GENERATE:\n",
    "    # Store results\n",
    "    gen_loss_all = []\n",
    "    crit_loss_all = []\n",
    "    saved_predictions = []\n",
    "    coverage = []\n",
    "    density = []\n",
    "    crossLID = []\n",
    "    corr1stcluster = []\n",
    "    \n",
    "    df = human_datamatrix_treated\n",
    "    pca = PCA(n_components=2, svd_solver='full', whiten=True)\n",
    "    pc_coords = pca.fit_transform(df)\n",
    "\n",
    "    generator_optimizer = tf.keras.optimizers.RMSprop(5e-4)\n",
    "    critic_optimizer = tf.keras.optimizers.RMSprop(5e-4)\n",
    "\n",
    "    generator = generator_model(data_treated.shape[1], data_treated.shape[1], 128, 2)\n",
    "    critic = critic_model(data_treated.shape[1], 256, 2)\n",
    "\n",
    "    training_montage(data_treated, lbls, data_treated, lbls,\n",
    "                     epochs, generator, critic, generator_optimizer, critic_optimizer,\n",
    "                     input_realdata_dist, batch_size, grad_pen_weight=10, k_cov_den=k_cov_den, k_crossLID=k_crossLID,\n",
    "                     random_seed=random_seed, n_generated_samples=n_generated_samples)\n",
    "    \n",
    "    results={'gen_loss': gen_loss_all, 'crit_loss': crit_loss_all, 'saved_pred': saved_predictions,\n",
    "             'coverage': coverage, 'density': density, 'crossLID': crossLID, 'corr1st_cluster': corr1stcluster}"
   ]
  },
  {
   "cell_type": "code",
   "execution_count": null,
   "id": "5b724aa6",
   "metadata": {},
   "outputs": [],
   "source": [
    "if GENERATE:\n",
    "    # Save the generator and critic models' weights.\n",
    "    generator.save_weights('gan_models/PCDint_gen')\n",
    "    critic.save_weights('gan_models/PCDint_crit')\n",
    "    \n",
    "    # Store data (serialize)\n",
    "    with open('gan_models/PCDint_results.pickle', 'wb') as handle:\n",
    "        pickle.dump(results, handle)\n",
    "\n",
    "else:\n",
    "    # Setting the model up\n",
    "    generator_optimizer = tf.keras.optimizers.RMSprop(5e-4)\n",
    "    critic_optimizer = tf.keras.optimizers.RMSprop(5e-4)\n",
    "\n",
    "    generator = generator_model(data_treated.shape[1], data_treated.shape[1], 128, 2)\n",
    "    critic = critic_model(data_treated.shape[1], 256, 2)\n",
    "\n",
    "    # Load Previously saved models\n",
    "    generator.load_weights('./gan_models/PCDint_gen')\n",
    "    critic.load_weights('./gan_models/PCDint_crit')\n",
    "    \n",
    "    with open('gan_models/PCDint_results.pickle', 'rb') as handle:\n",
    "        results = pickle.load(handle)\n",
    "    \n",
    "    gen_loss_all, crit_loss_all, saved_predictions = results['gen_loss'], results['crit_loss'], results['saved_pred']\n",
    "    coverage, density, crossLID = results['coverage'], results['density'], results['crossLID']\n",
    "    corr1stcluster = results['corr1st_cluster']"
   ]
  },
  {
   "cell_type": "markdown",
   "id": "a2017d17",
   "metadata": {},
   "source": [
    "#### Generate examples from our new code\n",
    "\n",
    "\n",
    "- Generate examples in bulk - predictions (GAN data)\n",
    "- Select only the 5 most correlated generated samples with each of the original samples - corr_preds (CorrGAN Data)\n",
    "\n",
    "#### CorrGAN"
   ]
  },
  {
   "cell_type": "code",
   "execution_count": null,
   "id": "192ead26",
   "metadata": {},
   "outputs": [],
   "source": [
    "num_examples_to_generate = 2048\n",
    "# Get distribution of intensity values of the dataset\n",
    "hist = np.histogram(human_datamatrix_treated.values.flatten(), bins=100)\n",
    "input_realdata_dist = stats.rv_histogram(hist)\n",
    "\n",
    "test_input = tf.constant(input_realdata_dist.rvs(size=data_treated.shape[1]*num_examples_to_generate), \n",
    "                         shape=[num_examples_to_generate, data_treated.shape[1]])\n",
    "test_labels = tf.constant([1]*(num_examples_to_generate//2) + [0]*(num_examples_to_generate//2), shape=[\n",
    "        num_examples_to_generate,1])\n",
    "\n",
    "predictions = generator([test_input, test_labels], training=False)\n",
    "predictions = pd.DataFrame(predictions.numpy(), columns=data_treated.columns) * 2*data_treated.values.std()"
   ]
  },
  {
   "cell_type": "markdown",
   "id": "2dccd47f",
   "metadata": {},
   "source": [
    "See correlation between samples and choose the 5 most correlated generated samples for each of the original samples."
   ]
  },
  {
   "cell_type": "code",
   "execution_count": null,
   "id": "e7e2afe1",
   "metadata": {},
   "outputs": [],
   "source": [
    "df = human_datamatrix_treated\n",
    "# Calculate all correlations between all samples of real and artificial data and store them in a dataframe\n",
    "correlations = pd.DataFrame(index=predictions.index, columns=df.index).astype('float')\n",
    "\n",
    "for i in df.index:\n",
    "    for j in predictions.index:\n",
    "        correlations.loc[j,i] = stats.pearsonr(df.loc[i],\n",
    "                                               predictions.loc[j])[0]"
   ]
  },
  {
   "cell_type": "code",
   "execution_count": null,
   "id": "6ba54234",
   "metadata": {},
   "outputs": [],
   "source": [
    "# Indices to keep in the correlated GAN data\n",
    "idx_to_keep = []\n",
    "for i in correlations:\n",
    "    idx_to_keep.extend(correlations[i].sort_values(ascending=False).index[:5])\n",
    "    \n",
    "print('Nº of total idx :', len(idx_to_keep))\n",
    "print('Nº of unique idx:', len(set(idx_to_keep)))"
   ]
  },
  {
   "cell_type": "code",
   "execution_count": null,
   "id": "827dd8a6",
   "metadata": {},
   "outputs": [],
   "source": [
    "# Make the correlation GAN dataframe and corresponding label targets\n",
    "corr_preds = predictions.loc[list(set(idx_to_keep))]\n",
    "corr_lbls  = list(np.array(test_labels)[list(set(idx_to_keep))])"
   ]
  },
  {
   "cell_type": "markdown",
   "id": "f79a92bd",
   "metadata": {},
   "source": [
    "#### GAN Data"
   ]
  },
  {
   "cell_type": "code",
   "execution_count": null,
   "id": "1d7f4e9c",
   "metadata": {},
   "outputs": [],
   "source": [
    "ordered_labels = pd.get_dummies(\n",
    "            np.array(lbls)[np.random.RandomState(seed=random_seed).permutation(len(lbls))]).columns\n",
    "ordered_labels"
   ]
  },
  {
   "cell_type": "code",
   "execution_count": null,
   "id": "bc175da5",
   "metadata": {},
   "outputs": [],
   "source": [
    "num_examples_to_generate = 1024\n",
    "# Get distribution of intensity values of the dataset\n",
    "hist = np.histogram(human_datamatrix_treated.values.flatten(), bins=100)\n",
    "input_realdata_dist = stats.rv_histogram(hist)\n",
    "\n",
    "test_input = tf.constant(input_realdata_dist.rvs(size=data_treated.shape[1]*num_examples_to_generate), \n",
    "                         shape=[num_examples_to_generate, data_treated.shape[1]])\n",
    "test_labels = tf.constant([1]*(num_examples_to_generate//2) + [0]*(num_examples_to_generate//2), shape=[\n",
    "        num_examples_to_generate,1])\n",
    "\n",
    "predictions = generator([test_input, test_labels], training=False)\n",
    "predictions = pd.DataFrame(predictions.numpy(), columns=data_treated.columns) \n",
    "predictions = predictions * 2*data_treated.values.std()\n",
    "\n",
    "last_preds_labels = ['No Recurrence']*(len(predictions)//2) + ['Recurrence']*(len(predictions)//2)"
   ]
  },
  {
   "cell_type": "markdown",
   "id": "ccc29796",
   "metadata": {},
   "source": [
    "Transforming the 96 generated samples for 20 different time points during GAN training (stored in results) into DataFrames."
   ]
  },
  {
   "cell_type": "code",
   "execution_count": null,
   "id": "b0dbc5dd",
   "metadata": {},
   "outputs": [],
   "source": [
    "# Transform predictions into Pandas DataFrames\n",
    "for i in range(len(saved_predictions)):\n",
    "    if type(saved_predictions[i]) != pd.core.frame.DataFrame:\n",
    "        saved_predictions[i] = pd.DataFrame(saved_predictions[i].numpy(),\n",
    "                                            columns=human_datamatrix.columns)* 2*data_treated.values.std()"
   ]
  },
  {
   "cell_type": "markdown",
   "id": "bae20351",
   "metadata": {},
   "source": [
    "### Loss Plot and PCAs and tSNEs representation on the evolution of generated samples with epochs\n",
    "\n",
    "Measures of progression of the model in time."
   ]
  },
  {
   "cell_type": "code",
   "execution_count": null,
   "id": "d95450a1",
   "metadata": {
    "scrolled": false
   },
   "outputs": [],
   "source": [
    "with sns.axes_style(\"whitegrid\"):\n",
    "    with sns.plotting_context(\"notebook\", font_scale=1.2):\n",
    "        steps_per_epoch = int(data_treated.shape[0] / batch_size)\n",
    "        f, ax = plt.subplots(1, 1, figsize=(4,4))\n",
    "        ax.plot(range(1,len(gen_loss_all)+1), gen_loss_all, label='Generator Loss')\n",
    "        ax.plot(range(1,len(crit_loss_all)+1), crit_loss_all, label='Critic Loss')\n",
    "        ax.set_xticks(range(0, (epochs+1)*steps_per_epoch, 200*steps_per_epoch))\n",
    "        ax.set_xticklabels(range(0, (epochs+1), 200))\n",
    "\n",
    "        ax.legend(fontsize=12, loc='lower right')#, bbox_to_anchor=(1,1))\n",
    "        ax.set_xlim([0*steps_per_epoch,(epochs)*steps_per_epoch])\n",
    "        ax.set_ylim([-90,70])\n",
    "        ax.set_xlabel('Nº of Epochs', fontsize=15)\n",
    "        ax.set_ylabel('Loss', fontsize=15)\n",
    "        ax.set_title('Loss Plot', fontsize=15)\n",
    "        plt.tight_layout()\n",
    "        f.savefig('images/PCDint_LossPlot.png' , dpi=400)"
   ]
  },
  {
   "cell_type": "markdown",
   "id": "4fb23fdb",
   "metadata": {},
   "source": [
    "**PCA and tSNE of GAN generated data and the linearly generated data**\n",
    "\n",
    "Progression with number of epochs."
   ]
  },
  {
   "cell_type": "code",
   "execution_count": null,
   "id": "ad197523",
   "metadata": {
    "scrolled": false
   },
   "outputs": [],
   "source": [
    "with sns.axes_style(\"whitegrid\"):\n",
    "    with sns.plotting_context(\"notebook\", font_scale=1):\n",
    "        f, axs = plt.subplots(2,5, figsize=(16,8), constrained_layout=True)\n",
    "        \n",
    "        for i, ax in zip(range(0, len(saved_predictions),2), axs.ravel()):\n",
    "            dfs_temp = pd.concat((human_datamatrix_treated, saved_predictions[i]))\n",
    "            temp_lbls = hd_labels.copy()\n",
    "            temp_lbls.extend(['No Recurrence - GAN']*(len(saved_predictions[-1])//2))\n",
    "            temp_lbls.extend(['Recurrence - GAN']*(len(saved_predictions[-1])//2))\n",
    "            \n",
    "            principaldf = ma.compute_df_with_PCs(dfs_temp, n_components=2, whiten=True, labels=temp_lbls,\n",
    "                                                 return_var_ratios=False)\n",
    "\n",
    "            lcolors = label_colors_test\n",
    "            \n",
    "            gem.plot_PCA(principaldf, lcolors, components=(1,2), title='', ax=ax)\n",
    "            #gem.plot_ellipses_PCA(principaldf, lcolors, components=(1,2),ax=ax, q=0.95)\n",
    "            ax.legend(loc='upper right', ncol=1, framealpha=1)\n",
    "        "
   ]
  },
  {
   "cell_type": "code",
   "execution_count": null,
   "id": "da95c982",
   "metadata": {},
   "outputs": [],
   "source": [
    "with sns.axes_style(\"whitegrid\"):\n",
    "    with sns.plotting_context(\"notebook\", font_scale=1):\n",
    "        f, axs = plt.subplots(2,5, figsize=(16,8), constrained_layout=True)\n",
    "        \n",
    "        for i, ax in zip(range(0, len(saved_predictions), 2), axs.ravel()):\n",
    "            \n",
    "            dfs_temp = pd.concat((human_datamatrix_treated, saved_predictions[i]))\n",
    "            temp_lbls = hd_labels.copy()\n",
    "            temp_lbls.extend(['No Recurrence - GAN']*(len(saved_predictions[-1])//2))\n",
    "            temp_lbls.extend(['Recurrence - GAN']*(len(saved_predictions[-1])//2))\n",
    "            \n",
    "            X = dfs_temp.copy()\n",
    "            X_embedded = TSNE(n_components=2, perplexity=30, learning_rate='auto',\n",
    "                              init='random', verbose=0).fit_transform(X)\n",
    "\n",
    "            df = X_embedded\n",
    "            labels = temp_lbls\n",
    "            lcolors = label_colors_test\n",
    "            \n",
    "            gem.plot_tSNE(df, labels, lcolors, components=(1,2), title='', ax=ax)\n",
    "            gem.plot_ellipses_tSNE(df, labels, lcolors, components=(1,2),ax=ax, q=0.95)\n",
    "            ax.legend(loc='upper right', ncol=1, framealpha=1)"
   ]
  },
  {
   "cell_type": "markdown",
   "id": "0a3e1843",
   "metadata": {},
   "source": [
    "#### PCA of GAN generated data and experimental (real) data"
   ]
  },
  {
   "cell_type": "code",
   "execution_count": null,
   "id": "375a4664",
   "metadata": {},
   "outputs": [],
   "source": [
    "with sns.axes_style(\"whitegrid\"):\n",
    "    with sns.plotting_context(\"notebook\", font_scale=1):\n",
    "        f, ax = plt.subplots(1,1, figsize=(4,4), constrained_layout=True)\n",
    "            \n",
    "        p = saved_predictions[-1].copy()\n",
    "        p.columns = human_datamatrix_treated.columns\n",
    "        dfs_temp = pd.concat((human_datamatrix_treated, p))\n",
    "        temp_lbls = hd_labels.copy()\n",
    "        temp_lbls.extend(['No Recurrence - GAN']*(len(saved_predictions[-1])//2))\n",
    "        temp_lbls.extend(['Recurrence - GAN']*(len(saved_predictions[-1])//2))\n",
    "\n",
    "        principaldf = ma.compute_df_with_PCs(dfs_temp, n_components=2, whiten=True, labels=temp_lbls,\n",
    "                                                 return_var_ratios=False)\n",
    "\n",
    "        lcolors = label_colors_test\n",
    "\n",
    "        gem.plot_PCA(principaldf, lcolors, components=(1,2), title='', ax=ax)\n",
    "        gem.plot_ellipses_PCA(principaldf, lcolors, components=(1,2),ax=ax, q=0.95)\n",
    "        ax.set_ylabel('PC 2', fontsize=15)\n",
    "        ax.set_xlabel('PC 1', fontsize=15)\n",
    "        #ax.legend(loc='upper left', bbox_to_anchor=(1, 1), fontsize=14)\n",
    "        f.savefig('images/PCDint_PCAPlot.png' , dpi=400)"
   ]
  },
  {
   "cell_type": "markdown",
   "id": "4d712d78",
   "metadata": {},
   "source": [
    "### Comparing GAN Generated Data Characteristics with other data"
   ]
  },
  {
   "cell_type": "code",
   "execution_count": null,
   "id": "1663209c",
   "metadata": {},
   "outputs": [],
   "source": [
    "names = ['Experimental data', 'GAN data', 'CorrGAN data']\n",
    "data_repo = [human_datamatrix_treated, predictions, corr_preds]\n",
    "tgs = [hd_labels, last_preds_labels, corr_lbls]\n",
    "data_characteristics = [gem.characterize_data(ds, name, tg) for ds,name,tg in zip(data_repo, names, tgs)]\n",
    "data_characteristics = pd.DataFrame(data_characteristics).set_index('Dataset')\n",
    "data_characteristics"
   ]
  },
  {
   "cell_type": "code",
   "execution_count": null,
   "id": "35abf8a6",
   "metadata": {},
   "outputs": [],
   "source": [
    "f, (axl, axr) = plt.subplots(1,2, figsize=(8,4))\n",
    "\n",
    "names = ['Experimental', 'GAN', 'CorrGAN']\n",
    "axl.boxplot([ds.values.flatten() for ds in data_repo])\n",
    "axl.set_ylabel('Distribution of scaled intensities', fontsize=15)\n",
    "axl.set_xticklabels(names, fontsize=12)\n",
    "#axl.set_yticks([-2, 0, 2, 4])\n",
    "\n",
    "axr.boxplot([ds.sum(axis=1) for ds in data_repo])\n",
    "axr.set_ylabel('Distribution of feature sum of intensities', fontsize=12)\n",
    "axr.set_xticklabels(names, fontsize=12)\n",
    "\n",
    "plt.tight_layout()\n",
    "plt.show()\n",
    "f.savefig('images/PCDint_characteristics.png' , dpi=400)"
   ]
  },
  {
   "cell_type": "markdown",
   "id": "22e7b4e7",
   "metadata": {},
   "source": [
    "### Hierarchical Clustering"
   ]
  },
  {
   "cell_type": "markdown",
   "id": "eb596301",
   "metadata": {},
   "source": [
    "Hierarchical clustering of the 96 GAN samples and 96 random samples from experimental data. "
   ]
  },
  {
   "cell_type": "code",
   "execution_count": null,
   "id": "ddfaf699",
   "metadata": {},
   "outputs": [],
   "source": [
    "# Hierarchical clustering of 96 GAN samples and all samples from real data\n",
    "dt = human_datamatrix_treated\n",
    "t_data = dt#.iloc[np.random.RandomState(seed=145).permutation(len(dt))][-96:]\n",
    "dfs_temp = np.concatenate((t_data, saved_predictions[-1]))\n",
    "\n",
    "test_labels = np.array(hd_labels)#[np.random.RandomState(seed=145).permutation(len(dt))][-96:]\n",
    "temp_lbls = list(test_labels)\n",
    "\n",
    "for i in ['No Recurrence','Recurrence']:\n",
    "    temp_lbls.extend([i+' - GAN']*(n_generated_samples//2))\n",
    "\n",
    "hca_results = gem.perform_HCA(dfs_temp, temp_lbls, metric='euclidean', method='ward')"
   ]
  },
  {
   "cell_type": "code",
   "execution_count": null,
   "id": "8ee61247",
   "metadata": {},
   "outputs": [],
   "source": [
    "# Hierarchical clustering of 96 GAN samples and 96 samples from real data\n",
    "dt = human_datamatrix_treated.copy()\n",
    "sp = saved_predictions[-1]\n",
    "random_seed=145\n",
    "all_data = dt.iloc[np.random.RandomState(seed=random_seed).permutation(len(dt))][:96]\n",
    "test_data = all_data[:96]\n",
    "\n",
    "dfs_temp = np.concatenate((test_data, sp.values))\n",
    "test_labels = np.array(hd_labels)[\n",
    "    np.random.RandomState(seed=random_seed).permutation(len(hd_labels))][:96]\n",
    "temp_lbls = list(test_labels)\n",
    "\n",
    "for i in ['No Recurrence','Recurrence']:\n",
    "    temp_lbls.extend([i+' - GAN']*(96//2))\n",
    "\n",
    "hca_results = gem.perform_HCA(dfs_temp, temp_lbls, metric='euclidean', method='ward')"
   ]
  },
  {
   "cell_type": "code",
   "execution_count": null,
   "id": "1d236526",
   "metadata": {},
   "outputs": [],
   "source": [
    "f, ax = plt.subplots(figsize=(3, 12))\n",
    "gem.plot_dendogram(hca_results['Z'], \n",
    "               temp_lbls, ax=ax,\n",
    "               label_colors=label_colors_test, title='',\n",
    "               color_threshold=0)\n",
    "ax.set_yticklabels([])\n",
    "ax.set_xticks([])\n",
    "plt.show()\n",
    "f.savefig('images/PCD_HCAPlot.png' , dpi=400)"
   ]
  },
  {
   "cell_type": "markdown",
   "id": "8dfba05e",
   "metadata": {},
   "source": [
    "### Coverage and Density"
   ]
  },
  {
   "cell_type": "code",
   "execution_count": null,
   "id": "82cc7278",
   "metadata": {},
   "outputs": [],
   "source": [
    "training_set = data_treated\n",
    "\n",
    "density_list, coverage_list = gem.evaluation_coverage_density_all_k_at_once(training_set, \n",
    "                                                                            predictions, \n",
    "                                                                            metric='Euclidean')\n",
    "\n",
    "density_list_test, coverage_list_test = gem.evaluation_coverage_density_all_k_at_once(training_set,\n",
    "                                                                                      human_datamatrix_treated, \n",
    "                                                                                      metric='Euclidean')\n",
    "\n",
    "density_list_real, coverage_list_real = gem.evaluation_coverage_density_all_k_at_once(human_datamatrix_treated, \n",
    "                                                                                      predictions,\n",
    "                                                                                      metric='Euclidean')\n",
    "\n",
    "density_list_corr, coverage_list_corr = gem.evaluation_coverage_density_all_k_at_once(training_set, \n",
    "                                                                                      corr_preds,\n",
    "                                                                                      metric='Euclidean')\n",
    "\n",
    "density_list_linaug_real, coverage_list_linaug_real = gem.evaluation_coverage_density_all_k_at_once(\n",
    "                                                                                      human_datamatrix_treated, \n",
    "                                                                                      training_set,\n",
    "                                                                                      metric='Euclidean')"
   ]
  },
  {
   "cell_type": "code",
   "execution_count": null,
   "id": "a7155737",
   "metadata": {},
   "outputs": [],
   "source": [
    "with sns.axes_style(\"whitegrid\"):\n",
    "    with sns.plotting_context(\"notebook\", font_scale=1.2):\n",
    "        f, (axl, axr) = plt.subplots(1, 2, figsize = (8,4))#, sharey='row')#, sharex='col')\n",
    "        \n",
    "        axl.plot(range(1,len(training_set)), density_list, label='Density', color='blue')\n",
    "        axl.plot(range(1,len(training_set)), coverage_list, label='Coverage', color='red')\n",
    "        axl.set_title('GAN - Interpolated Data', fontsize=15)\n",
    "        axl.set_ylabel('Density / Coverage', fontsize=15)\n",
    "        axl.set_ylim([0,5])\n",
    "        axl.set_xlabel('Nº of Nearest Neighbors', fontsize=15)\n",
    "\n",
    "        axr.plot(range(1,len(human_datamatrix_treated)), density_list_real, label='Density', color='blue')\n",
    "        axr.plot(range(1,len(human_datamatrix_treated)), coverage_list_real, label='Coverage', color='red')\n",
    "        axr.set_title('GAN - Experimental Data', fontsize=15)\n",
    "        axr.set_ylim([0,5])\n",
    "        \n",
    "        axr.legend()\n",
    "        axl.legend()\n",
    "        axr.set_xlabel('Nº of Nearest Neighbors', fontsize=15)\n",
    "\n",
    "    plt.tight_layout()\n",
    "    f.savefig('images/PCDint_DenCovPlot.png' , dpi=400)"
   ]
  },
  {
   "cell_type": "markdown",
   "id": "1c83753f",
   "metadata": {},
   "source": [
    "### Histograms\n",
    " \n",
    "Histograms of Values of normal Experimental (Real), Linearly Interpolated and GAN Generated Data."
   ]
  },
  {
   "cell_type": "code",
   "execution_count": null,
   "id": "714d1d64",
   "metadata": {},
   "outputs": [],
   "source": [
    "# Predictions\n",
    "last_preds = predictions\n",
    "dt = human_datamatrix_treated"
   ]
  },
  {
   "cell_type": "code",
   "execution_count": null,
   "id": "130e345e",
   "metadata": {},
   "outputs": [],
   "source": [
    "with sns.axes_style(\"whitegrid\"):\n",
    "    with sns.plotting_context(\"notebook\", font_scale=1.2):\n",
    "        f, ax = plt.subplots(1, 1, figsize = (6,4))#, sharey='row')#, sharex='col')\n",
    "        X = np.arange(-8, 8.01, 0.05)\n",
    "        hist = np.histogram(human_datamatrix_treated.values.flatten(), bins=50)\n",
    "        hist_dist = stats.rv_histogram(hist)\n",
    "        ax.plot(X, hist_dist.pdf(X), color='blue', label='Experimental')\n",
    "        \n",
    "        hist = np.histogram(data_treated.values.flatten(), bins=50)\n",
    "        hist_dist = stats.rv_histogram(hist)\n",
    "        ax.plot(X, hist_dist.pdf(X), color='orange', label='Interpolated')\n",
    "        ax.set_ylabel('PDF', fontsize=15)\n",
    "        \n",
    "        hist = np.histogram(last_preds.values.flatten(), bins=50)\n",
    "        hist_dist = stats.rv_histogram(hist)\n",
    "        ax.plot(X, hist_dist.pdf(X), color='red', label='GAN')\n",
    "        \n",
    "        hist = np.histogram(corr_preds.values.flatten(), bins=50)\n",
    "        hist_dist = stats.rv_histogram(hist)\n",
    "        ax.plot(X, hist_dist.pdf(X), color='green', label='CorrGAN')\n",
    "        \n",
    "        ax.set_ylabel('PDF', fontsize=15)\n",
    "        ax.set_xlabel('Scaled Intensities', fontsize=15)\n",
    "        #ax.set_xticks([-8, -4, 0, 4, 8])\n",
    "        ax.set_ylim([0,0.4])\n",
    "\n",
    "        ax.legend(loc='upper left', bbox_to_anchor=(1, 1), fontsize=12, handlelength=1)\n",
    "        ax.set_title('Intensities Distribution', fontsize=18)\n",
    "        plt.tight_layout()\n",
    "        f.savefig('images/PCDint_IntPlot.png', dpi=400)"
   ]
  },
  {
   "cell_type": "markdown",
   "id": "0a43a03f",
   "metadata": {},
   "source": [
    "### Correlations between samples of Experimental (Real) Data, Linearly Interpolated and GAN Generated Data"
   ]
  },
  {
   "cell_type": "code",
   "execution_count": null,
   "id": "644aaa14",
   "metadata": {},
   "outputs": [],
   "source": [
    "correlation_real_real = np.corrcoef(human_datamatrix_treated)\n",
    "print('Correlation Experimental-Experimental calculation ended.')\n",
    "\n",
    "correlation_lin_lin = np.corrcoef(data_treated)\n",
    "print('Correlation Linear-Linear calculation ended.')\n",
    "\n",
    "correlation_gan_gan = np.corrcoef(last_preds)\n",
    "print('Correlation GAN-GAN calculation ended.')\n",
    "\n",
    "correlation_corr_corr = np.corrcoef(corr_preds)\n",
    "print('Correlation CorrGAN-CorrGAN calculation ended.')"
   ]
  },
  {
   "cell_type": "code",
   "execution_count": null,
   "id": "6914eff3",
   "metadata": {},
   "outputs": [],
   "source": [
    "with sns.axes_style(\"whitegrid\"):\n",
    "    with sns.plotting_context(\"notebook\", font_scale=1.2):\n",
    "        f, ax = plt.subplots(1, 1, figsize = (5,4))#, sharey='row')#, sharex='col')\n",
    "        X = np.arange(-1, 1.01, 0.05)\n",
    "        hist = np.histogram(correlation_real_real.flatten(), bins=50)\n",
    "        hist_dist = stats.rv_histogram(hist)\n",
    "        ax.plot(X, hist_dist.pdf(X), color='blue', label='Experimental')\n",
    "        ax.set_ylabel('PDF', fontsize=15)\n",
    "        \n",
    "        hist = np.histogram(correlation_lin_lin.flatten(), bins=50)\n",
    "        hist_dist = stats.rv_histogram(hist)\n",
    "        ax.plot(X, hist_dist.pdf(X), color='orange', label='Interpolated')\n",
    "        \n",
    "        hist = np.histogram(correlation_gan_gan.flatten(), bins=50)\n",
    "        hist_dist = stats.rv_histogram(hist)\n",
    "        ax.plot(X, hist_dist.pdf(X), color='red', label='GAN')\n",
    "        \n",
    "        hist = np.histogram(correlation_corr_corr.flatten(), bins=50)\n",
    "        hist_dist = stats.rv_histogram(hist)\n",
    "        ax.plot(X, hist_dist.pdf(X), color='green', label='CorrGAN')\n",
    "        \n",
    "        ax.legend(loc='upper left', bbox_to_anchor=(1, 1), fontsize=12, handlelength=0.9, handletextpad=0.5)\n",
    "        ax.set_title('Sample Correlations', fontsize=18)\n",
    "        ax.set_xlabel('Correlation', fontsize=15)\n",
    "        #ax.set_ylim([0,3.6])\n",
    "\n",
    "    #f.text(0.5, 0.05, 'Correlation', ha='center', va='top', fontsize=15)\n",
    "    plt.tight_layout()\n",
    "    f.savefig('images/PCDint_SampCorrPlot.png', dpi=400)"
   ]
  },
  {
   "cell_type": "markdown",
   "id": "7873a4d5",
   "metadata": {},
   "source": [
    "### Correlations between features of Experimental (Real), Linearly Interpolated and GAN Generated Samples"
   ]
  },
  {
   "cell_type": "code",
   "execution_count": null,
   "id": "000682b0",
   "metadata": {},
   "outputs": [],
   "source": [
    "correlation_real_real = np.corrcoef(dt.T)\n",
    "print('Correlation Experimental-Experimental calculation ended.')\n",
    "\n",
    "correlation_gan_gan = np.corrcoef(last_preds.T)\n",
    "print('Correlation GAN-GAN calculation ended.')\n",
    "\n",
    "correlation_corr_corr = np.corrcoef(corr_preds.T)\n",
    "print('Correlation CorrGAN-CorrGAN calculation ended.')\n",
    "\n",
    "correlation_gen_gen = np.corrcoef(data_treated.T)\n",
    "print('Correlation Generated-Generated calculation ended.')"
   ]
  },
  {
   "cell_type": "code",
   "execution_count": null,
   "id": "90e7816f",
   "metadata": {},
   "outputs": [],
   "source": [
    "with sns.axes_style(\"whitegrid\"):\n",
    "    with sns.plotting_context(\"notebook\", font_scale=1.2):\n",
    "        f, ax = plt.subplots(1, 1, figsize = (5,4))#, sharey='row')#, sharex='col')\n",
    "        X = np.arange(-1, 1.01, 0.05)\n",
    "        hist = np.histogram(correlation_real_real.flatten()[~np.isnan(correlation_real_real.flatten())],\n",
    "                            bins=50)\n",
    "        hist_dist = stats.rv_histogram(hist)\n",
    "        ax.plot(X, hist_dist.pdf(X), color='blue', label='Experimental')\n",
    "        ax.set_ylabel('PDF', fontsize=15)\n",
    "        \n",
    "        hist = np.histogram(correlation_gen_gen.flatten()[~np.isnan(correlation_gen_gen.flatten())], bins=50)\n",
    "        hist_dist = stats.rv_histogram(hist)\n",
    "        ax.plot(X, hist_dist.pdf(X), color='orange', label='Interpolated')\n",
    "        \n",
    "        hist = np.histogram(correlation_gan_gan.flatten()[~np.isnan(correlation_gan_gan.flatten())], bins=50)\n",
    "        hist_dist = stats.rv_histogram(hist)\n",
    "        ax.plot(X, hist_dist.pdf(X), color='red', label='GAN')\n",
    "        \n",
    "        hist = np.histogram(correlation_corr_corr.flatten()[~np.isnan(correlation_corr_corr.flatten())],\n",
    "                            bins=50)\n",
    "        hist_dist = stats.rv_histogram(hist)\n",
    "        ax.plot(X, hist_dist.pdf(X), color='green', label='CorrGAN')\n",
    "        \n",
    "        \n",
    "        ax.legend(bbox_to_anchor=(1,1), fontsize=11, loc='upper left', handlelength=0.9, handletextpad=0.5)\n",
    "        ax.set_title('Feature Correlations', fontsize=18)\n",
    "        ax.set_xlabel('Correlation', fontsize=15)\n",
    "        ax.set_ylim([0,3.3])\n",
    "\n",
    "    #f.text(0.5, 0.05, 'Correlation', ha='center', va='top', fontsize=15)\n",
    "    plt.tight_layout()\n",
    "    f.savefig('images/PCDint_FeatCorrPlot.png', dpi=400)"
   ]
  },
  {
   "cell_type": "markdown",
   "id": "8bd94e09",
   "metadata": {},
   "source": [
    "### Sample Correlation Matrix\n",
    "\n",
    "Between samples of the experimental (real) data and a set of GAN samples."
   ]
  },
  {
   "cell_type": "code",
   "execution_count": null,
   "id": "ad2b141b",
   "metadata": {},
   "outputs": [],
   "source": [
    "# Experimental (Real) Data, organize it to have first all samples of a class, then all samples of the other class\n",
    "df = human_datamatrix_treated.copy()\n",
    "\n",
    "samp = df.index\n",
    "tg = hd_labels.copy()\n",
    "new_order = [x for _, x in sorted(zip(tg, samp))]\n",
    "new_tg = [x for x, _ in sorted(zip(tg, samp))]\n",
    "\n",
    "df = df.loc[new_order]\n",
    "#df"
   ]
  },
  {
   "cell_type": "code",
   "execution_count": null,
   "id": "a2f02a56",
   "metadata": {},
   "outputs": [],
   "source": [
    "# Calculate all correlations between all samples of experimental (real) and generated data and store them in a dataframe\n",
    "correlations = pd.DataFrame(index=last_preds.index, columns=df.index).astype('float')\n",
    "\n",
    "for i in df.index:\n",
    "    for j in last_preds.index:\n",
    "        correlations.loc[j,i] = stats.pearsonr(df.loc[i],\n",
    "                                               last_preds.loc[j])[0]\n",
    "\n",
    "correlations.columns = new_tg\n",
    "correlations.index = ['No Recurrence - GAN']*(len(last_preds)//2) + ['Recurrence - GAN']*(len(last_preds)//2)"
   ]
  },
  {
   "cell_type": "code",
   "execution_count": null,
   "id": "bfe67730",
   "metadata": {},
   "outputs": [],
   "source": [
    "# Draw the clustermap\n",
    "\n",
    "row_cols = [label_colors_test[lbl] for lbl in new_tg]\n",
    "row_cols2 = [label_colors_test[lbl] for lbl in correlations.index]\n",
    "co = sns.diverging_palette(160, 310, s=90, as_cmap=True, l=40)\n",
    "g = sns.clustermap(correlations, col_colors=row_cols, cmap=co, row_colors= row_cols2, vmin=-1, vmax=1, method='ward',\n",
    "                  cbar_pos = (-0.15, 0.2, 0.05, 0.5))\n",
    "g.fig.set_size_inches((6,9))\n",
    "# some \n",
    "patches = []\n",
    "for lbl in ordered_labels_test:\n",
    "    patches.append(mpatches.Patch(color=label_colors_test[lbl], label=lbl))\n",
    "leg = plt.legend(handles=patches, loc=3, bbox_to_anchor=(-1.8, 1.25, 0.5, 1),\n",
    "                     frameon=False, fontsize=14) \n",
    "g.ax_heatmap.set_ylabel('GAN Data', fontsize=20)\n",
    "g.ax_heatmap.set_xlabel('Experimental Data', fontsize=20)\n",
    "g.ax_heatmap.tick_params(axis='both', which='both', bottom=False, top=False, labelbottom=False, right=False,\n",
    "                         labelright=False)\n",
    "\n",
    "# Manually specify colorbar labelling after it's been generated\n",
    "colorbar = g.ax_heatmap.collections[0].colorbar\n",
    "colorbar.ax.tick_params(labelsize=13) \n",
    "plt.text(1, 1.10, 'Correlations', fontsize=14, horizontalalignment='center')\n",
    "plt.show()\n",
    "g.savefig('images/PCDint_Clustermap.png', dpi=400)"
   ]
  },
  {
   "cell_type": "code",
   "execution_count": null,
   "id": "ed21874f",
   "metadata": {},
   "outputs": [],
   "source": [
    "a = scipy.spatial.distance_matrix(last_preds, df)\n",
    "sample_distances = pd.DataFrame(a, index=last_preds.index, columns=df.index).astype('float')\n",
    "sample_distances.index = ['No Recurrence - GAN']*(len(last_preds)//2) + ['Recurrence - GAN']*(len(last_preds)//2)"
   ]
  },
  {
   "cell_type": "code",
   "execution_count": null,
   "id": "98ddad40",
   "metadata": {},
   "outputs": [],
   "source": [
    "sample_distances.max()"
   ]
  },
  {
   "cell_type": "code",
   "execution_count": null,
   "id": "197890be",
   "metadata": {},
   "outputs": [],
   "source": [
    "sample_distances.min()"
   ]
  },
  {
   "cell_type": "code",
   "execution_count": null,
   "id": "0c6f48c6",
   "metadata": {},
   "outputs": [],
   "source": [
    "# Draw the clustermap\n",
    "\n",
    "row_cols = [label_colors_test[lbl] for lbl in new_tg]\n",
    "row_cols2 = [label_colors_test[lbl] for lbl in sample_distances.index]\n",
    "g = sns.clustermap(sample_distances, col_colors=row_cols, cmap='bwr', row_colors= row_cols2,\n",
    "                   norm=matplotlib.colors.LogNorm(vmin=225, vmax=750),\n",
    "                   #vmin=0, vmax=10**3,\n",
    "                   method='ward',\n",
    "                  cbar_pos = (-0.13, 0.1, 0.05, 0.5))\n",
    "g.fig.set_size_inches((6,9))\n",
    "# some tweaks\n",
    "patches = []\n",
    "for lbl in ordered_labels_test:\n",
    "    patches.append(mpatches.Patch(color=label_colors_test[lbl], label=lbl))\n",
    "leg = plt.legend(handles=patches, loc=3, bbox_to_anchor=(-2.2, 1.45, 0.5, 1),\n",
    "                     frameon=False, fontsize=14) \n",
    "g.ax_heatmap.set_ylabel('GAN Data', fontsize=20)\n",
    "g.ax_heatmap.set_xlabel('Experimental Data', fontsize=20)\n",
    "g.ax_heatmap.tick_params(axis='both', which='both', bottom=False, top=False, labelbottom=False, right=False,\n",
    "                         labelright=False)\n",
    "\n",
    "# Manually specify colorbar labelling after it's been generated\n",
    "colorbar = g.ax_heatmap.collections[0].colorbar\n",
    "colorbar.ax.tick_params(labelsize=13) \n",
    "plt.text(1, 802.10, 'Distances', fontsize=14, horizontalalignment='center')\n",
    "plt.show()"
   ]
  },
  {
   "cell_type": "code",
   "execution_count": null,
   "id": "6fdf3594",
   "metadata": {},
   "outputs": [],
   "source": [
    "# Experimental (Real) Data, organize it to have first all samples of a class, then all samples of the other class\n",
    "df = human_datamatrix_treated.copy()\n",
    "\n",
    "samp = df.index\n",
    "tg = hd_labels.copy()\n",
    "new_order = [x for _, x in sorted(zip(tg, samp))]\n",
    "new_tg = [x for x, _ in sorted(zip(tg, samp))]\n",
    "\n",
    "df = df.loc[new_order]\n",
    "a = scipy.spatial.distance_matrix(df, df)\n",
    "sample_distances = pd.DataFrame(a, index=df.index, columns=df.index).astype('float')"
   ]
  },
  {
   "cell_type": "code",
   "execution_count": null,
   "id": "99f4bb0f",
   "metadata": {
    "scrolled": true
   },
   "outputs": [],
   "source": [
    "sample_distances.max()"
   ]
  },
  {
   "cell_type": "code",
   "execution_count": null,
   "id": "6dc1efa2",
   "metadata": {
    "scrolled": false
   },
   "outputs": [],
   "source": [
    "# Draw the clustermap\n",
    "\n",
    "row_cols = [label_colors_test[lbl] for lbl in new_tg]\n",
    "row_cols2 = [label_colors_test[lbl] for lbl in new_tg]\n",
    "g = sns.clustermap(sample_distances, col_colors=row_cols, cmap='bwr', row_colors= row_cols2,\n",
    "                   #norm=matplotlib.colors.LogNorm(vmin=225, vmax=550),\n",
    "                   vmin=225, vmax=550,\n",
    "                   method='ward',\n",
    "                  cbar_pos = (-0.13, 0.1, 0.05, 0.5))\n",
    "g.fig.set_size_inches((6,9))\n",
    "# some tweaks\n",
    "patches = []\n",
    "for lbl in ordered_labels_test:\n",
    "    patches.append(mpatches.Patch(color=label_colors_test[lbl], label=lbl))\n",
    "leg = plt.legend(handles=patches, loc=3, bbox_to_anchor=(-2.2, 1.45, 0.5, 1),\n",
    "                     frameon=False, fontsize=14) \n",
    "g.ax_heatmap.set_ylabel('GAN Data', fontsize=20)\n",
    "g.ax_heatmap.set_xlabel('Experimental Data', fontsize=20)\n",
    "g.ax_heatmap.tick_params(axis='both', which='both', bottom=False, top=False, labelbottom=False, right=False,\n",
    "                         labelright=False)\n",
    "\n",
    "# Manually specify colorbar labelling after it's been generated\n",
    "colorbar = g.ax_heatmap.collections[0].colorbar\n",
    "colorbar.ax.tick_params(labelsize=13) \n",
    "plt.text(1, 672.10, 'Distances', fontsize=14, horizontalalignment='center')\n",
    "plt.show()"
   ]
  },
  {
   "cell_type": "code",
   "execution_count": null,
   "id": "1da5ef93",
   "metadata": {},
   "outputs": [],
   "source": []
  }
 ],
 "metadata": {
  "interpreter": {
   "hash": "e03b612d84ba21ce95ed447e81b3062e1eb99b56c6d885cdab4aaa12f1b8e240"
  },
  "kernelspec": {
   "display_name": "Python 3 (ipykernel)",
   "language": "python",
   "name": "python3"
  },
  "language_info": {
   "codemirror_mode": {
    "name": "ipython",
    "version": 3
   },
   "file_extension": ".py",
   "mimetype": "text/x-python",
   "name": "python",
   "nbconvert_exporter": "python",
   "pygments_lexer": "ipython3",
   "version": "3.9.12"
  }
 },
 "nbformat": 4,
 "nbformat_minor": 5
}
