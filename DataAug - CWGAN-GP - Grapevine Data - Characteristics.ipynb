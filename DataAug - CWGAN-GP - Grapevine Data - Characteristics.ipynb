{
 "cells": [
  {
   "cell_type": "markdown",
   "id": "9c7c5b4b",
   "metadata": {},
   "source": [
    "# Data Augmentation - Conditional Wasserstein GANs - GP\n",
    "\n",
    "### Dataset: Grapevine Dataset\n",
    "\n",
    "This notebook presents the CWGAN-GP model to generate treated Intensity Data from the experimental grapevine dataset.\n",
    "\n",
    "Notebook Organization:\n",
    "- Read the dataset\n",
    "- Treatment and Univariate Analysis of the dataset\n",
    "- Setup the CWGAN-GP model and train the model with grapevine intensity data\n",
    "- Generate artificial samples in an artificial dataset and compare them to the experimental data\n",
    "\n",
    "#### Due to stochasticity, re-running the notebook will get slightly different results. Thus, figures in the paper can be slightly different."
   ]
  },
  {
   "cell_type": "markdown",
   "id": "6db562b1",
   "metadata": {},
   "source": [
    "\n",
    "#### Needed Imports"
   ]
  },
  {
   "cell_type": "code",
   "execution_count": null,
   "id": "c30b0029",
   "metadata": {},
   "outputs": [],
   "source": [
    "from pathlib import Path\n",
    "\n",
    "# json for persistence\n",
    "import json\n",
    "from time import perf_counter\n",
    "\n",
    "import numpy as np\n",
    "import pandas as pd\n",
    "\n",
    "import scipy.spatial.distance as dist\n",
    "import scipy.cluster.hierarchy as hier\n",
    "import scipy.stats as stats\n",
    "import scipy.spatial\n",
    "\n",
    "import matplotlib.pyplot as plt\n",
    "import matplotlib as mpl\n",
    "import matplotlib.patches as mpatches\n",
    "import matplotlib.colors\n",
    "from matplotlib import ticker\n",
    "\n",
    "import seaborn as sns\n",
    "from collections import namedtuple, Counter\n",
    "\n",
    "from tqdm import tqdm\n",
    "from IPython import display as ipythondisplay\n",
    "\n",
    "from sklearn.manifold import TSNE\n",
    "from sklearn.decomposition import PCA\n",
    "from sklearn.metrics import silhouette_score\n",
    "\n",
    "import tensorflow as tf\n",
    "from keras import backend\n",
    "\n",
    "import pickle\n",
    "\n",
    "# Metabolinks package\n",
    "import metabolinks as mtl\n",
    "import metabolinks.transformations as transf\n",
    "\n",
    "# Python files in the repository\n",
    "import multianalysis as ma\n",
    "from elips import plot_confidence_ellipse\n",
    "import gan_evaluation_metrics as gem\n",
    "import linear_augmentation_functions as laf"
   ]
  },
  {
   "cell_type": "code",
   "execution_count": null,
   "id": "b9e7725f",
   "metadata": {},
   "outputs": [],
   "source": [
    "# Import needed functions from GAN_functions\n",
    "from GAN_functions import gradient_penalty_cwgan\n",
    "from GAN_functions import critic_loss_wgan\n",
    "from GAN_functions import generator_loss_wgan"
   ]
  },
  {
   "cell_type": "code",
   "execution_count": null,
   "id": "b5ba8112",
   "metadata": {},
   "outputs": [],
   "source": [
    "%matplotlib inline"
   ]
  },
  {
   "cell_type": "markdown",
   "id": "3b776575",
   "metadata": {},
   "source": [
    "# Grapevine Dataset\n",
    "\n",
    "33 samples belonging to 11 different grapevine varieties (3 samples per variety/biological group) of FT-ICR-MS metabolomics data obtained in negative ionization mode.\n",
    "\n",
    "5 different _Vitis_ species (other than _V. vinifera_) varieties:\n",
    "\n",
    "- CAN - 3 Samples (14, 15, 16) of _V. candicans Engelmann_ (VIVC variety number: 13508)\n",
    "- RIP - 3 Samples (17, 18, 19) of _V. riparia Michaux_ (Riparia Gloire de Montpellier, VIVC variety number: 4824) \n",
    "- ROT - 3 Samples (20, 21, 22) of _V. rotundifolia_ (Muscadinia Rotundifolia Michaux cv. Rotundifolia, VIVC variety number: 13586)\n",
    "- RU - 3 Samples (35, 36, 37) of _V. rupestris Scheele_ (Rupestris du lot, VIVC variety number: 10389)\n",
    "- LAB - 3 Samples (8, 9, 10) of _V. labrusca_ (Isabella, VIVC variety number: 5560)\n",
    "\n",
    "6 different _V. vinifera_ cultivars varieties are:\n",
    "\n",
    "- SYL - 3 samples (11, 12, 13) of the subspecies _sylvestris_ (VIVC variety number: -)\n",
    "- CS - 3 Samples (29, 30, 31) of the subspecies _sativa_ cultivar Cabernet Sauvignon (VIVC variety number: 1929)\n",
    "- PN - 3 Samples (23, 24, 25) of the subspecies _sativa_ cultivar Pinot Noir (VIVC variety number: 9279)\n",
    "- REG - 3 Samples (38, 39, 40) of the subspecies _sativa_ cultivar Regent (VIVC variety number: 4572)\n",
    "- RL - 3 Samples (26, 27, 28) of the subspecies _sativa_ cultivar Riesling Weiss (VIVC variety number: 10077)\n",
    "- TRI - 3 Samples (32, 33, 34) of the subspecies _sativa_ cultivar Cabernet Sauvignon (VIVC variety number: 15685)\n",
    "\n",
    "Data acquired by Maia et al. (2020):\n",
    "\n",
    "- Maia M, Ferreira AEN, Nascimento R, et al. Integrating metabolomics and targeted gene expression to uncover potential biomarkers of fungal / oomycetes ‑ associated disease susceptibility in grapevine. Sci Rep. Published online 2020:1-15. doi:10.1038/s41598-020-72781-2\n",
    "- Maia M, Figueiredo A, Silva MS, Ferreira A. Grapevine untargeted metabolomics to uncover potential biomarkers of fungal/oomycetes-associated diseases. 2020. doi:10.6084/m9.figshare.12357314.v1\n",
    "\n",
    "**Peak Alignment** and **Peak Filtering** were performed with function `metabolinks.peak_alignment.align()`. Human leucine enkephalin (Sigma Aldrich) was used as the reference feature (internal standard, [M+H]+ = 556.276575 Da or [M-H]- = 554.262022 Da).\n",
    "\n",
    "Data matrix retained only features that occur (globally) at least twice in all 33 samples of the dataset (filtering/alignment)."
   ]
  },
  {
   "cell_type": "markdown",
   "id": "b70ad6b0",
   "metadata": {},
   "source": [
    "### Reading the data to be analysed and augmented"
   ]
  },
  {
   "cell_type": "code",
   "execution_count": null,
   "id": "57d1a794",
   "metadata": {},
   "outputs": [],
   "source": [
    "path = Path.cwd() / 'processed_data_GD.json'\n",
    "storepath = Path.cwd() / 'processed_data_GD.h5'\n",
    "with pd.HDFStore(storepath) as store:\n",
    "\n",
    "    with open(path, encoding='utf8') as read_file:\n",
    "        datasets = json.load(read_file)\n",
    "    \n",
    "    for dskey, dataset in datasets.items():\n",
    "        keys_to_remove = []\n",
    "        for key in dataset:\n",
    "            if key not in ['source', 'mode', 'name', 'data', 'target', 'classes', 'label_colors', 'sample_colors',\n",
    "                           'BinSim', 'Ionly', 'P', 'NP', 'NGP', 'Ionly_RF', 'P_RF', 'NP_RF', 'NGP_RF']:\n",
    "                keys_to_remove.append(key)\n",
    "                continue\n",
    "            value = dataset[key]\n",
    "            if isinstance(value, str) and value.startswith(\"INSTORE\"):\n",
    "                storekey = value.split(\"_\", 1)[1]\n",
    "                # Load the data from 'iter_fold_splits' carefully restoring the nested dictionaries\n",
    "                if len(storekey.split(\"AA_\")) > 1: # This separation was made to identify the 'iter_fold_splits' data\n",
    "                    continue\n",
    "                else:\n",
    "                    dataset[key] = store[storekey]\n",
    "                \n",
    "            # convert colors to tuples, since they are read as lists from json file\n",
    "            elif key == 'label_colors':\n",
    "                dataset[key] = {lbl: tuple(c) for lbl, c in value.items()}\n",
    "            elif key == 'sample_colors':\n",
    "                dataset[key] = [tuple(c) for c in value]\n",
    "            elif key.endswith('target') and key.startswith(dskey):\n",
    "                continue\n",
    "                dictkeys = ((key.split(\"_\", 1)[1]).split(\"AA_\")[1]).split('_',3)\n",
    "                dataset['iter_fold_splits'][int(dictkeys[0])][dictkeys[1]][int(dictkeys[2])][dictkeys[3]] = value\n",
    "        for key in keys_to_remove:\n",
    "            dataset.pop(key)"
   ]
  },
  {
   "cell_type": "code",
   "execution_count": null,
   "id": "17ecb731",
   "metadata": {},
   "outputs": [],
   "source": [
    "# Extracting the class labels\n",
    "target = datasets['vitis_types']['target']\n",
    "pd.Series(target).value_counts()"
   ]
  },
  {
   "cell_type": "code",
   "execution_count": null,
   "id": "2e075ad1",
   "metadata": {},
   "outputs": [],
   "source": [
    "# Represents Binary Simplification pre-treatment\n",
    "def df_to_bool(df):\n",
    "    \"Transforms data into 'binary' matrices.\"\n",
    "    return df.mask(df.notnull(), 1).mask(df.isnull(), 0)\n",
    "\n",
    "# Performs pre-treatment combinations\n",
    "def compute_transf(df, norm_ref=None, lamb=None):\n",
    "    \"Computes combinations of pre-treatments and BinSim and returns after treatment datasets in a dict.\"\n",
    "    \n",
    "    data = df.copy()\n",
    "    \n",
    "    # Imputation of Missing Values\n",
    "    imputed = transf.fillna_frac_min_feature(data.T, fraction=0.2).T\n",
    "\n",
    "    # Normalization\n",
    "    if norm_ref is not None:\n",
    "        # Normalization by a reference feature\n",
    "        norm = transf.normalize_ref_feature(imputed, norm_ref, remove=True)\n",
    "        # If it does not work, make the following lines not comments and the above one a comment\n",
    "        #new_index= data.columns.sort_values()\n",
    "        #pos = new_index.get_indexer([norm_ref], method='pad')[0]\n",
    "        #norm = imputed.T/data.iloc[:, pos]\n",
    "        #norm = norm.drop(norm.index[pos]).T\n",
    "    else:\n",
    "        # Normalization by the total sum of intensities\n",
    "        norm = transf.normalize_sum(imputed)\n",
    "    \n",
    "    # Pareto Scaling and Generalized Logarithmic Transformation\n",
    "    P = transf.pareto_scale(imputed)\n",
    "    NP = transf.pareto_scale(norm)\n",
    "    NGP = transf.pareto_scale(transf.glog(norm, lamb=lamb))\n",
    "    GP = transf.pareto_scale(transf.glog(imputed, lamb=lamb))\n",
    "    \n",
    "    # Store results\n",
    "    dataset = {}\n",
    "    dataset['data'] = df\n",
    "\n",
    "    dataset['BinSim'] = df_to_bool(data)\n",
    "    dataset['Ionly'] = imputed\n",
    "    dataset['P'] = P\n",
    "    dataset['N'] = norm\n",
    "    dataset['NP'] = NP\n",
    "    dataset['GP'] = GP\n",
    "    dataset['NGP'] = NGP\n",
    "    \n",
    "    return dataset\n",
    "\n",
    "datasets['vitis_types'] = compute_transf(datasets['vitis_types']['data'], norm_ref=554.262022, lamb=None)\n",
    "datasets['vitis_types']['target'] = target"
   ]
  },
  {
   "cell_type": "code",
   "execution_count": null,
   "id": "ba9d8592",
   "metadata": {},
   "outputs": [],
   "source": [
    "gem.characterize_binary_data(datasets['vitis_types']['BinSim'], name='GD', target=target)"
   ]
  },
  {
   "cell_type": "markdown",
   "id": "6d2e8af1",
   "metadata": {},
   "source": [
    "### Calculating Silhouette Coefficient\n",
    "\n",
    "The Silhouette coefficient was calculated (with scikit learn's `silhouette score`) using the class labels as the clusters in order to give a measure of how overlapped the biological classes are between the different datasets.\n",
    "\n",
    "The coefficient was calculated using all features of the dataset after pre-treatment and using the PCA Scores of the 2 first Principal Components."
   ]
  },
  {
   "cell_type": "code",
   "execution_count": null,
   "id": "60a3ac7a",
   "metadata": {},
   "outputs": [],
   "source": [
    "# Silhoutte Coefficient based on all the features of the dataset after pre-treatment\n",
    "print('Calculation based on all the features of the dataset after pre-treatment')\n",
    "print('Silhouette Coefficient:', silhouette_score(datasets['vitis_types']['NGP'], datasets['vitis_types']['target']))"
   ]
  },
  {
   "cell_type": "code",
   "execution_count": null,
   "id": "84199391",
   "metadata": {},
   "outputs": [],
   "source": [
    "# Silhoutte Coefficient based on the PCA Scores of the samples on the 2 first Principal Components\n",
    "principaldf, var = ma.compute_df_with_PCs(datasets['vitis_types']['NGP'], n_components=2, whiten=True,\n",
    "                                          labels=datasets['vitis_types']['target'], return_var_ratios=True)\n",
    "s_score = silhouette_score(principaldf.iloc[:,:2], datasets['vitis_types']['target'])\n",
    "print('Calculation based on the PCA Scores of the samples on the 2 first Principal Components')\n",
    "print('Silhouette Coefficient:', s_score)"
   ]
  },
  {
   "cell_type": "markdown",
   "id": "947d1930",
   "metadata": {},
   "source": [
    "#### Univariate Analysis on the experimental data"
   ]
  },
  {
   "cell_type": "code",
   "execution_count": null,
   "id": "2f78e08f",
   "metadata": {},
   "outputs": [],
   "source": [
    "normalized = datasets['vitis_types']['N']\n",
    "#transf.normalize_ref_feature(datasets['vitis_types']['Ionly'], 554.26202, remove=True)\n",
    "uni_results = ma.compute_FC_pvalues_2groups(normalized, datasets['vitis_types']['NGP'],\n",
    "                               labels=datasets['vitis_types']['target'],\n",
    "                               equal_var=True,\n",
    "                               alpha=0.05, useMW=False)\n",
    "uni_results"
   ]
  },
  {
   "cell_type": "code",
   "execution_count": null,
   "id": "ea4869db",
   "metadata": {},
   "outputs": [],
   "source": [
    "pvalue = 0.005\n",
    "log2FC = 1\n",
    "\n",
    "b = uni_results[uni_results['FDR adjusted p-value'] < pvalue]\n",
    "uni_results_filt = b[abs(b['log2FC']) > log2FC]\n",
    "uni_results_filt"
   ]
  },
  {
   "cell_type": "markdown",
   "id": "52c8ab05",
   "metadata": {},
   "source": [
    "#### Linear Augmentation / Interpolation of the experimental data and corresponding sample labels/classes to use as training data for the GAN network.\n",
    "\n",
    "Pre-treatment on the linearly augmented data."
   ]
  },
  {
   "cell_type": "code",
   "execution_count": null,
   "id": "1f1ec6e9",
   "metadata": {},
   "outputs": [],
   "source": [
    "start = perf_counter()\n",
    "data, lbls = laf.artificial_dataset_generator(datasets['vitis_types']['Ionly'], labels=datasets['vitis_types']['target'],\n",
    "                                        max_new_samples_per_label=512, binary=False, rnd=list(np.linspace(0.1,0.9,9)), \n",
    "                                        binary_rnd_state=None, rnd_state=756)\n",
    "end = perf_counter()\n",
    "print(f'Simple augmentation of data done! took {(end - start):.3f} s')"
   ]
  },
  {
   "cell_type": "code",
   "execution_count": null,
   "id": "dc85a567",
   "metadata": {},
   "outputs": [],
   "source": [
    "%%capture --no-stdout\n",
    "# Capture warnings on this cell\n",
    "\n",
    "# Theoretical mass for negative mode Leucine Enkephalin - 554.262022\n",
    "Leu_Enk_neg = 554.26202\n",
    "\n",
    "# Normalization by a reference feature\n",
    "# Either this way\n",
    "#norm = transf.normalize_ref_feature(data, Leu_Enk_neg, remove=True)\n",
    "# Or this way\n",
    "new_index= data.columns.sort_values()\n",
    "pos = new_index.get_indexer([Leu_Enk_neg], method='pad')[0]\n",
    "norm2 = data.T/data.iloc[:, pos]\n",
    "norm = norm2.drop(norm2.index[pos]).T\n",
    "\n",
    "# Pareto Scaling and Generalized Logarithmic Transformation\n",
    "NP = transf.pareto_scale(norm)\n",
    "data_NGP = transf.pareto_scale(transf.glog(norm, lamb=None))"
   ]
  },
  {
   "cell_type": "markdown",
   "id": "8d50f520",
   "metadata": {},
   "source": [
    "### Inputs for GAN model"
   ]
  },
  {
   "cell_type": "code",
   "execution_count": null,
   "id": "e4dfa176",
   "metadata": {},
   "outputs": [],
   "source": [
    "# Get distribution of intensity values of the dataset\n",
    "hist = np.histogram(datasets['vitis_types']['NGP'].values.flatten(), bins=100)\n",
    "input_realdata_dist = stats.rv_histogram(hist)"
   ]
  },
  {
   "cell_type": "markdown",
   "id": "770c784c",
   "metadata": {},
   "source": [
    "Set up colours for each of the classes. Generated samples will have the corresponding label with '- GAN' after."
   ]
  },
  {
   "cell_type": "code",
   "execution_count": null,
   "id": "404593ca",
   "metadata": {},
   "outputs": [],
   "source": [
    "colours2 = sns.color_palette('tab20', 10)[4:6]\n",
    "colours2.extend(sns.color_palette('tab20', 10)[2:4])\n",
    "\n",
    "ordered_labels_test = ('wild','wild - GAN','vinifera','vinifera - GAN')\n",
    "label_colors_test = {lbl: c for lbl, c in zip(ordered_labels_test, colours2)}\n",
    "\n",
    "sns.palplot(label_colors_test.values())\n",
    "new_ticks_test = plt.xticks(range(len(ordered_labels_test)), ordered_labels_test)"
   ]
  },
  {
   "cell_type": "markdown",
   "id": "0520e74a",
   "metadata": {},
   "source": [
    "## Conditional Wasserstein GAN - GP model\n",
    "\n",
    "This model construction was made by joining WGAN-GP models with Conditional GAN models. WGAN-GP models were originally made according to / originally based in https://keras.io/examples/generative/wgan_gp/#wasserstein-gan-wgan-with-gradient-penalty-gp and Conditional GAN models - https://machinelearningmastery.com/how-to-develop-a-conditional-generative-adversarial-network-from-scratch/ (generator and discriminator model) and https://keras.io/examples/generative/conditional_gan/ without using OOP (loss functions and training/training steps)."
   ]
  },
  {
   "cell_type": "markdown",
   "id": "31f5a8bf",
   "metadata": {},
   "source": [
    "Functions for the generator and critic (discriminator) models"
   ]
  },
  {
   "cell_type": "code",
   "execution_count": null,
   "id": "43aa5021",
   "metadata": {},
   "outputs": [],
   "source": [
    "def generator_model(len_input, len_output, n_hidden_nodes, n_labels): \n",
    "    \"Make the generator model of CWGAN-GP.\"\n",
    "\n",
    "    data_input = tf.keras.Input(shape=(len_input,), name='data') # Take intensity input\n",
    "    label_input = tf.keras.Input(shape=(1,), name='label') # Take Label Input\n",
    "    \n",
    "    # Treat label input to concatenate to intensity data after\n",
    "    label_m = tf.keras.layers.Embedding(n_labels, 30, input_length=1)(label_input)\n",
    "    label_m = tf.keras.layers.Dense(256, activation='linear', use_bias=True)(label_m)\n",
    "    #label_m = tf.keras.layers.Reshape((len_input,1,))(label_m)\n",
    "    label_m2 = tf.keras.layers.Reshape((256,))(label_m)\n",
    "\n",
    "    joined_data = tf.keras.layers.Concatenate()([data_input, label_m2]) # Concatenate intensity and label data\n",
    "    # Hidden Dense Layer and Normalization\n",
    "    joined_data = tf.keras.layers.Dense(n_hidden_nodes, activation=tf.nn.leaky_relu, use_bias=True)(joined_data)\n",
    "    joined_data = tf.keras.layers.Dense(256, activation=tf.nn.leaky_relu, use_bias=True)(joined_data)\n",
    "    joined_data = tf.keras.layers.BatchNormalization()(joined_data)\n",
    "    \n",
    "    # Output - number of features of sample to make\n",
    "    output = tf.keras.layers.Dense(len_output, activation='linear', use_bias=True)(joined_data)\n",
    "    \n",
    "    generator = tf.keras.Model(inputs=[data_input, label_input], outputs=output)\n",
    "    \n",
    "    return generator\n",
    "\n",
    "\n",
    "def critic_model(len_input, n_hidden_nodes, n_labels):\n",
    "    \"Make the critic model of CWGAN-GP.\"\n",
    "    \n",
    "    label_input = tf.keras.Input(shape=(1,)) # Take intensity input\n",
    "    data_input = tf.keras.Input(shape=(len_input,)) # Take Label Input\n",
    "\n",
    "    # Treat label input to concatenate to intensity data after\n",
    "    label_m = tf.keras.layers.Embedding(n_labels, 30, input_length=1)(label_input)\n",
    "    label_m = tf.keras.layers.Dense(256, activation='linear', use_bias=True)(label_m)\n",
    "    #label_m = tf.keras.layers.Reshape((len_input,1,))(label_m)\n",
    "    label_m = tf.keras.layers.Reshape((256,))(label_m)\n",
    "\n",
    "    joined_data = tf.keras.layers.Concatenate()([data_input, label_m]) # Concatenate intensity and label data\n",
    "    # Hidden Dense Layer (Normalization worsened results here)\n",
    "    joined_data = tf.keras.layers.Dense(n_hidden_nodes, activation=tf.nn.leaky_relu, use_bias=True)(joined_data)\n",
    "    joined_data = tf.keras.layers.Dense(128, activation=tf.nn.leaky_relu, use_bias=True)(joined_data)\n",
    "    joined_data = tf.keras.layers.Dense(256, activation=tf.nn.leaky_relu, use_bias=True)(joined_data)\n",
    "    #joined_data = tf.keras.layers.BatchNormalization()(joined_data)\n",
    "\n",
    "    # Output Layer - 1 node for critic decision\n",
    "    output = tf.keras.layers.Dense(1, activation='linear', use_bias=True)(joined_data)\n",
    "    \n",
    "    critic = tf.keras.Model(inputs=[data_input, label_input], outputs=output)\n",
    "\n",
    "    return critic"
   ]
  },
  {
   "cell_type": "code",
   "execution_count": null,
   "id": "e0f1c898",
   "metadata": {},
   "outputs": [],
   "source": [
    "def generate_predictions(model, num_examples_to_generate, len_input, input_dist, uni_lbls):\n",
    "    \"Generate sample predictions based on a Generator model.\"\n",
    "    \n",
    "    test_input =  tf.constant(input_dist.rvs(size=len_input*num_examples_to_generate), shape=[\n",
    "        num_examples_to_generate,len_input]) \n",
    "    \n",
    "    if len(uni_lbls) < 3:\n",
    "        test_labels = tf.constant([1.0]*(num_examples_to_generate//2) + [0.0]*(num_examples_to_generate//2), \n",
    "                                  shape=(num_examples_to_generate,1))\n",
    "    else:\n",
    "        test_labels = []\n",
    "        for i in range(len(uni_lbls)):\n",
    "            test_labels.extend([i]*(num_examples_to_generate//len(uni_lbls)))\n",
    "        test_labels = np.array(pd.get_dummies(test_labels))\n",
    "\n",
    "    predictions = model([test_input, test_labels], training=False) # `training` is set to False.\n",
    "    return predictions"
   ]
  },
  {
   "cell_type": "code",
   "execution_count": null,
   "id": "46d29dc5",
   "metadata": {},
   "outputs": [],
   "source": [
    "def training_montage(train_data_o, train_lbls, test_data, test_lbls,\n",
    "                     epochs, generator, critic, generator_optimizer, critic_optimizer, input_dist,\n",
    "                    batch_size, grad_pen_weight=10, k_cov_den=50, k_crossLID=15, random_seed=145,\n",
    "                    n_generated_samples=96):\n",
    "    \"\"\"Train a generator and critic of CWGAN-GP.\n",
    "    \n",
    "       Receives training data and respective class labels (train_data_o and train_lbls) and trains a generator and a critic\n",
    "        model (generator, critic) over a number of epochs (epochs) with a set batch size (batch_size) with the respective \n",
    "        optimizers and learning rate (generator_optimizer, critic_optimizer). Gradient Penalty is calculated with\n",
    "        grad_pen_weight as the weight of the penalty.\n",
    "       The functions returns at time intervals three graphs to evaluate the progression of the models (Loss plots,\n",
    "        coverage, density, crossLID and correct first cluster plots and PCA plot with generated and test data). To this\n",
    "        end, samples need to be generated requiring the distribution to sample the initial input values from (input_dist),\n",
    "        and test data and respective labels has to be given (test_data and test_lbls). Finally the number of neighbors to\n",
    "        consider for coverage/density and crossLID calculation is also needed (k_cov_den, k_crossLID).\n",
    "    \n",
    "       train_data_o: Pandas DataFrame with training data;\n",
    "       train_lbls: List with training data class labels;\n",
    "       test_data: Pandas DataFrame with test data to evaluate the model;\n",
    "       test_lbls: List with test data class labels to evaluate the model;\n",
    "       epochs: Int value with the number of epochs to train the model;\n",
    "       generator: tensorflow keras.engine.functional.Functional model for the generator;\n",
    "       critic: tensorflow keras.engine.functional.Functional model for the critic;\n",
    "       generator_optimizer: tensorflow keras optimizer (with learning rate) for generator;\n",
    "       critic_optimizer: tensorflow keras optimizer (with learning rate) for critic;\n",
    "       input_dist: scipy.stats._continuous_distns.rv_histogram object - distribution to sample input values for generator;\n",
    "       batch_size: int value with size of batch for model training;\n",
    "       grad_pen_weight: int value (default 10) for penalty weight in gradient penalty calculation;\n",
    "       k_cov_den: int value (default 50) for number of neighbors to consider for coverage and density calculation in\n",
    "       generated samples evaluation;\n",
    "       k_crossLID: int value (default 15) for number of neighbors to consider for crossLID calculation in generated samples\n",
    "        evaluation.\n",
    "       random_seed: int value (default 145) for numpy random seeding when randomly organizing samples in the data that\n",
    "        will be split into batches.\n",
    "       n_generated_samples: int value (default 96) for number of samples generated to test the model during training.\n",
    "    \"\"\"\n",
    "    \n",
    "    # Obtaining the train data, randomize its order and divide it be twice the standard deviation of its values\n",
    "    all_data = train_data_o.iloc[\n",
    "        np.random.RandomState(seed=random_seed).permutation(len(train_data_o))]/(2*train_data_o.values.std())\n",
    "    \n",
    "    # Same treatment for the test data\n",
    "    test_data = (test_data/(2*test_data.values.std())).values\n",
    "    training_data = all_data\n",
    "    train_data = all_data.values\n",
    "    \n",
    "    # Change class labels to numerical values while following the randomized ordered of samples\n",
    "    if len(set(train_lbls)) < 3: # 1 and 0 for when there are only two classes\n",
    "        train_labels = pd.get_dummies(\n",
    "            np.array(train_lbls)[np.random.RandomState(seed=random_seed).permutation(len(train_data))]).values[:,0]\n",
    "        test_labels = pd.get_dummies(np.array(test_lbls)).values[:,0]\n",
    "    else: # One hot encoding for when there are more than two classes\n",
    "        train_labels = pd.get_dummies(\n",
    "            np.array(train_lbls)[np.random.RandomState(seed=random_seed).permutation(len(train_data))]).values\n",
    "        test_labels = pd.get_dummies(np.array(test_lbls)).values\n",
    "    # Save the order of the labels\n",
    "    ordered_labels = pd.get_dummies(\n",
    "            np.array(train_lbls)[np.random.RandomState(seed=random_seed).permutation(len(train_data_o))]).columns\n",
    "\n",
    "    batch_divisions = int(batch_size / len(set(train_lbls))) # See how many samples of each class will be in each batch\n",
    "    n_steps = epochs * int(training_data.shape[0] / batch_size) # Number of steps: nº of batches per epoch * nº of epochs\n",
    "    n_critic = 5\n",
    "    \n",
    "    # Set up the evaluating images printed during training and the intervals they will be updated\n",
    "    f, (axl, axc, axr) = plt.subplots(1, 3, figsize = (16,5))\n",
    "    update1 = n_steps//200\n",
    "    update2 = n_steps//20\n",
    "\n",
    "    if hasattr(tqdm, '_instances'):\n",
    "        tqdm._instances.clear() # clear if it exists\n",
    "\n",
    "    i=0\n",
    "\n",
    "    for step in tqdm(range(n_steps)):\n",
    "        \n",
    "        # Critic Training\n",
    "        crit_loss_temp = []\n",
    "        \n",
    "        # Select real samples for this batch on training and order samples to put samples of the same class together\n",
    "        real_samp = train_data[i*batch_size:(i+1)*batch_size]\n",
    "        real_lbls = train_labels[i*batch_size:(i+1)*batch_size]\n",
    "\n",
    "        real_samples = np.empty(real_samp.shape)\n",
    "        real_labels = np.empty(real_lbls.shape)\n",
    "        a = 0\n",
    "        if len(set(train_lbls)) < 3:\n",
    "            for l,s in sorted(zip(real_lbls, real_samp), key=lambda pair: pair[0], reverse=True):\n",
    "                real_samples[a] = s\n",
    "                real_labels[a] = l\n",
    "                a = a+1\n",
    "        else:\n",
    "            for l,s in sorted(zip(real_lbls, real_samp), key=lambda pair: np.argmax(pair[0]), reverse=False):\n",
    "                #print(l, np.argmax(l))\n",
    "                real_samples[a] = s\n",
    "                real_labels[a] = l\n",
    "                a = a+1\n",
    "\n",
    "        for _ in range(n_critic): # For each step, train critic n_critic times\n",
    "            \n",
    "            # Generate input for generator\n",
    "            artificial_samples = tf.constant(input_dist.rvs(size=all_data.shape[1]*batch_size), shape=[\n",
    "                batch_size,all_data.shape[1]])\n",
    "            artificial_labels = real_labels.copy()\n",
    "\n",
    "            # Generate artificial samples from the latent vector\n",
    "            artificial_samples = generator([artificial_samples, artificial_labels], training=True)\n",
    "            \n",
    "            with tf.GradientTape() as crit_tape: # See the gradient for the critic\n",
    "\n",
    "                # Get the logits for the generated samples\n",
    "                X_artificial = critic([artificial_samples, artificial_labels], training=True)\n",
    "                # Get the logits for the real samples\n",
    "                X_true = critic([real_samples, real_labels], training=True)\n",
    "\n",
    "                # Calculate the critic loss using the generated and real sample results\n",
    "                c_cost = critic_loss_wgan(X_true, X_artificial)\n",
    "\n",
    "                # Calculate the gradient penalty\n",
    "                grad_pen = gradient_penalty_cwgan(batch_size, real_samples, artificial_samples,\n",
    "                                                  real_labels, artificial_labels, critic)\n",
    "                # Add the gradient penalty to the original discriminator loss\n",
    "                crit_loss = c_cost + grad_pen * grad_pen_weight\n",
    "                \n",
    "            crit_loss_temp.append(crit_loss)\n",
    "\n",
    "            # Calculate and apply the gradients obtained from the loss on the trainable variables\n",
    "            gradients_of_critic = crit_tape.gradient(crit_loss, critic.trainable_variables)\n",
    "            critic_optimizer.apply_gradients(zip(gradients_of_critic, critic.trainable_variables))\n",
    "\n",
    "        i = i + 1\n",
    "        if (step+1) % (n_steps//epochs) == 0:\n",
    "            i=0\n",
    "\n",
    "        crit_loss_all.append(np.mean(crit_loss_temp))\n",
    "        \n",
    "        # Generator Training\n",
    "        # Generate inputs for generator, values and labels\n",
    "        artificial_samples = tf.constant(input_dist.rvs(size=all_data.shape[1]*batch_size), shape=[\n",
    "                batch_size,all_data.shape[1]])\n",
    "        \n",
    "        if len(set(train_lbls)) < 3:\n",
    "            artificial_labels = tf.constant([1.0]*(batch_size//2) + [0.0]*(batch_size//2), shape=(batch_size,1))\n",
    "        else:\n",
    "            artificial_labels = np.array(pd.get_dummies([i for i in range(len(set(train_lbls)))]*batch_divisions))\n",
    "    \n",
    "        with tf.GradientTape() as gen_tape: # See the gradient for the generator\n",
    "            # Generate artificial samples\n",
    "            artificial_samples = generator([artificial_samples, artificial_labels], training=True)\n",
    "            \n",
    "            # Get the critic results for generated samples\n",
    "            X_artificial = critic([artificial_samples, artificial_labels], training=True)\n",
    "            # Calculate the generator loss\n",
    "            gen_loss = generator_loss_wgan(X_artificial)\n",
    "\n",
    "        # Calculate and apply the gradients obtained from the loss on the trainable variables\n",
    "        gradients_of_generator = gen_tape.gradient(gen_loss, generator.trainable_variables)\n",
    "        generator_optimizer.apply_gradients(zip(gradients_of_generator, generator.trainable_variables))\n",
    "        gen_loss_all.append(gen_loss)\n",
    "\n",
    "        # Update the progress bar and evaluation graphs every update1 steps for loss plots and update2 for the others.\n",
    "        if (step + 1) % update1 == 0:\n",
    "            \n",
    "            # Update the evaluating figures at the set intervals\n",
    "            axl.clear() # Always clear the corresponding ax before redrawing it\n",
    "            \n",
    "            # Loss Plot\n",
    "            axl.plot(gen_loss_all, color = 'blue', label='Generator Loss')\n",
    "            axl.plot(crit_loss_all,color = 'red', label='Critic Loss')\n",
    "            axl.set_xlabel('Number of Steps')\n",
    "            axl.set_ylabel('Loss')\n",
    "            axl.legend()\n",
    "            \n",
    "            ipythondisplay.clear_output(wait=True)\n",
    "            ipythondisplay.display(plt.gcf())\n",
    "\n",
    "        if (step + 1) % update2 == 0:\n",
    "\n",
    "            saved_predictions.append(generate_predictions(generator, n_generated_samples, all_data.shape[1], \n",
    "                                                          input_realdata_dist, ordered_labels))\n",
    "            # See density and coverage and crossLID (divided by 25 to be in the same order as the rest) \n",
    "            # of latest predictions\n",
    "            den, cov = gem.evaluation_coverage_density(test_data, saved_predictions[-1], k= k_cov_den, metric='euclidean')\n",
    "            clid = gem.cross_LID_estimator_byMLE(test_data, saved_predictions[-1], k=k_crossLID, metric='euclidean')/25\n",
    "            density.append(den)\n",
    "            coverage.append(cov)\n",
    "            crossLID.append(clid)\n",
    "\n",
    "            # PCA of the latest predictions and training data\n",
    "            # Divide by twice the standard deviation to be the same as the generated data\n",
    "            dfs_temp = pd.concat((train_data_o/(2*train_data_o.values.std()),pd.DataFrame(\n",
    "                saved_predictions[-1].numpy(), columns=train_data_o.columns))) \n",
    "            temp_lbls = train_lbls.copy()\n",
    "            for l in ordered_labels:\n",
    "                temp_lbls.extend([l+' - GAN']*(n_generated_samples//len(ordered_labels)))\n",
    "            principaldf = gem.pca_sample_projection(dfs_temp, temp_lbls, pca, whiten=True, \n",
    "                                                samp_number=len(train_data_o.index))\n",
    "            lcolors = label_colors_test\n",
    "\n",
    "            # Hierarchical clustering of the latest predictions and testing data, \n",
    "            # saving the correct 1st cluster fraction results\n",
    "            dfs_temp = np.concatenate((test_data, saved_predictions[-1].numpy()))\n",
    "            temp_lbls = ['real']*len(test_data) + ['gen']*len(saved_predictions[-1])\n",
    "            hca_results = gem.perform_HCA(dfs_temp, temp_lbls, metric='euclidean', method='ward')\n",
    "            corr1stcluster.append(hca_results['correct 1st clustering'])\n",
    "            \n",
    "            # Plots\n",
    "            axc.clear()\n",
    "            axc.plot(range(update2, step+2, update2), coverage, label='coverage')\n",
    "            axc.plot(range(update2, step+2, update2), density, label='density')\n",
    "            axc.plot(range(update2, step+2, update2), crossLID, color='red', label='crossLID/25')\n",
    "            axc.plot(range(update2, step+2, update2), corr1stcluster, color='purple', label='corr_cluster')\n",
    "            axc.legend()\n",
    "\n",
    "            axr.clear()\n",
    "            gem.plot_PCA(principaldf, lcolors, components=(1,2), title='', ax=axr)\n",
    "            axr.legend(loc='upper right', ncol=1, framealpha=1)\n",
    "            \n",
    "            ipythondisplay.clear_output(wait=True)\n",
    "            ipythondisplay.display(plt.gcf())"
   ]
  },
  {
   "cell_type": "code",
   "execution_count": null,
   "id": "f6fb24ee",
   "metadata": {},
   "outputs": [],
   "source": [
    "df = datasets['vitis_types']['NGP']\n",
    "pca = PCA(n_components=2, svd_solver='full', whiten=True)\n",
    "pc_coords = pca.fit_transform(df)"
   ]
  },
  {
   "cell_type": "markdown",
   "id": "2de345fa",
   "metadata": {},
   "source": [
    "### Plot the models"
   ]
  },
  {
   "cell_type": "code",
   "execution_count": null,
   "id": "30d17a96",
   "metadata": {},
   "outputs": [],
   "source": [
    "generator = generator_model(data_NGP.shape[1], data_NGP.shape[1], 128, 2)\n",
    "critic = critic_model(data_NGP.shape[1], 512, 2)"
   ]
  },
  {
   "cell_type": "code",
   "execution_count": null,
   "id": "1d3a433f",
   "metadata": {},
   "outputs": [],
   "source": [
    "from keras.utils.vis_utils import plot_model\n",
    "plot_model(generator, to_file='generator_plot.png', show_shapes=True, show_layer_names=False)"
   ]
  },
  {
   "cell_type": "code",
   "execution_count": null,
   "id": "5a5e882d",
   "metadata": {},
   "outputs": [],
   "source": [
    "plot_model(critic, to_file='critic_plot.png', show_shapes=True, show_layer_names=False)"
   ]
  },
  {
   "cell_type": "markdown",
   "id": "59bae48a",
   "metadata": {},
   "source": [
    "### Training the GAN"
   ]
  },
  {
   "cell_type": "code",
   "execution_count": null,
   "id": "4c1f1e0f",
   "metadata": {
    "scrolled": false
   },
   "outputs": [],
   "source": [
    "GENERATE=True\n",
    "\n",
    "epochs = 600\n",
    "batch_size = 32\n",
    "k_cov_den = 20\n",
    "k_crossLID = 15\n",
    "random_seed = 145\n",
    "n_generated_samples = 48*len(pd.unique(lbls))\n",
    "\n",
    "if GENERATE:\n",
    "    # Store results\n",
    "    gen_loss_all = []\n",
    "    crit_loss_all = []\n",
    "    saved_predictions = []\n",
    "    coverage = []\n",
    "    density = []\n",
    "    crossLID = []\n",
    "    corr1stcluster = []\n",
    "\n",
    "    generator_optimizer = tf.keras.optimizers.RMSprop(1e-4)\n",
    "    critic_optimizer = tf.keras.optimizers.RMSprop(1e-4)\n",
    "\n",
    "    generator = generator_model(data_NGP.shape[1], data_NGP.shape[1], 128, 2)\n",
    "    critic = critic_model(data_NGP.shape[1], 512, 2)\n",
    "\n",
    "    training_montage(data_NGP, lbls, datasets['vitis_types']['NGP'], datasets['vitis_types']['target'],\n",
    "                     epochs, generator, critic, generator_optimizer, critic_optimizer,\n",
    "                     input_realdata_dist, batch_size, grad_pen_weight=10, k_cov_den=k_cov_den, k_crossLID=k_crossLID,\n",
    "                     random_seed=random_seed, n_generated_samples=n_generated_samples)\n",
    "\n",
    "    results={'gen_loss': gen_loss_all, 'crit_loss': crit_loss_all, 'saved_pred': saved_predictions,\n",
    "             'coverage': coverage, 'density': density, 'crossLID': crossLID, 'corr1st_cluster': corr1stcluster}"
   ]
  },
  {
   "cell_type": "code",
   "execution_count": null,
   "id": "9563da16",
   "metadata": {},
   "outputs": [],
   "source": [
    "##GENERATE = False\n",
    "if GENERATE:\n",
    "    # Save the generator and critic models' weights.\n",
    "    generator.save_weights('gan_models/GDint_gen')\n",
    "    critic.save_weights('gan_models/GDint_crit')\n",
    "    \n",
    "    # Save the results from GAN training\n",
    "    with open('gan_models/GDint_results.pickle', 'wb') as handle:\n",
    "        pickle.dump(results, handle)\n",
    "else:\n",
    "    # Read back the saved model\n",
    "    generator_optimizer = tf.keras.optimizers.RMSprop(1e-4)\n",
    "    critic_optimizer = tf.keras.optimizers.RMSprop(1e-4)\n",
    "\n",
    "    generator = generator_model(data_NGP.shape[1], data_NGP.shape[1], 128, 2)\n",
    "    critic = critic_model(data_NGP.shape[1], 512, 2)\n",
    "\n",
    "    # Load previously saved models\n",
    "    generator.load_weights('./gan_models/GDint_gen')\n",
    "    critic.load_weights('./gan_models/GDint_crit')\n",
    "    \n",
    "    # Load previously saved results\n",
    "    with open('gan_models/GDint_results.pickle', 'rb') as handle:\n",
    "        results = pickle.load(handle)\n",
    "    \n",
    "    gen_loss_all, crit_loss_all, saved_predictions = results['gen_loss'], results['crit_loss'], results['saved_pred']\n",
    "    coverage, density, crossLID = results['coverage'], results['density'], results['crossLID']\n",
    "    corr1stcluster = results['corr1st_cluster']"
   ]
  },
  {
   "cell_type": "markdown",
   "id": "a2017d17",
   "metadata": {},
   "source": [
    "#### Generate examples from our new code\n",
    "\n",
    "\n",
    "- Generate examples in bulk - predictions (GAN data)\n",
    "- Select only the 5 most correlated generated samples with each of the original samples - corr_preds (CorrGAN Data)\n",
    "\n",
    "#### CorrGAN"
   ]
  },
  {
   "cell_type": "code",
   "execution_count": null,
   "id": "f361192a",
   "metadata": {},
   "outputs": [],
   "source": [
    "# Generate samples\n",
    "num_examples_to_generate = 2048\n",
    "test_input = tf.constant(input_realdata_dist.rvs(size=data_NGP.shape[1]*num_examples_to_generate), \n",
    "                         shape=[num_examples_to_generate, data_NGP.shape[1]])\n",
    "test_labels = tf.constant([1]*(num_examples_to_generate//2) + [0]*(num_examples_to_generate//2), shape=[\n",
    "        num_examples_to_generate,1])\n",
    "\n",
    "predictions = generator([test_input, test_labels], training=False)\n",
    "predictions = pd.DataFrame(predictions.numpy(), columns=data_NGP.columns) * 2*data_NGP.values.std()\n",
    "predictions\n",
    "\n",
    "test_labels = tf.constant([1]*(num_examples_to_generate//2) + [0]*(num_examples_to_generate//2), shape=[\n",
    "        num_examples_to_generate,])"
   ]
  },
  {
   "cell_type": "markdown",
   "id": "3db4e13e",
   "metadata": {},
   "source": [
    "See correlation between samples and choose the 5 most correlated generated samples for each of the original samples."
   ]
  },
  {
   "cell_type": "code",
   "execution_count": null,
   "id": "b13d18a2",
   "metadata": {},
   "outputs": [],
   "source": [
    "df = datasets['vitis_types']['NGP']\n",
    "# Calculate all correlations between all samples of real and artificial data and store them in a dataframe\n",
    "correlations = pd.DataFrame(index=predictions.index, columns=df.index).astype('float')\n",
    "\n",
    "for i in df.index:\n",
    "    for j in predictions.index:\n",
    "        correlations.loc[j,i] = stats.pearsonr(df.loc[i],\n",
    "                                               predictions.loc[j])[0]"
   ]
  },
  {
   "cell_type": "code",
   "execution_count": null,
   "id": "b30478dc",
   "metadata": {},
   "outputs": [],
   "source": [
    "# Indices to keep in the correlated GAN data\n",
    "idx_to_keep = []\n",
    "for i in correlations:\n",
    "    idx_to_keep.extend(correlations[i].sort_values(ascending=False).index[:5])\n",
    "    \n",
    "print('Nº of total idx :', len(idx_to_keep))\n",
    "print('Nº of unique idx:', len(set(idx_to_keep)))"
   ]
  },
  {
   "cell_type": "code",
   "execution_count": null,
   "id": "614a08df",
   "metadata": {},
   "outputs": [],
   "source": [
    "# Make the correlation GAN dataframe and corresponding label targets\n",
    "corr_preds = predictions.loc[list(set(idx_to_keep))]\n",
    "corr_lbls  = list(np.array(test_labels)[list(set(idx_to_keep))])"
   ]
  },
  {
   "cell_type": "markdown",
   "id": "b93ae04f",
   "metadata": {},
   "source": [
    "#### GAN Data"
   ]
  },
  {
   "cell_type": "code",
   "execution_count": null,
   "id": "44f39782",
   "metadata": {},
   "outputs": [],
   "source": [
    "ordered_labels = pd.get_dummies(\n",
    "            np.array(lbls)[np.random.RandomState(seed=random_seed).permutation(len(lbls))]).columns\n",
    "ordered_labels"
   ]
  },
  {
   "cell_type": "code",
   "execution_count": null,
   "id": "47f506ef",
   "metadata": {},
   "outputs": [],
   "source": [
    "# Redo prediction with a smaller number of samples this time\n",
    "num_examples_to_generate = 1024\n",
    "test_input = tf.constant(input_realdata_dist.rvs(size=data_NGP.shape[1]*num_examples_to_generate), \n",
    "                         shape=[num_examples_to_generate, data_NGP.shape[1]])\n",
    "test_labels = tf.constant([1]*(num_examples_to_generate//2) + [0]*(num_examples_to_generate//2), shape=[\n",
    "        num_examples_to_generate,1])\n",
    "\n",
    "predictions = generator([test_input, test_labels], training=False) * 2*data_NGP.values.std()\n",
    "predictions\n",
    "\n",
    "# Assign sample labels\n",
    "test_labels = tf.constant([1]*(num_examples_to_generate//2) + [0]*(num_examples_to_generate//2), shape=[\n",
    "        num_examples_to_generate,])\n",
    "last_preds_labels = ['vinifera']*(len(predictions)//2) + ['wild']*(len(predictions)//2)"
   ]
  },
  {
   "cell_type": "code",
   "execution_count": null,
   "id": "ccffc81d",
   "metadata": {},
   "outputs": [],
   "source": [
    "predictions = pd.DataFrame(predictions.numpy(), columns=data_NGP.columns)"
   ]
  },
  {
   "cell_type": "markdown",
   "id": "141b78a8",
   "metadata": {},
   "source": [
    "Transforming the 96 generated samples for 20 different time points during GAN training (stored in results) into DataFrames."
   ]
  },
  {
   "cell_type": "code",
   "execution_count": null,
   "id": "b0dbc5dd",
   "metadata": {},
   "outputs": [],
   "source": [
    "# Transform predictions into Pandas DataFrames\n",
    "saved_predictions = []\n",
    "for i in range(len(results['saved_pred'])):\n",
    "    saved_predictions.append(\n",
    "        pd.DataFrame(results['saved_pred'][i].numpy(), columns=data_NGP.columns)* 2*data_NGP.values.std())"
   ]
  },
  {
   "cell_type": "markdown",
   "id": "bae20351",
   "metadata": {},
   "source": [
    "### Loss Plot and PCAs and tSNEs representation on the evolution of generated samples with epochs\n",
    "\n",
    "Measures of progression of the model in time."
   ]
  },
  {
   "cell_type": "code",
   "execution_count": null,
   "id": "15c188c7",
   "metadata": {},
   "outputs": [],
   "source": [
    "with sns.axes_style(\"whitegrid\"):\n",
    "    with sns.plotting_context(\"notebook\", font_scale=1.2):\n",
    "        steps_per_epoch = int(data_NGP.shape[0] / batch_size)\n",
    "        f, ax = plt.subplots(1, 1, figsize=(4,4))\n",
    "        ax.plot(range(1,len(gen_loss_all)+1), gen_loss_all, label='Generator Loss')\n",
    "        ax.plot(range(1,len(crit_loss_all)+1), crit_loss_all, label='Critic Loss')\n",
    "        ax.set_xticks(range(0, (epochs+1)*steps_per_epoch, 200*steps_per_epoch))\n",
    "        ax.set_xticklabels(range(0, (epochs+1), 200))\n",
    "\n",
    "        ax.legend()\n",
    "        ax.set_xlim([0*steps_per_epoch,(epochs)*steps_per_epoch])\n",
    "        ax.set_xlabel('Nº of Epochs', fontsize=15)\n",
    "        ax.set_ylabel('Loss', fontsize=15)\n",
    "        ax.set_title('Loss Plot', fontsize=15)\n",
    "        plt.tight_layout()\n",
    "        f.savefig('images/GDint_LossPlot.png' , dpi=400)"
   ]
  },
  {
   "cell_type": "markdown",
   "id": "9b56558c",
   "metadata": {},
   "source": [
    "**PCA and tSNE of GAN generated data and the linearly generated 'test data'**\n",
    "\n",
    "Progression with number of epochs."
   ]
  },
  {
   "cell_type": "code",
   "execution_count": null,
   "id": "ad197523",
   "metadata": {
    "scrolled": false
   },
   "outputs": [],
   "source": [
    "with sns.axes_style(\"whitegrid\"):\n",
    "    with sns.plotting_context(\"notebook\", font_scale=1):\n",
    "        f, axs = plt.subplots(2,5, figsize=(16,8), constrained_layout=True)\n",
    "        \n",
    "        for i, ax in zip(range(0, len(saved_predictions),2), axs.ravel()):\n",
    "            dfs_temp = pd.concat((data_NGP, saved_predictions[i]))\n",
    "            temp_lbls = lbls.copy()\n",
    "            temp_lbls.extend(['vinifera - GAN']*(len(saved_predictions[-1])//2))\n",
    "            temp_lbls.extend(['wild - GAN']*(len(saved_predictions[-1])//2))\n",
    "            \n",
    "            principaldf = ma.compute_df_with_PCs(dfs_temp, n_components=2, whiten=True, labels=temp_lbls,\n",
    "                                                 return_var_ratios=False)\n",
    "\n",
    "            lcolors = label_colors_test\n",
    "            \n",
    "            gem.plot_PCA(principaldf, lcolors, components=(1,2), title='', ax=ax)\n",
    "            #gem.plot_ellipses_PCA(principaldf, lcolors, components=(1,2),ax=ax, q=0.95)\n",
    "            ax.legend(loc='upper right', ncol=1, framealpha=1)\n",
    "        "
   ]
  },
  {
   "cell_type": "code",
   "execution_count": null,
   "id": "da95c982",
   "metadata": {},
   "outputs": [],
   "source": [
    "with sns.axes_style(\"whitegrid\"):\n",
    "    with sns.plotting_context(\"notebook\", font_scale=1):\n",
    "        f, axs = plt.subplots(2,5, figsize=(16,8), constrained_layout=True)\n",
    "        \n",
    "        for i, ax in zip(range(0, len(saved_predictions), 2), axs.ravel()):\n",
    "            \n",
    "            dfs_temp = pd.concat((data_NGP, saved_predictions[i]))\n",
    "            temp_lbls = lbls.copy()\n",
    "            temp_lbls.extend(['vinifera - GAN']*(len(saved_predictions[-1])//2))\n",
    "            temp_lbls.extend(['wild - GAN']*(len(saved_predictions[-1])//2))\n",
    "            \n",
    "            X = dfs_temp.copy()\n",
    "            X_embedded = TSNE(n_components=2, perplexity=30, learning_rate='auto',\n",
    "                              init='random', verbose=0).fit_transform(X)\n",
    "\n",
    "            df = X_embedded\n",
    "            labels = temp_lbls\n",
    "            lcolors = label_colors_test\n",
    "            \n",
    "            gem.plot_tSNE(df, labels, lcolors, components=(1,2), title='', ax=ax)\n",
    "            gem.plot_ellipses_tSNE(df, labels, lcolors, components=(1,2),ax=ax, q=0.95)\n",
    "            ax.legend(loc='upper right', ncol=1, framealpha=1)"
   ]
  },
  {
   "cell_type": "markdown",
   "id": "bbd4fc41",
   "metadata": {},
   "source": [
    "**PCA and tSNE of GAN generated data and real data**\n",
    "\n",
    "Progression with number of epochs."
   ]
  },
  {
   "cell_type": "code",
   "execution_count": null,
   "id": "b8f0537a",
   "metadata": {
    "scrolled": false
   },
   "outputs": [],
   "source": [
    "with sns.axes_style(\"whitegrid\"):\n",
    "    with sns.plotting_context(\"notebook\", font_scale=1):\n",
    "        f, axs = plt.subplots(2,5, figsize=(16,8), constrained_layout=True)\n",
    "        \n",
    "        for i, ax in zip(range(0, len(saved_predictions),2), axs.ravel()):\n",
    "            p = saved_predictions[i].copy()\n",
    "            p.columns = datasets['vitis_types']['NGP'].columns\n",
    "            dfs_temp = pd.concat((datasets['vitis_types']['NGP'],\n",
    "                                  p))\n",
    "            temp_lbls = datasets['vitis_types']['target'].copy()\n",
    "            temp_lbls.extend(['vinifera - GAN']*(len(saved_predictions[-1])//2))\n",
    "            temp_lbls.extend(['wild - GAN']*(len(saved_predictions[-1])//2))\n",
    "            \n",
    "            principaldf = ma.compute_df_with_PCs(dfs_temp, n_components=2, whiten=True, labels=temp_lbls,\n",
    "                                                 return_var_ratios=False)\n",
    "\n",
    "            lcolors = label_colors_test\n",
    "            \n",
    "            gem.plot_PCA(principaldf, lcolors, components=(1,2), title='', ax=ax)\n",
    "            #gem.plot_ellipses_PCA(principaldf, lcolors, components=(1,2),ax=ax, q=0.95)\n",
    "            ax.legend(loc='upper right', ncol=1, framealpha=1)\n",
    "        "
   ]
  },
  {
   "cell_type": "code",
   "execution_count": null,
   "id": "81e6cea9",
   "metadata": {},
   "outputs": [],
   "source": [
    "with sns.axes_style(\"whitegrid\"):\n",
    "    with sns.plotting_context(\"notebook\", font_scale=1):\n",
    "        f, axs = plt.subplots(2,5, figsize=(16,8), constrained_layout=True)\n",
    "        \n",
    "        for i, ax in zip(range(0, len(saved_predictions), 2), axs.ravel()):\n",
    "            \n",
    "            p = saved_predictions[i].copy()\n",
    "            p.columns = datasets['vitis_types']['NGP'].columns\n",
    "            dfs_temp = pd.concat((datasets['vitis_types']['NGP'], p))\n",
    "            temp_lbls = datasets['vitis_types']['target'].copy()\n",
    "            temp_lbls.extend(['vinifera - GAN']*(len(saved_predictions[-1])//2))\n",
    "            temp_lbls.extend(['wild - GAN']*(len(saved_predictions[-1])//2))\n",
    "            \n",
    "            X = dfs_temp.copy()\n",
    "            X_embedded = TSNE(n_components=2, perplexity=30, learning_rate='auto',\n",
    "                              init='random', verbose=0).fit_transform(X)\n",
    "\n",
    "            df = X_embedded\n",
    "            labels = temp_lbls\n",
    "            lcolors = label_colors_test\n",
    "            \n",
    "            gem.plot_tSNE(df, labels, lcolors, components=(1,2), title='', ax=ax)\n",
    "            gem.plot_ellipses_tSNE(df, labels, lcolors, components=(1,2),ax=ax, q=0.95)\n",
    "            ax.legend(loc='upper right', ncol=1, framealpha=1)"
   ]
  },
  {
   "cell_type": "markdown",
   "id": "ac38d08b",
   "metadata": {},
   "source": [
    "#### PCA of GAN generated data and experimental (real) data"
   ]
  },
  {
   "cell_type": "code",
   "execution_count": null,
   "id": "a82ade8c",
   "metadata": {},
   "outputs": [],
   "source": [
    "with sns.axes_style(\"whitegrid\"):\n",
    "    with sns.plotting_context(\"notebook\", font_scale=1):\n",
    "        f, ax = plt.subplots(1,1, figsize=(6,4), constrained_layout=True)\n",
    "            \n",
    "        p = saved_predictions[-1].copy()\n",
    "        p.columns = datasets['vitis_types']['NGP'].columns\n",
    "        dfs_temp = pd.concat((datasets['vitis_types']['NGP'], p))\n",
    "        temp_lbls = datasets['vitis_types']['target'].copy()\n",
    "        temp_lbls.extend(['vinifera - GAN']*(len(saved_predictions[-1])//2))\n",
    "        temp_lbls.extend(['wild - GAN']*(len(saved_predictions[-1])//2))\n",
    "\n",
    "        principaldf = ma.compute_df_with_PCs(dfs_temp, n_components=2, whiten=True, labels=temp_lbls,\n",
    "                                                 return_var_ratios=False)\n",
    "\n",
    "        lcolors = label_colors_test\n",
    "\n",
    "        gem.plot_PCA(principaldf, lcolors, components=(1,2), title='', ax=ax)\n",
    "        gem.plot_ellipses_PCA(principaldf, lcolors, components=(1,2),ax=ax, q=0.95)\n",
    "        ax.set_ylabel('PC 2', fontsize=15)\n",
    "        ax.set_xlabel('PC 1', fontsize=15)\n",
    "        ax.legend(loc='upper left', bbox_to_anchor=(1, 1), fontsize=14)\n",
    "        f.savefig('images/GDint_PCAPlot.png' , dpi=400)"
   ]
  },
  {
   "cell_type": "markdown",
   "id": "4d712d78",
   "metadata": {},
   "source": [
    "### Comparing GAN Generated Data Characteristics with experimental data"
   ]
  },
  {
   "cell_type": "code",
   "execution_count": null,
   "id": "20b3a82a",
   "metadata": {},
   "outputs": [],
   "source": [
    "names = ['Experimental data', 'GAN data', 'CorrGAN data']\n",
    "data_repo = [datasets['vitis_types']['NGP'], predictions, corr_preds]\n",
    "tgs = [datasets['vitis_types']['target'], ['gen']*len(predictions), corr_lbls]\n",
    "data_characteristics = [gem.characterize_data(ds, name, tg) for ds,name,tg in zip(data_repo, names, tgs)]\n",
    "data_characteristics = pd.DataFrame(data_characteristics).set_index('Dataset')\n",
    "data_characteristics"
   ]
  },
  {
   "cell_type": "code",
   "execution_count": null,
   "id": "ce854b9c",
   "metadata": {
    "scrolled": false
   },
   "outputs": [],
   "source": [
    "f, (axl, axr) = plt.subplots(1,2, figsize=(8,4))\n",
    "\n",
    "names = ['Experimental', 'GAN', 'CorrGAN']\n",
    "axl.boxplot([ds.values.flatten() for ds in data_repo])\n",
    "axl.set_ylabel('Distribution of scaled intensities', fontsize=15)\n",
    "axl.set_xticklabels(names, fontsize=12)\n",
    "#axl.set_yticks([-2, 0, 2, 4])\n",
    "\n",
    "axr.boxplot([ds.sum(axis=1) for ds in data_repo])\n",
    "axr.set_ylabel('Distribution of feature sum of intensities', fontsize=12)\n",
    "axr.set_xticklabels(names, fontsize=12)\n",
    "\n",
    "plt.tight_layout()\n",
    "plt.show()\n",
    "f.savefig('images/GDint_characteristics.png' , dpi=400)"
   ]
  },
  {
   "cell_type": "markdown",
   "id": "4aa85d70",
   "metadata": {},
   "source": [
    "### Hierarchical Clustering"
   ]
  },
  {
   "cell_type": "markdown",
   "id": "eb596301",
   "metadata": {},
   "source": [
    "Hierarchical clustering of 96 GAN samples and testing data (96 random samples from linearly augmented data). "
   ]
  },
  {
   "cell_type": "code",
   "execution_count": null,
   "id": "ddfaf699",
   "metadata": {},
   "outputs": [],
   "source": [
    "batch_size=32\n",
    "all_data = data_NGP.iloc[np.random.RandomState(seed=random_seed).permutation(len(data_NGP))]\n",
    "test_data = all_data[-3*batch_size:]\n",
    "\n",
    "dfs_temp = np.concatenate((test_data, saved_predictions[-1].values))\n",
    "test_labels = np.array(lbls)[np.random.RandomState(seed=random_seed).permutation(len(data_NGP))][-3*batch_size:]\n",
    "temp_lbls = list(test_labels) + ['vinifera - GAN']*(len(saved_predictions[-1])//2) + [\n",
    "    'wild - GAN']*(len(saved_predictions[-1])//2)\n",
    "\n",
    "hca_results = gem.perform_HCA(dfs_temp, temp_lbls, metric='euclidean', method='ward')"
   ]
  },
  {
   "cell_type": "code",
   "execution_count": null,
   "id": "1d236526",
   "metadata": {
    "scrolled": false
   },
   "outputs": [],
   "source": [
    "f, ax = plt.subplots(figsize=(3, 10))\n",
    "gem.plot_dendogram(hca_results['Z'], \n",
    "               temp_lbls, ax=ax,\n",
    "               label_colors=label_colors_test, title='',\n",
    "               color_threshold=0)\n",
    "ax.set_yticklabels([])\n",
    "#plt.legend(ordered_labels_test, colours2)\n",
    "plt.show()"
   ]
  },
  {
   "cell_type": "markdown",
   "id": "cbcff0e3",
   "metadata": {},
   "source": [
    "Hierarchical clustering of 96 GAN samples and experimental data."
   ]
  },
  {
   "cell_type": "code",
   "execution_count": null,
   "id": "3d9b83f9",
   "metadata": {},
   "outputs": [],
   "source": [
    "dfs_temp = np.concatenate((datasets['vitis_types']['NGP'].values, saved_predictions[-1].values))\n",
    "#test_labels = datasets['vitis_types']['NGP'].values\n",
    "temp_lbls = list(datasets['vitis_types']['target']) + ['vinifera - GAN']*(len(saved_predictions[-1])//2) + [\n",
    "    'wild - GAN']*(len(saved_predictions[-1])//2)\n",
    "hca_results = gem.perform_HCA(dfs_temp, temp_lbls, metric='euclidean', method='ward')"
   ]
  },
  {
   "cell_type": "code",
   "execution_count": null,
   "id": "83b53f9b",
   "metadata": {
    "scrolled": false
   },
   "outputs": [],
   "source": [
    "f, ax = plt.subplots(figsize=(3, 10))\n",
    "gem.plot_dendogram(hca_results['Z'], \n",
    "               temp_lbls, ax=ax,\n",
    "               label_colors=label_colors_test, title='',\n",
    "               color_threshold=0)\n",
    "ax.set_yticklabels([])\n",
    "ax.set_xticks([])\n",
    "plt.show()\n",
    "f.savefig('images/GDint_HCAPlot.png' , dpi=400)"
   ]
  },
  {
   "cell_type": "markdown",
   "id": "8dfba05e",
   "metadata": {},
   "source": [
    "### Coverage and Density"
   ]
  },
  {
   "cell_type": "code",
   "execution_count": null,
   "id": "fa4a29cb",
   "metadata": {},
   "outputs": [],
   "source": [
    "training_set = data_NGP\n",
    "\n",
    "density_list, coverage_list = gem.evaluation_coverage_density_all_k_at_once(training_set, \n",
    "                                                                            predictions,\n",
    "                                                                            metric='Euclidean')\n",
    "\n",
    "density_list_test, coverage_list_test = gem.evaluation_coverage_density_all_k_at_once(training_set,\n",
    "                                                                                      datasets['vitis_types']['NGP'], \n",
    "                                                                                      metric='Euclidean')\n",
    "\n",
    "density_list_real, coverage_list_real = gem.evaluation_coverage_density_all_k_at_once(datasets['vitis_types']['NGP'], \n",
    "                                                                                      predictions,\n",
    "                                                                                      metric='Euclidean')\n",
    "\n",
    "density_list_corr, coverage_list_corr = gem.evaluation_coverage_density_all_k_at_once(training_set, \n",
    "                                                                                      corr_preds,\n",
    "                                                                                      metric='Euclidean')\n",
    "\n",
    "density_list_linaug_real, coverage_list_linaug_real = gem.evaluation_coverage_density_all_k_at_once(\n",
    "                                                                                      datasets['vitis_types']['NGP'], \n",
    "                                                                                      training_set,\n",
    "                                                                                      metric='Euclidean')"
   ]
  },
  {
   "cell_type": "code",
   "execution_count": null,
   "id": "f84d622d",
   "metadata": {
    "scrolled": false
   },
   "outputs": [],
   "source": [
    "with sns.axes_style(\"whitegrid\"):\n",
    "    with sns.plotting_context(\"notebook\", font_scale=1.2):\n",
    "        f, (axl, axr) = plt.subplots(1, 2, figsize = (8,4))#, sharey='row')#, sharex='col')\n",
    "        \n",
    "        axl.plot(range(1,len(training_set)), density_list, label='Density', color='blue')\n",
    "        axl.plot(range(1,len(training_set)), coverage_list, label='Coverage', color='red')\n",
    "        axl.set_title('GAN - Interpolated Data', fontsize=15)\n",
    "        axl.set_ylabel('Density / Coverage', fontsize=15)\n",
    "        axl.set_ylim([0,5])\n",
    "        axl.set_xlabel('Nº of Nearest Neighbors', fontsize=15)\n",
    "\n",
    "        axr.plot(range(1,len(datasets['vitis_types']['NGP'])), density_list_real, label='Density', color='blue')\n",
    "        axr.plot(range(1,len(datasets['vitis_types']['NGP'])), coverage_list_real, label='Coverage', color='red')\n",
    "        axr.set_title('GAN - Experimental Data', fontsize=15)\n",
    "        axr.set_ylim([0,5])\n",
    "        \n",
    "        axr.legend()\n",
    "        axl.legend()\n",
    "        axr.set_xlabel('Nº of Nearest Neighbors', fontsize=15)\n",
    "        #plt.suptitle('Density and Coverage', fontsize=18)\n",
    "\n",
    "    plt.tight_layout()\n",
    "    f.savefig('images/GDint_DenCovPlot.png' , dpi=400)"
   ]
  },
  {
   "cell_type": "markdown",
   "id": "1c83753f",
   "metadata": {},
   "source": [
    "### Histograms\n",
    " \n",
    "Histograms of Values of normal Experimental (Real), Linearly Interpolated and GAN Generated Data."
   ]
  },
  {
   "cell_type": "code",
   "execution_count": null,
   "id": "714d1d64",
   "metadata": {},
   "outputs": [],
   "source": [
    "# Predictions\n",
    "last_preds = predictions"
   ]
  },
  {
   "cell_type": "code",
   "execution_count": null,
   "id": "37fa0f82",
   "metadata": {},
   "outputs": [],
   "source": [
    "with sns.axes_style(\"whitegrid\"):\n",
    "    with sns.plotting_context(\"notebook\", font_scale=1.2):\n",
    "        f, ax = plt.subplots(1, 1, figsize = (6,4))#, sharey='row')#, sharex='col')\n",
    "        X = np.arange(-8, 8.01, 0.05)\n",
    "        hist = np.histogram(datasets['vitis_types']['NGP'].values.flatten(), bins=50)\n",
    "        hist_dist = stats.rv_histogram(hist)\n",
    "        ax.plot(X, hist_dist.pdf(X), color='blue', label='Experimental')\n",
    "        \n",
    "        hist = np.histogram(data_NGP.values.flatten(), bins=50)\n",
    "        hist_dist = stats.rv_histogram(hist)\n",
    "        ax.plot(X, hist_dist.pdf(X), color='orange', label='Interpolated')\n",
    "        ax.set_ylabel('PDF', fontsize=15)\n",
    "        \n",
    "        hist = np.histogram(last_preds.values.flatten(), bins=50)\n",
    "        hist_dist = stats.rv_histogram(hist)\n",
    "        ax.plot(X, hist_dist.pdf(X), color='red', label='GAN')\n",
    "        \n",
    "        hist = np.histogram(corr_preds.values.flatten(), bins=50)\n",
    "        hist_dist = stats.rv_histogram(hist)\n",
    "        ax.plot(X, hist_dist.pdf(X), color='green', label='CorrGAN')\n",
    "        \n",
    "        ax.set_ylabel('PDF', fontsize=15)\n",
    "        ax.set_xlabel('Scaled Intensities', fontsize=15)\n",
    "        ax.set_xticks([-8, -4, 0, 4, 8])\n",
    "        ax.set_ylim([0,0.6])\n",
    "\n",
    "        ax.legend(loc='upper left', bbox_to_anchor=(1, 1), fontsize=12, handlelength=1)\n",
    "        ax.set_title('Intensities Distribution', fontsize=18)\n",
    "        plt.tight_layout()\n",
    "        f.savefig('images/GDint_IntPlot.png', dpi=400)"
   ]
  },
  {
   "cell_type": "markdown",
   "id": "0a43a03f",
   "metadata": {},
   "source": [
    "### Correlations between samples of Experimental (Real) Data and GAN Generated Data"
   ]
  },
  {
   "cell_type": "code",
   "execution_count": null,
   "id": "644aaa14",
   "metadata": {},
   "outputs": [],
   "source": [
    "correlation_real_real = np.corrcoef(datasets['vitis_types']['NGP'])\n",
    "print('Correlation Experimental-Experimental calculation ended.')\n",
    "\n",
    "correlation_lin_lin = np.corrcoef(data_NGP)\n",
    "print('Correlation Linear-Linear calculation ended.')\n",
    "\n",
    "correlation_gan_gan = np.corrcoef(last_preds)\n",
    "print('Correlation GAN-GAN calculation ended.')\n",
    "\n",
    "correlation_corr_corr = np.corrcoef(corr_preds)\n",
    "print('Correlation CorrGAN-CorrGAN calculation ended.')"
   ]
  },
  {
   "cell_type": "code",
   "execution_count": null,
   "id": "4d69cf7e",
   "metadata": {},
   "outputs": [],
   "source": [
    "with sns.axes_style(\"whitegrid\"):\n",
    "    with sns.plotting_context(\"notebook\", font_scale=1.2):\n",
    "        f, ax = plt.subplots(1, 1, figsize = (4,4))#, sharey='row')#, sharex='col')\n",
    "        X = np.arange(-1, 1.01, 0.05)\n",
    "        hist = np.histogram(correlation_real_real.flatten(), bins=50)\n",
    "        hist_dist = stats.rv_histogram(hist)\n",
    "        ax.plot(X, hist_dist.pdf(X), color='blue', label='Experimental')\n",
    "        ax.set_ylabel('PDF', fontsize=15)\n",
    "        \n",
    "        hist = np.histogram(correlation_lin_lin.flatten(), bins=50)\n",
    "        hist_dist = stats.rv_histogram(hist)\n",
    "        ax.plot(X, hist_dist.pdf(X), color='orange', label='Interpolated')\n",
    "        \n",
    "        hist = np.histogram(correlation_gan_gan.flatten(), bins=50)\n",
    "        hist_dist = stats.rv_histogram(hist)\n",
    "        ax.plot(X, hist_dist.pdf(X), color='red', label='GAN')\n",
    "        \n",
    "        hist = np.histogram(correlation_corr_corr.flatten(), bins=50)\n",
    "        hist_dist = stats.rv_histogram(hist)\n",
    "        ax.plot(X, hist_dist.pdf(X), color='green', label='CorrGAN')\n",
    "        \n",
    "        ax.legend(loc='upper right', fontsize=12, handlelength=0.9, handletextpad=0.5)\n",
    "        ax.set_title('Sample Correlations', fontsize=18)\n",
    "        ax.set_xlabel('Correlation', fontsize=15)\n",
    "        ax.set_ylim([0,3.6])\n",
    "\n",
    "    #f.text(0.5, 0.05, 'Correlation', ha='center', va='top', fontsize=15)\n",
    "    plt.tight_layout()\n",
    "    f.savefig('images/GDint_SampCorrPlot.png', dpi=400)"
   ]
  },
  {
   "cell_type": "markdown",
   "id": "7873a4d5",
   "metadata": {},
   "source": [
    "### Correlations between features of Experimental (Real), Generated and GAN Generated Samples"
   ]
  },
  {
   "cell_type": "code",
   "execution_count": null,
   "id": "000682b0",
   "metadata": {
    "scrolled": true
   },
   "outputs": [],
   "source": [
    "correlation_real_real = np.corrcoef(datasets['vitis_types']['NGP'].T)\n",
    "print('Correlation Experimental-Experimental calculation ended.')\n",
    "\n",
    "correlation_gen_gen = np.corrcoef(data_NGP.T)\n",
    "print('Correlation Generated-Generated calculation ended.')\n",
    "\n",
    "correlation_gan_gan = np.corrcoef(last_preds.T)\n",
    "print('Correlation GAN-GAN calculation ended.')\n",
    "\n",
    "correlation_corr_corr = np.corrcoef(corr_preds.T)\n",
    "print('Correlation CorrGAN-CorrGAN calculation ended.')"
   ]
  },
  {
   "cell_type": "code",
   "execution_count": null,
   "id": "c8e2c53d",
   "metadata": {},
   "outputs": [],
   "source": [
    "with sns.axes_style(\"whitegrid\"):\n",
    "    with sns.plotting_context(\"notebook\", font_scale=1.2):\n",
    "        f, ax = plt.subplots(1, 1, figsize = (4,4))#, sharey='row')#, sharex='col')\n",
    "        X = np.arange(-1, 1.01, 0.05)\n",
    "        hist = np.histogram(correlation_real_real.flatten()[~np.isnan(correlation_real_real.flatten())],\n",
    "                            bins=50)\n",
    "        hist_dist = stats.rv_histogram(hist)\n",
    "        ax.plot(X, hist_dist.pdf(X), color='blue', label='Experimental')\n",
    "        ax.set_ylabel('PDF', fontsize=15)\n",
    "        \n",
    "        hist = np.histogram(correlation_gen_gen.flatten()[~np.isnan(correlation_gen_gen.flatten())], bins=50)\n",
    "        hist_dist = stats.rv_histogram(hist)\n",
    "        ax.plot(X, hist_dist.pdf(X), color='orange', label='Interpolated')\n",
    "        \n",
    "        hist = np.histogram(correlation_gan_gan.flatten()[~np.isnan(correlation_gan_gan.flatten())], bins=50)\n",
    "        hist_dist = stats.rv_histogram(hist)\n",
    "        ax.plot(X, hist_dist.pdf(X), color='red', label='GAN')\n",
    "        \n",
    "        hist = np.histogram(correlation_corr_corr.flatten()[~np.isnan(correlation_corr_corr.flatten())],\n",
    "                            bins=50)\n",
    "        hist_dist = stats.rv_histogram(hist)\n",
    "        ax.plot(X, hist_dist.pdf(X), color='green', label='CorrGAN')\n",
    "        \n",
    "        \n",
    "        ax.legend(fontsize=11, loc='upper left', handlelength=0.9, handletextpad=0.5)\n",
    "        ax.set_title('Feature Correlations', fontsize=18)\n",
    "        ax.set_xlabel('Correlation', fontsize=15)\n",
    "        ax.set_ylim([0,1.7])\n",
    "\n",
    "    #f.text(0.5, 0.05, 'Correlation', ha='center', va='top', fontsize=15)\n",
    "    plt.tight_layout()\n",
    "    f.savefig('images/GDint_FeatCorrPlot.png', dpi=400)"
   ]
  },
  {
   "cell_type": "markdown",
   "id": "8bd94e09",
   "metadata": {},
   "source": [
    "### Sample Correlation Matrix\n",
    "\n",
    "Between samples of the experimental (real) data and a set of generated GAN samples."
   ]
  },
  {
   "cell_type": "code",
   "execution_count": null,
   "id": "ad2b141b",
   "metadata": {},
   "outputs": [],
   "source": [
    "# Experimental (Real) Data, organize it to have first all samples of a class, then all samples of the other class\n",
    "df = datasets['vitis_types']['NGP'].copy()\n",
    "\n",
    "samp = df.index\n",
    "tg = datasets['vitis_types']['target'].copy()\n",
    "new_order = [x for _, x in sorted(zip(tg, samp))]\n",
    "new_tg = [x for x, _ in sorted(zip(tg, samp))]\n",
    "\n",
    "df = df.loc[new_order]\n",
    "#df"
   ]
  },
  {
   "cell_type": "code",
   "execution_count": null,
   "id": "a2f02a56",
   "metadata": {},
   "outputs": [],
   "source": [
    "# Calculate all correlations between all samples of experimental (real) and generated data and store them in a dataframe\n",
    "correlations = pd.DataFrame(index=last_preds.index, columns=df.index).astype('float')\n",
    "\n",
    "for i in df.index:\n",
    "    for j in last_preds.index:\n",
    "        correlations.loc[j,i] = stats.spearmanr(df.loc[i],\n",
    "                                               last_preds.loc[j])[0]\n",
    "\n",
    "correlations.columns = new_tg\n",
    "correlations.index = ['vinifera - GAN']*(len(last_preds)//2) + ['wild - GAN']*(len(last_preds)//2)"
   ]
  },
  {
   "cell_type": "code",
   "execution_count": null,
   "id": "85dc3661",
   "metadata": {},
   "outputs": [],
   "source": [
    "# Draw the clustermap\n",
    "\n",
    "row_cols = [label_colors_test[lbl] for lbl in new_tg]\n",
    "row_cols2 = [label_colors_test[lbl] for lbl in correlations.index]\n",
    "co = sns.diverging_palette(160, 310, s=90, as_cmap=True, l=40)\n",
    "g = sns.clustermap(correlations, col_colors=row_cols, cmap=co, row_colors= row_cols2, vmin=-1, vmax=1, method='ward',\n",
    "                  cbar_pos = (-0.13, 0.1, 0.05, 0.5))\n",
    "g.fig.set_size_inches((6,9))\n",
    "# some tweaks\n",
    "patches = []\n",
    "for lbl in ordered_labels_test:\n",
    "    patches.append(mpatches.Patch(color=label_colors_test[lbl], label=lbl))\n",
    "leg = plt.legend(handles=patches, loc=3, bbox_to_anchor=(-0.55, 1.35, 0.5, 1),\n",
    "                     frameon=False, fontsize=14) \n",
    "g.ax_heatmap.set_ylabel('GAN Data', fontsize=20)\n",
    "g.ax_heatmap.set_xlabel('Experimental Data', fontsize=20)\n",
    "g.ax_heatmap.tick_params(axis='both', which='both', bottom=False, top=False, labelbottom=False, right=False,\n",
    "                         labelright=False)\n",
    "\n",
    "# Manually specify colorbar labelling after it's been generated\n",
    "colorbar = g.ax_heatmap.collections[0].colorbar\n",
    "colorbar.ax.tick_params(labelsize=13) \n",
    "plt.text(1, 1.10, 'Correlations', fontsize=14, horizontalalignment='center')\n",
    "plt.show()\n",
    "g.savefig('images/GDint_Clustermap.png', dpi=400)"
   ]
  },
  {
   "cell_type": "code",
   "execution_count": null,
   "id": "acea59a6",
   "metadata": {},
   "outputs": [],
   "source": [
    "a = scipy.spatial.distance_matrix(last_preds, df)\n",
    "sample_distances = pd.DataFrame(a, index=last_preds.index, columns=df.index).astype('float')\n",
    "sample_distances.index = ['vinifera - GAN']*(len(last_preds)//2) + ['wild - GAN']*(len(last_preds)//2)"
   ]
  },
  {
   "cell_type": "code",
   "execution_count": null,
   "id": "ecc77f05",
   "metadata": {},
   "outputs": [],
   "source": [
    "row_cols = [label_colors_test[lbl] for lbl in new_tg]\n",
    "row_cols2 = [label_colors_test[lbl] for lbl in sample_distances.index]\n",
    "g = sns.clustermap(sample_distances, col_colors=row_cols, cmap='bwr', row_colors= row_cols2,\n",
    "                   norm=matplotlib.colors.LogNorm(vmin=30, vmax=250),\n",
    "                   #vmin=0, vmax=10**3,\n",
    "                   method='ward',\n",
    "                  cbar_pos = (-0.13, 0.1, 0.05, 0.5))\n",
    "g.fig.set_size_inches((6,9))\n",
    "# some tweaks\n",
    "patches = []\n",
    "for lbl in ordered_labels_test:\n",
    "    patches.append(mpatches.Patch(color=label_colors_test[lbl], label=lbl))\n",
    "leg = plt.legend(handles=patches, loc=3, bbox_to_anchor=(-0.55, 1.35, 0.5, 1),\n",
    "                     frameon=False, fontsize=14) \n",
    "g.ax_heatmap.set_ylabel('GAN Data', fontsize=20)\n",
    "g.ax_heatmap.set_xlabel('Experimental Data', fontsize=20)\n",
    "g.ax_heatmap.tick_params(axis='both', which='both', bottom=False, top=False, labelbottom=False, right=False,\n",
    "                         labelright=False)\n",
    "\n",
    "# Manually specify colorbar labelling after it's been generated\n",
    "colorbar = g.ax_heatmap.collections[0].colorbar\n",
    "colorbar.ax.tick_params(labelsize=13) \n",
    "plt.text(1, 272.10, 'Distances', fontsize=14, horizontalalignment='center')\n",
    "plt.show()"
   ]
  },
  {
   "cell_type": "code",
   "execution_count": null,
   "id": "da434dfb",
   "metadata": {},
   "outputs": [],
   "source": [
    "sample_distances.min().min()"
   ]
  },
  {
   "cell_type": "code",
   "execution_count": null,
   "id": "18194143",
   "metadata": {},
   "outputs": [],
   "source": [
    "sample_distances.max()"
   ]
  },
  {
   "cell_type": "code",
   "execution_count": null,
   "id": "d2763b94",
   "metadata": {},
   "outputs": [],
   "source": [
    "# Experimental (Real) Data, organize it to have first all samples of a class, then all samples of the other class\n",
    "df = datasets['vitis_types']['NGP'].copy()\n",
    "\n",
    "samp = df.index\n",
    "tg = datasets['vitis_types']['target'].copy()\n",
    "new_order = [x for _, x in sorted(zip(tg, samp))]\n",
    "new_tg = [x for x, _ in sorted(zip(tg, samp))]\n",
    "\n",
    "df = df.loc[new_order]\n",
    "a = scipy.spatial.distance_matrix(df, df)\n",
    "sample_distances = pd.DataFrame(a, index=df.index, columns=df.index).astype('float')"
   ]
  },
  {
   "cell_type": "code",
   "execution_count": null,
   "id": "21dbaac2",
   "metadata": {},
   "outputs": [],
   "source": [
    "sample_distances.max()"
   ]
  },
  {
   "cell_type": "code",
   "execution_count": null,
   "id": "67633c35",
   "metadata": {
    "scrolled": false
   },
   "outputs": [],
   "source": [
    "row_cols = [label_colors_test[lbl] for lbl in new_tg]\n",
    "row_cols2 = [label_colors_test[lbl] for lbl in new_tg]\n",
    "g = sns.clustermap(sample_distances, col_colors=row_cols, cmap='bwr', row_colors= row_cols2,\n",
    "                   norm=matplotlib.colors.LogNorm(vmin=30, vmax=250),\n",
    "                   #vmin=0, vmax=10**3,\n",
    "                   method='ward',\n",
    "                  cbar_pos = (-0.13, 0.1, 0.05, 0.5))\n",
    "g.fig.set_size_inches((6,9))\n",
    "# some tweaks\n",
    "patches = []\n",
    "for lbl in ordered_labels_test:\n",
    "    patches.append(mpatches.Patch(color=label_colors_test[lbl], label=lbl))\n",
    "leg = plt.legend(handles=patches, loc=3, bbox_to_anchor=(-0.55, 1.35, 0.5, 1),\n",
    "                     frameon=False, fontsize=14) \n",
    "g.ax_heatmap.set_ylabel('GAN Data', fontsize=20)\n",
    "g.ax_heatmap.set_xlabel('Experimental Data', fontsize=20)\n",
    "g.ax_heatmap.tick_params(axis='both', which='both', bottom=False, top=False, labelbottom=False, right=False,\n",
    "                         labelright=False)\n",
    "\n",
    "# Manually specify colorbar labelling after it's been generated\n",
    "colorbar = g.ax_heatmap.collections[0].colorbar\n",
    "colorbar.ax.tick_params(labelsize=13) \n",
    "plt.text(1, 272.10, 'Distances', fontsize=14, horizontalalignment='center')\n",
    "plt.show()"
   ]
  },
  {
   "cell_type": "code",
   "execution_count": null,
   "id": "75b0defd",
   "metadata": {},
   "outputs": [],
   "source": []
  }
 ],
 "metadata": {
  "kernelspec": {
   "display_name": "Python 3 (ipykernel)",
   "language": "python",
   "name": "python3"
  },
  "language_info": {
   "codemirror_mode": {
    "name": "ipython",
    "version": 3
   },
   "file_extension": ".py",
   "mimetype": "text/x-python",
   "name": "python",
   "nbconvert_exporter": "python",
   "pygments_lexer": "ipython3",
   "version": "3.9.12"
  },
  "vscode": {
   "interpreter": {
    "hash": "e03b612d84ba21ce95ed447e81b3062e1eb99b56c6d885cdab4aaa12f1b8e240"
   }
  }
 },
 "nbformat": 4,
 "nbformat_minor": 5
}
